{
 "cells": [
  {
   "cell_type": "code",
   "execution_count": 1,
   "id": "9d36d2db",
   "metadata": {},
   "outputs": [
    {
     "name": "stderr",
     "output_type": "stream",
     "text": [
      "C:\\Users\\48504\\AppData\\Local\\Temp\\ipykernel_23900\\3963498875.py:11: MatplotlibDeprecationWarning: The seaborn styles shipped by Matplotlib are deprecated since 3.6, as they no longer correspond to the styles shipped by seaborn. However, they will remain available as 'seaborn-v0_8-<style>'. Alternatively, directly use the seaborn API instead.\n",
      "  plt.style.use('seaborn')\n"
     ]
    }
   ],
   "source": [
    "import pandas as pd\n",
    "from scipy import stats as sps\n",
    "import seaborn as sns\n",
    "sns.set_theme()\n",
    "import numpy as np\n",
    "%matplotlib inline\n",
    "import matplotlib.pyplot as plt\n",
    "import plotly.express as px\n",
    "from unidecode import unidecode\n",
    "from sklearn.impute import KNNImputer\n",
    "plt.style.use('seaborn')\n",
    "pd.options.display.max_columns = 100\n",
    "pd.options.display.max_rows = 40\n",
    "pd.options.display.float_format = '{:,.2f}'.format"
   ]
  },
  {
   "cell_type": "code",
   "execution_count": 2,
   "id": "6fbd3149",
   "metadata": {},
   "outputs": [],
   "source": [
    "URL = \"oto_dom_wroclaw_30_10_2023\""
   ]
  },
  {
   "cell_type": "code",
   "execution_count": 3,
   "id": "18d10af0",
   "metadata": {},
   "outputs": [],
   "source": [
    "#Wczytanie danych\n",
    "df = pd.read_csv(URL, sep=\",\", encoding=\"utf-8\")"
   ]
  },
  {
   "cell_type": "code",
   "execution_count": 4,
   "id": "e9606d35",
   "metadata": {},
   "outputs": [
    {
     "data": {
      "text/html": [
       "<div>\n",
       "<style scoped>\n",
       "    .dataframe tbody tr th:only-of-type {\n",
       "        vertical-align: middle;\n",
       "    }\n",
       "\n",
       "    .dataframe tbody tr th {\n",
       "        vertical-align: top;\n",
       "    }\n",
       "\n",
       "    .dataframe thead th {\n",
       "        text-align: right;\n",
       "    }\n",
       "</style>\n",
       "<table border=\"1\" class=\"dataframe\">\n",
       "  <thead>\n",
       "    <tr style=\"text-align: right;\">\n",
       "      <th></th>\n",
       "      <th>titles</th>\n",
       "      <th>prices</th>\n",
       "      <th>location</th>\n",
       "      <th>area</th>\n",
       "      <th>price per square meter</th>\n",
       "      <th>numbers_of_rooms</th>\n",
       "      <th>urls</th>\n",
       "      <th>property_ownership</th>\n",
       "      <th>condition_of_property</th>\n",
       "      <th>floor</th>\n",
       "      <th>balcon_garden_terrace</th>\n",
       "      <th>amount_of_rent</th>\n",
       "      <th>parking_space</th>\n",
       "      <th>type_of_heating</th>\n",
       "      <th>primary_secondary</th>\n",
       "      <th>seller</th>\n",
       "      <th>year_of_construction</th>\n",
       "      <th>type_of_development</th>\n",
       "      <th>window</th>\n",
       "      <th>lift</th>\n",
       "      <th>utilities</th>\n",
       "      <th>security</th>\n",
       "      <th>home_furnishings</th>\n",
       "      <th>additional_info</th>\n",
       "      <th>bulding_material</th>\n",
       "      <th>describe</th>\n",
       "    </tr>\n",
       "  </thead>\n",
       "  <tbody>\n",
       "    <tr>\n",
       "      <th>0</th>\n",
       "      <td>3 pokoje z zielonym tarasem i balkonem + MP</td>\n",
       "      <td>759000</td>\n",
       "      <td>['Maślice', 'Fabryczna', 'Wrocław', 'dolnośląs...</td>\n",
       "      <td>61,83</td>\n",
       "      <td>12276</td>\n",
       "      <td>3</td>\n",
       "      <td>https://www.otodom.pl/pl/oferta/3-pokoje-z-zie...</td>\n",
       "      <td>pełna własność</td>\n",
       "      <td>do zamieszkania</td>\n",
       "      <td>parter/2</td>\n",
       "      <td>balkon, taras</td>\n",
       "      <td>Zapytaj</td>\n",
       "      <td>garaż/miejsce parkingowe</td>\n",
       "      <td>kotłownia</td>\n",
       "      <td>wtórny</td>\n",
       "      <td>prywatny</td>\n",
       "      <td>2019</td>\n",
       "      <td>blok</td>\n",
       "      <td>plastikowe</td>\n",
       "      <td>tak</td>\n",
       "      <td>internet</td>\n",
       "      <td>drzwi / okna antywłamaniowe, teren zamknięty, ...</td>\n",
       "      <td>zmywarka, lodówka, meble, piekarnik, kuchenka,...</td>\n",
       "      <td>brak informacji</td>\n",
       "      <td>brak informacji</td>\n",
       "      <td>Mam przyjemność przedstawić Państwu ofertę spr...</td>\n",
       "    </tr>\n",
       "    <tr>\n",
       "      <th>1</th>\n",
       "      <td>Maślicka 166 C | mieszkanie K2_2</td>\n",
       "      <td>616161</td>\n",
       "      <td>['ul. Maślicka 166', 'Maślice', 'Fabryczna', '...</td>\n",
       "      <td>67,71</td>\n",
       "      <td>9100</td>\n",
       "      <td>3</td>\n",
       "      <td>https://www.otodom.pl/pl/oferta/maslicka-166-c...</td>\n",
       "      <td>pełna własność</td>\n",
       "      <td>do wykończenia</td>\n",
       "      <td>parter/2</td>\n",
       "      <td>ogródek</td>\n",
       "      <td>Zapytaj</td>\n",
       "      <td>garaż/miejsce parkingowe</td>\n",
       "      <td>gazowe</td>\n",
       "      <td>brak informacji</td>\n",
       "      <td>brak informacji</td>\n",
       "      <td>brak informacji</td>\n",
       "      <td>brak informacji</td>\n",
       "      <td>brak informacji</td>\n",
       "      <td>brak informacji</td>\n",
       "      <td>brak informacji</td>\n",
       "      <td>brak informacji</td>\n",
       "      <td>brak informacji</td>\n",
       "      <td>brak informacji</td>\n",
       "      <td>brak informacji</td>\n",
       "      <td>Kancelaria Insolwencyjna sp. z o.o. we Wrocław...</td>\n",
       "    </tr>\n",
       "    <tr>\n",
       "      <th>2</th>\n",
       "      <td>Bezpieczna/dwustronne/rozkład/co miejskie/piwnica</td>\n",
       "      <td>576000</td>\n",
       "      <td>['Bezpieczna okolice', 'Różanka', 'Psie Pole',...</td>\n",
       "      <td>57,7</td>\n",
       "      <td>9983</td>\n",
       "      <td>3</td>\n",
       "      <td>https://www.otodom.pl/pl/oferta/bezpieczna-dwu...</td>\n",
       "      <td>pełna własność</td>\n",
       "      <td>do zamieszkania</td>\n",
       "      <td>4/4</td>\n",
       "      <td>Zapytaj</td>\n",
       "      <td>Zapytaj</td>\n",
       "      <td>Zapytaj</td>\n",
       "      <td>miejskie</td>\n",
       "      <td>wtórny</td>\n",
       "      <td>biuro nieruchomości</td>\n",
       "      <td>1980</td>\n",
       "      <td>blok</td>\n",
       "      <td>plastikowe</td>\n",
       "      <td>nie</td>\n",
       "      <td>internet, telefon</td>\n",
       "      <td>drzwi / okna antywłamaniowe, domofon / wideofon</td>\n",
       "      <td>meble</td>\n",
       "      <td>piwnica, oddzielna kuchnia</td>\n",
       "      <td>brak informacji</td>\n",
       "      <td>Trzy pokoje w pełnym rozkładzie!Możliwość prze...</td>\n",
       "    </tr>\n",
       "    <tr>\n",
       "      <th>3</th>\n",
       "      <td>Piłsudskiego/ super/ m. miejskie/ balkon /piwnica</td>\n",
       "      <td>470000</td>\n",
       "      <td>['ul. marsz. Józefa Piłsudskiego', 'Przedmieśc...</td>\n",
       "      <td>40</td>\n",
       "      <td>11750</td>\n",
       "      <td>1</td>\n",
       "      <td>https://www.otodom.pl/pl/oferta/pilsudskiego-s...</td>\n",
       "      <td>Zapytaj</td>\n",
       "      <td>do zamieszkania</td>\n",
       "      <td>3/4</td>\n",
       "      <td>balkon</td>\n",
       "      <td>Zapytaj</td>\n",
       "      <td>Zapytaj</td>\n",
       "      <td>miejskie</td>\n",
       "      <td>wtórny</td>\n",
       "      <td>biuro nieruchomości</td>\n",
       "      <td>1969</td>\n",
       "      <td>blok</td>\n",
       "      <td>brak informacji</td>\n",
       "      <td>tak</td>\n",
       "      <td>internet, telefon</td>\n",
       "      <td>brak informacji</td>\n",
       "      <td>meble</td>\n",
       "      <td>piwnica, oddzielna kuchnia</td>\n",
       "      <td>brak informacji</td>\n",
       "      <td>Do sprzedania duża kawalerka z balkonem w cent...</td>\n",
       "    </tr>\n",
       "    <tr>\n",
       "      <th>4</th>\n",
       "      <td>Mieszkanie, 61 m², Wrocław</td>\n",
       "      <td>633000</td>\n",
       "      <td>['Tarnogaj', 'Krzyki', 'Wrocław', 'dolnośląskie']</td>\n",
       "      <td>61</td>\n",
       "      <td>10377</td>\n",
       "      <td>3</td>\n",
       "      <td>https://www.otodom.pl/pl/oferta/mieszkanie-61-...</td>\n",
       "      <td>pełna własność</td>\n",
       "      <td>do wykończenia</td>\n",
       "      <td>2/4</td>\n",
       "      <td>balkon</td>\n",
       "      <td>Zapytaj</td>\n",
       "      <td>garaż/miejsce parkingowe</td>\n",
       "      <td>miejskie</td>\n",
       "      <td>wtórny</td>\n",
       "      <td>biuro nieruchomości</td>\n",
       "      <td>2022</td>\n",
       "      <td>apartamentowiec</td>\n",
       "      <td>plastikowe</td>\n",
       "      <td>tak</td>\n",
       "      <td>brak informacji</td>\n",
       "      <td>system alarmowy</td>\n",
       "      <td>brak informacji</td>\n",
       "      <td>piwnica</td>\n",
       "      <td>cegła</td>\n",
       "      <td>| Drzwi wejściowe w najwyższej klasie - C - od...</td>\n",
       "    </tr>\n",
       "  </tbody>\n",
       "</table>\n",
       "</div>"
      ],
      "text/plain": [
       "                                              titles  prices  \\\n",
       "0        3 pokoje z zielonym tarasem i balkonem + MP  759000   \n",
       "1                   Maślicka 166 C | mieszkanie K2_2  616161   \n",
       "2  Bezpieczna/dwustronne/rozkład/co miejskie/piwnica  576000   \n",
       "3  Piłsudskiego/ super/ m. miejskie/ balkon /piwnica  470000   \n",
       "4                         Mieszkanie, 61 m², Wrocław  633000   \n",
       "\n",
       "                                            location   area  \\\n",
       "0  ['Maślice', 'Fabryczna', 'Wrocław', 'dolnośląs...  61,83   \n",
       "1  ['ul. Maślicka 166', 'Maślice', 'Fabryczna', '...  67,71   \n",
       "2  ['Bezpieczna okolice', 'Różanka', 'Psie Pole',...   57,7   \n",
       "3  ['ul. marsz. Józefa Piłsudskiego', 'Przedmieśc...     40   \n",
       "4  ['Tarnogaj', 'Krzyki', 'Wrocław', 'dolnośląskie']     61   \n",
       "\n",
       "   price per square meter numbers_of_rooms  \\\n",
       "0                   12276                3   \n",
       "1                    9100                3   \n",
       "2                    9983                3   \n",
       "3                   11750                1   \n",
       "4                   10377                3   \n",
       "\n",
       "                                                urls property_ownership  \\\n",
       "0  https://www.otodom.pl/pl/oferta/3-pokoje-z-zie...     pełna własność   \n",
       "1  https://www.otodom.pl/pl/oferta/maslicka-166-c...     pełna własność   \n",
       "2  https://www.otodom.pl/pl/oferta/bezpieczna-dwu...     pełna własność   \n",
       "3  https://www.otodom.pl/pl/oferta/pilsudskiego-s...            Zapytaj   \n",
       "4  https://www.otodom.pl/pl/oferta/mieszkanie-61-...     pełna własność   \n",
       "\n",
       "  condition_of_property     floor balcon_garden_terrace amount_of_rent  \\\n",
       "0       do zamieszkania  parter/2         balkon, taras        Zapytaj   \n",
       "1        do wykończenia  parter/2               ogródek        Zapytaj   \n",
       "2       do zamieszkania       4/4               Zapytaj        Zapytaj   \n",
       "3       do zamieszkania       3/4                balkon        Zapytaj   \n",
       "4        do wykończenia       2/4                balkon        Zapytaj   \n",
       "\n",
       "              parking_space type_of_heating primary_secondary  \\\n",
       "0  garaż/miejsce parkingowe       kotłownia            wtórny   \n",
       "1  garaż/miejsce parkingowe          gazowe   brak informacji   \n",
       "2                   Zapytaj        miejskie            wtórny   \n",
       "3                   Zapytaj        miejskie            wtórny   \n",
       "4  garaż/miejsce parkingowe        miejskie            wtórny   \n",
       "\n",
       "                 seller year_of_construction type_of_development  \\\n",
       "0              prywatny                 2019                blok   \n",
       "1       brak informacji      brak informacji     brak informacji   \n",
       "2  biuro nieruchomości                  1980                blok   \n",
       "3  biuro nieruchomości                  1969                blok   \n",
       "4  biuro nieruchomości                  2022     apartamentowiec   \n",
       "\n",
       "            window             lift          utilities  \\\n",
       "0       plastikowe              tak           internet   \n",
       "1  brak informacji  brak informacji    brak informacji   \n",
       "2       plastikowe              nie  internet, telefon   \n",
       "3  brak informacji              tak  internet, telefon   \n",
       "4       plastikowe              tak    brak informacji   \n",
       "\n",
       "                                            security  \\\n",
       "0  drzwi / okna antywłamaniowe, teren zamknięty, ...   \n",
       "1                                    brak informacji   \n",
       "2    drzwi / okna antywłamaniowe, domofon / wideofon   \n",
       "3                                    brak informacji   \n",
       "4                                    system alarmowy   \n",
       "\n",
       "                                    home_furnishings  \\\n",
       "0  zmywarka, lodówka, meble, piekarnik, kuchenka,...   \n",
       "1                                    brak informacji   \n",
       "2                                              meble   \n",
       "3                                              meble   \n",
       "4                                    brak informacji   \n",
       "\n",
       "              additional_info bulding_material  \\\n",
       "0             brak informacji  brak informacji   \n",
       "1             brak informacji  brak informacji   \n",
       "2  piwnica, oddzielna kuchnia  brak informacji   \n",
       "3  piwnica, oddzielna kuchnia  brak informacji   \n",
       "4                     piwnica            cegła   \n",
       "\n",
       "                                            describe  \n",
       "0  Mam przyjemność przedstawić Państwu ofertę spr...  \n",
       "1  Kancelaria Insolwencyjna sp. z o.o. we Wrocław...  \n",
       "2  Trzy pokoje w pełnym rozkładzie!Możliwość prze...  \n",
       "3  Do sprzedania duża kawalerka z balkonem w cent...  \n",
       "4  | Drzwi wejściowe w najwyższej klasie - C - od...  "
      ]
     },
     "execution_count": 4,
     "metadata": {},
     "output_type": "execute_result"
    }
   ],
   "source": [
    "#Wyświetlenie 5 pierwszych wierszy\n",
    "df.head()"
   ]
  },
  {
   "cell_type": "code",
   "execution_count": 5,
   "id": "02c1309f",
   "metadata": {
    "scrolled": false
   },
   "outputs": [
    {
     "data": {
      "text/html": [
       "<div>\n",
       "<style scoped>\n",
       "    .dataframe tbody tr th:only-of-type {\n",
       "        vertical-align: middle;\n",
       "    }\n",
       "\n",
       "    .dataframe tbody tr th {\n",
       "        vertical-align: top;\n",
       "    }\n",
       "\n",
       "    .dataframe thead th {\n",
       "        text-align: right;\n",
       "    }\n",
       "</style>\n",
       "<table border=\"1\" class=\"dataframe\">\n",
       "  <thead>\n",
       "    <tr style=\"text-align: right;\">\n",
       "      <th></th>\n",
       "      <th>titles</th>\n",
       "      <th>prices</th>\n",
       "      <th>location</th>\n",
       "      <th>area</th>\n",
       "      <th>price per square meter</th>\n",
       "      <th>numbers_of_rooms</th>\n",
       "      <th>urls</th>\n",
       "      <th>property_ownership</th>\n",
       "      <th>condition_of_property</th>\n",
       "      <th>floor</th>\n",
       "      <th>balcon_garden_terrace</th>\n",
       "      <th>amount_of_rent</th>\n",
       "      <th>parking_space</th>\n",
       "      <th>type_of_heating</th>\n",
       "      <th>primary_secondary</th>\n",
       "      <th>seller</th>\n",
       "      <th>year_of_construction</th>\n",
       "      <th>type_of_development</th>\n",
       "      <th>window</th>\n",
       "      <th>lift</th>\n",
       "      <th>utilities</th>\n",
       "      <th>security</th>\n",
       "      <th>home_furnishings</th>\n",
       "      <th>additional_info</th>\n",
       "      <th>bulding_material</th>\n",
       "      <th>describe</th>\n",
       "    </tr>\n",
       "  </thead>\n",
       "  <tbody>\n",
       "    <tr>\n",
       "      <th>7840</th>\n",
       "      <td>Mieszkanie trzypokojowe w rewelacyjnej lokaliz...</td>\n",
       "      <td>815005</td>\n",
       "      <td>['ul. Wesoła', 'Huby', 'Krzyki', 'Wrocław', 'd...</td>\n",
       "      <td>70,87</td>\n",
       "      <td>11500</td>\n",
       "      <td>3</td>\n",
       "      <td>https://www.otodom.pl/pl/oferta/mieszkanie-trz...</td>\n",
       "      <td>pełna własność</td>\n",
       "      <td>do zamieszkania</td>\n",
       "      <td>1/3</td>\n",
       "      <td>balkon</td>\n",
       "      <td>Zapytaj</td>\n",
       "      <td>Zapytaj</td>\n",
       "      <td>gazowe</td>\n",
       "      <td>wtórny</td>\n",
       "      <td>prywatny</td>\n",
       "      <td>1906</td>\n",
       "      <td>kamienica</td>\n",
       "      <td>plastikowe</td>\n",
       "      <td>nie</td>\n",
       "      <td>telewizja kablowa, internet, telefon</td>\n",
       "      <td>domofon / wideofon</td>\n",
       "      <td>zmywarka, lodówka, meble, piekarnik, kuchenka,...</td>\n",
       "      <td>piwnica, oddzielna kuchnia</td>\n",
       "      <td>cegła</td>\n",
       "      <td>Sprzedam trzypokojowe mieszkanie w bardzo dobr...</td>\n",
       "    </tr>\n",
       "    <tr>\n",
       "      <th>7841</th>\n",
       "      <td>Okazja, ul. Rydygiera 82m2, 4 pokoje, 2 łazienki!</td>\n",
       "      <td>1222000</td>\n",
       "      <td>['ul. Ludwika Rydygiera', 'Nadodrze', 'Śródmie...</td>\n",
       "      <td>82</td>\n",
       "      <td>14902</td>\n",
       "      <td>4</td>\n",
       "      <td>https://www.otodom.pl/pl/oferta/okazja-ul-rydy...</td>\n",
       "      <td>pełna własność</td>\n",
       "      <td>do zamieszkania</td>\n",
       "      <td>3/3</td>\n",
       "      <td>balkon</td>\n",
       "      <td>1 000 zł</td>\n",
       "      <td>Zapytaj</td>\n",
       "      <td>Zapytaj</td>\n",
       "      <td>wtórny</td>\n",
       "      <td>biuro nieruchomości</td>\n",
       "      <td>2011</td>\n",
       "      <td>brak informacji</td>\n",
       "      <td>plastikowe</td>\n",
       "      <td>nie</td>\n",
       "      <td>brak informacji</td>\n",
       "      <td>brak informacji</td>\n",
       "      <td>meble</td>\n",
       "      <td>brak informacji</td>\n",
       "      <td>brak informacji</td>\n",
       "      <td>Zapraszamy do odkrycia wyjątkowej oferty miesz...</td>\n",
       "    </tr>\n",
       "    <tr>\n",
       "      <th>7842</th>\n",
       "      <td>ładne 2 pokojowe</td>\n",
       "      <td>489000</td>\n",
       "      <td>['ul. Jedności Narodowej', 'Ołbin', 'Śródmieśc...</td>\n",
       "      <td>54</td>\n",
       "      <td>9056</td>\n",
       "      <td>2</td>\n",
       "      <td>https://www.otodom.pl/pl/oferta/ladne-2-pokojo...</td>\n",
       "      <td>pełna własność</td>\n",
       "      <td>do zamieszkania</td>\n",
       "      <td>4/5</td>\n",
       "      <td>Zapytaj</td>\n",
       "      <td>Zapytaj</td>\n",
       "      <td>Zapytaj</td>\n",
       "      <td>miejskie</td>\n",
       "      <td>wtórny</td>\n",
       "      <td>biuro nieruchomości</td>\n",
       "      <td>1930</td>\n",
       "      <td>kamienica</td>\n",
       "      <td>brak informacji</td>\n",
       "      <td>nie</td>\n",
       "      <td>brak informacji</td>\n",
       "      <td>brak informacji</td>\n",
       "      <td>brak informacji</td>\n",
       "      <td>brak informacji</td>\n",
       "      <td>cegła</td>\n",
       "      <td>Do sprzedaży śliczne 2 pokojowe mieszkanie o p...</td>\n",
       "    </tr>\n",
       "    <tr>\n",
       "      <th>7843</th>\n",
       "      <td>Penthouse z widokiem na miasto - Wysoki Standard!</td>\n",
       "      <td>1488000</td>\n",
       "      <td>['ul. Długa', 'Nadodrze', 'Śródmieście', 'Wroc...</td>\n",
       "      <td>79,19</td>\n",
       "      <td>18790</td>\n",
       "      <td>2</td>\n",
       "      <td>https://www.otodom.pl/pl/oferta/penthouse-z-wi...</td>\n",
       "      <td>pełna własność</td>\n",
       "      <td>do zamieszkania</td>\n",
       "      <td>8/8</td>\n",
       "      <td>taras</td>\n",
       "      <td>Zapytaj</td>\n",
       "      <td>Zapytaj</td>\n",
       "      <td>miejskie</td>\n",
       "      <td>wtórny</td>\n",
       "      <td>biuro nieruchomości</td>\n",
       "      <td>2010</td>\n",
       "      <td>blok</td>\n",
       "      <td>brak informacji</td>\n",
       "      <td>tak</td>\n",
       "      <td>internet</td>\n",
       "      <td>teren zamknięty, monitoring / ochrona</td>\n",
       "      <td>brak informacji</td>\n",
       "      <td>pom. użytkowe</td>\n",
       "      <td>silikat</td>\n",
       "      <td>Wrocław. Długa. Dwupokojowy apartament z taras...</td>\n",
       "    </tr>\n",
       "    <tr>\n",
       "      <th>7844</th>\n",
       "      <td>Lokal mieszkalny i działka</td>\n",
       "      <td>471850,40</td>\n",
       "      <td>['Przedmieście Świdnickie', 'Stare Miasto', 'W...</td>\n",
       "      <td>55,45</td>\n",
       "      <td>8509</td>\n",
       "      <td>3</td>\n",
       "      <td>https://www.otodom.pl/pl/oferta/lokal-mieszkal...</td>\n",
       "      <td>Zapytaj</td>\n",
       "      <td>Zapytaj</td>\n",
       "      <td>parter</td>\n",
       "      <td>Zapytaj</td>\n",
       "      <td>Zapytaj</td>\n",
       "      <td>Zapytaj</td>\n",
       "      <td>Zapytaj</td>\n",
       "      <td>wtórny</td>\n",
       "      <td>prywatny</td>\n",
       "      <td>brak informacji</td>\n",
       "      <td>blok</td>\n",
       "      <td>brak informacji</td>\n",
       "      <td>nie</td>\n",
       "      <td>brak informacji</td>\n",
       "      <td>brak informacji</td>\n",
       "      <td>brak informacji</td>\n",
       "      <td>brak informacji</td>\n",
       "      <td>brak informacji</td>\n",
       "      <td>Syndyk Izabeli Sowińskiej osoby fizycznej niep...</td>\n",
       "    </tr>\n",
       "  </tbody>\n",
       "</table>\n",
       "</div>"
      ],
      "text/plain": [
       "                                                 titles     prices  \\\n",
       "7840  Mieszkanie trzypokojowe w rewelacyjnej lokaliz...     815005   \n",
       "7841  Okazja, ul. Rydygiera 82m2, 4 pokoje, 2 łazienki!    1222000   \n",
       "7842                                   ładne 2 pokojowe     489000   \n",
       "7843  Penthouse z widokiem na miasto - Wysoki Standard!    1488000   \n",
       "7844                         Lokal mieszkalny i działka  471850,40   \n",
       "\n",
       "                                               location   area  \\\n",
       "7840  ['ul. Wesoła', 'Huby', 'Krzyki', 'Wrocław', 'd...  70,87   \n",
       "7841  ['ul. Ludwika Rydygiera', 'Nadodrze', 'Śródmie...     82   \n",
       "7842  ['ul. Jedności Narodowej', 'Ołbin', 'Śródmieśc...     54   \n",
       "7843  ['ul. Długa', 'Nadodrze', 'Śródmieście', 'Wroc...  79,19   \n",
       "7844  ['Przedmieście Świdnickie', 'Stare Miasto', 'W...  55,45   \n",
       "\n",
       "      price per square meter numbers_of_rooms  \\\n",
       "7840                   11500                3   \n",
       "7841                   14902                4   \n",
       "7842                    9056                2   \n",
       "7843                   18790                2   \n",
       "7844                    8509                3   \n",
       "\n",
       "                                                   urls property_ownership  \\\n",
       "7840  https://www.otodom.pl/pl/oferta/mieszkanie-trz...     pełna własność   \n",
       "7841  https://www.otodom.pl/pl/oferta/okazja-ul-rydy...     pełna własność   \n",
       "7842  https://www.otodom.pl/pl/oferta/ladne-2-pokojo...     pełna własność   \n",
       "7843  https://www.otodom.pl/pl/oferta/penthouse-z-wi...     pełna własność   \n",
       "7844  https://www.otodom.pl/pl/oferta/lokal-mieszkal...            Zapytaj   \n",
       "\n",
       "     condition_of_property   floor balcon_garden_terrace amount_of_rent  \\\n",
       "7840       do zamieszkania     1/3                balkon        Zapytaj   \n",
       "7841       do zamieszkania     3/3                balkon       1 000 zł   \n",
       "7842       do zamieszkania     4/5               Zapytaj        Zapytaj   \n",
       "7843       do zamieszkania     8/8                 taras        Zapytaj   \n",
       "7844               Zapytaj  parter               Zapytaj        Zapytaj   \n",
       "\n",
       "     parking_space type_of_heating primary_secondary                seller  \\\n",
       "7840       Zapytaj          gazowe            wtórny              prywatny   \n",
       "7841       Zapytaj         Zapytaj            wtórny  biuro nieruchomości    \n",
       "7842       Zapytaj        miejskie            wtórny  biuro nieruchomości    \n",
       "7843       Zapytaj        miejskie            wtórny  biuro nieruchomości    \n",
       "7844       Zapytaj         Zapytaj            wtórny              prywatny   \n",
       "\n",
       "     year_of_construction type_of_development           window lift  \\\n",
       "7840                 1906           kamienica       plastikowe  nie   \n",
       "7841                 2011     brak informacji       plastikowe  nie   \n",
       "7842                 1930           kamienica  brak informacji  nie   \n",
       "7843                 2010                blok  brak informacji  tak   \n",
       "7844      brak informacji                blok  brak informacji  nie   \n",
       "\n",
       "                                 utilities  \\\n",
       "7840  telewizja kablowa, internet, telefon   \n",
       "7841                       brak informacji   \n",
       "7842                       brak informacji   \n",
       "7843                              internet   \n",
       "7844                       brak informacji   \n",
       "\n",
       "                                   security  \\\n",
       "7840                     domofon / wideofon   \n",
       "7841                        brak informacji   \n",
       "7842                        brak informacji   \n",
       "7843  teren zamknięty, monitoring / ochrona   \n",
       "7844                        brak informacji   \n",
       "\n",
       "                                       home_furnishings  \\\n",
       "7840  zmywarka, lodówka, meble, piekarnik, kuchenka,...   \n",
       "7841                                              meble   \n",
       "7842                                    brak informacji   \n",
       "7843                                    brak informacji   \n",
       "7844                                    brak informacji   \n",
       "\n",
       "                 additional_info bulding_material  \\\n",
       "7840  piwnica, oddzielna kuchnia            cegła   \n",
       "7841             brak informacji  brak informacji   \n",
       "7842             brak informacji            cegła   \n",
       "7843               pom. użytkowe          silikat   \n",
       "7844             brak informacji  brak informacji   \n",
       "\n",
       "                                               describe  \n",
       "7840  Sprzedam trzypokojowe mieszkanie w bardzo dobr...  \n",
       "7841  Zapraszamy do odkrycia wyjątkowej oferty miesz...  \n",
       "7842  Do sprzedaży śliczne 2 pokojowe mieszkanie o p...  \n",
       "7843  Wrocław. Długa. Dwupokojowy apartament z taras...  \n",
       "7844  Syndyk Izabeli Sowińskiej osoby fizycznej niep...  "
      ]
     },
     "execution_count": 5,
     "metadata": {},
     "output_type": "execute_result"
    }
   ],
   "source": [
    "#Wyświetlenie 5 ostatnich wierszy\n",
    "df.tail()"
   ]
  },
  {
   "cell_type": "code",
   "execution_count": 6,
   "id": "96bef1fb",
   "metadata": {},
   "outputs": [
    {
     "data": {
      "text/html": [
       "<div>\n",
       "<style scoped>\n",
       "    .dataframe tbody tr th:only-of-type {\n",
       "        vertical-align: middle;\n",
       "    }\n",
       "\n",
       "    .dataframe tbody tr th {\n",
       "        vertical-align: top;\n",
       "    }\n",
       "\n",
       "    .dataframe thead th {\n",
       "        text-align: right;\n",
       "    }\n",
       "</style>\n",
       "<table border=\"1\" class=\"dataframe\">\n",
       "  <thead>\n",
       "    <tr style=\"text-align: right;\">\n",
       "      <th></th>\n",
       "      <th>titles</th>\n",
       "      <th>prices</th>\n",
       "      <th>location</th>\n",
       "      <th>area</th>\n",
       "      <th>price per square meter</th>\n",
       "      <th>numbers_of_rooms</th>\n",
       "      <th>urls</th>\n",
       "      <th>property_ownership</th>\n",
       "      <th>condition_of_property</th>\n",
       "      <th>floor</th>\n",
       "      <th>balcon_garden_terrace</th>\n",
       "      <th>amount_of_rent</th>\n",
       "      <th>parking_space</th>\n",
       "      <th>type_of_heating</th>\n",
       "      <th>primary_secondary</th>\n",
       "      <th>seller</th>\n",
       "      <th>year_of_construction</th>\n",
       "      <th>type_of_development</th>\n",
       "      <th>window</th>\n",
       "      <th>lift</th>\n",
       "      <th>utilities</th>\n",
       "      <th>security</th>\n",
       "      <th>home_furnishings</th>\n",
       "      <th>additional_info</th>\n",
       "      <th>bulding_material</th>\n",
       "      <th>describe</th>\n",
       "    </tr>\n",
       "  </thead>\n",
       "  <tbody>\n",
       "    <tr>\n",
       "      <th>6822</th>\n",
       "      <td>Nowe mieszkanie, 2.E.2.1</td>\n",
       "      <td>878900</td>\n",
       "      <td>['ul. Maślicka', 'Maślice', 'Fabryczna', 'Wroc...</td>\n",
       "      <td>95,91</td>\n",
       "      <td>9164</td>\n",
       "      <td>4</td>\n",
       "      <td>https://www.otodom.pl/pl/oferta/nowe-mieszkani...</td>\n",
       "      <td>pełna własność</td>\n",
       "      <td>do wykończenia</td>\n",
       "      <td>2/2</td>\n",
       "      <td>balkon</td>\n",
       "      <td>Zapytaj</td>\n",
       "      <td>Zapytaj</td>\n",
       "      <td>miejskie</td>\n",
       "      <td>pierwotny</td>\n",
       "      <td>deweloper</td>\n",
       "      <td>2023</td>\n",
       "      <td>blok</td>\n",
       "      <td>plastikowe</td>\n",
       "      <td>nie</td>\n",
       "      <td>brak informacji</td>\n",
       "      <td>brak informacji</td>\n",
       "      <td>brak informacji</td>\n",
       "      <td>dwupoziomowe</td>\n",
       "      <td>silikat</td>\n",
       "      <td>Przedmiotem sprzedaży jest nowe mieszkanie z a...</td>\n",
       "    </tr>\n",
       "    <tr>\n",
       "      <th>7324</th>\n",
       "      <td>Apartament przy ul. Grunwaldzkiej</td>\n",
       "      <td>850000</td>\n",
       "      <td>['ul. Grunwaldzka', 'Ołbin', 'Śródmieście', 'W...</td>\n",
       "      <td>100,98</td>\n",
       "      <td>8418</td>\n",
       "      <td>3</td>\n",
       "      <td>https://www.otodom.pl/pl/oferta/apartament-prz...</td>\n",
       "      <td>Zapytaj</td>\n",
       "      <td>do zamieszkania</td>\n",
       "      <td>4/4</td>\n",
       "      <td>Zapytaj</td>\n",
       "      <td>500 zł</td>\n",
       "      <td>Zapytaj</td>\n",
       "      <td>gazowe</td>\n",
       "      <td>wtórny</td>\n",
       "      <td>biuro nieruchomości</td>\n",
       "      <td>1928</td>\n",
       "      <td>kamienica</td>\n",
       "      <td>brak informacji</td>\n",
       "      <td>nie</td>\n",
       "      <td>brak informacji</td>\n",
       "      <td>domofon / wideofon</td>\n",
       "      <td>meble, lodówka, zmywarka</td>\n",
       "      <td>brak informacji</td>\n",
       "      <td>brak informacji</td>\n",
       "      <td>Do sprzedania jest przestronne, reprezentacyjn...</td>\n",
       "    </tr>\n",
       "    <tr>\n",
       "      <th>392</th>\n",
       "      <td>Mieszkanie, 49,70 m², Wrocław</td>\n",
       "      <td>559000</td>\n",
       "      <td>['Karłowice', 'Psie Pole', 'Wrocław', 'dolnośl...</td>\n",
       "      <td>49,7</td>\n",
       "      <td>11247</td>\n",
       "      <td>2</td>\n",
       "      <td>https://www.otodom.pl/pl/oferta/mieszkanie-49-...</td>\n",
       "      <td>pełna własność</td>\n",
       "      <td>Zapytaj</td>\n",
       "      <td>parter/3</td>\n",
       "      <td>taras</td>\n",
       "      <td>600 zł</td>\n",
       "      <td>Zapytaj</td>\n",
       "      <td>miejskie</td>\n",
       "      <td>wtórny</td>\n",
       "      <td>biuro nieruchomości</td>\n",
       "      <td>2010</td>\n",
       "      <td>apartamentowiec</td>\n",
       "      <td>plastikowe</td>\n",
       "      <td>tak</td>\n",
       "      <td>telewizja kablowa, internet</td>\n",
       "      <td>drzwi / okna antywłamaniowe, domofon / wideofo...</td>\n",
       "      <td>meble</td>\n",
       "      <td>brak informacji</td>\n",
       "      <td>brak informacji</td>\n",
       "      <td>Mam na sprzedaż mieszkanie z ogromnym potencja...</td>\n",
       "    </tr>\n",
       "    <tr>\n",
       "      <th>3528</th>\n",
       "      <td>Mieszkanie 34,60, 2 pokoje, T. Kościuszki</td>\n",
       "      <td>455000</td>\n",
       "      <td>['ul. Tadeusza Kościuszki', 'Przedmieście Oław...</td>\n",
       "      <td>34,6</td>\n",
       "      <td>13150</td>\n",
       "      <td>2</td>\n",
       "      <td>https://www.otodom.pl/pl/oferta/mieszkanie-34-...</td>\n",
       "      <td>pełna własność</td>\n",
       "      <td>do zamieszkania</td>\n",
       "      <td>5/6</td>\n",
       "      <td>balkon</td>\n",
       "      <td>400 zł</td>\n",
       "      <td>Zapytaj</td>\n",
       "      <td>miejskie</td>\n",
       "      <td>wtórny</td>\n",
       "      <td>biuro nieruchomości</td>\n",
       "      <td>2002</td>\n",
       "      <td>blok</td>\n",
       "      <td>plastikowe</td>\n",
       "      <td>nie</td>\n",
       "      <td>brak informacji</td>\n",
       "      <td>drzwi / okna antywłamaniowe, domofon / wideofon</td>\n",
       "      <td>zmywarka, lodówka, meble, piekarnik, kuchenka,...</td>\n",
       "      <td>brak informacji</td>\n",
       "      <td>inne</td>\n",
       "      <td>Informacje ogólne:    Przedstawiona nieruchomo...</td>\n",
       "    </tr>\n",
       "    <tr>\n",
       "      <th>4373</th>\n",
       "      <td>2 Pok.| 45,35m2 | ul. Jaracza | 2 Balkony | Bk2%!</td>\n",
       "      <td>595000</td>\n",
       "      <td>['Ołbin', 'Śródmieście', 'Wrocław', 'dolnośląs...</td>\n",
       "      <td>45,35</td>\n",
       "      <td>13120</td>\n",
       "      <td>2</td>\n",
       "      <td>https://www.otodom.pl/pl/oferta/2-pok-45-35m2-...</td>\n",
       "      <td>pełna własność</td>\n",
       "      <td>Zapytaj</td>\n",
       "      <td>3/4</td>\n",
       "      <td>balkon</td>\n",
       "      <td>340 zł</td>\n",
       "      <td>Zapytaj</td>\n",
       "      <td>gazowe</td>\n",
       "      <td>wtórny</td>\n",
       "      <td>biuro nieruchomości</td>\n",
       "      <td>2003</td>\n",
       "      <td>brak informacji</td>\n",
       "      <td>plastikowe</td>\n",
       "      <td>nie</td>\n",
       "      <td>telewizja kablowa, internet</td>\n",
       "      <td>drzwi / okna antywłamaniowe, monitoring / ochrona</td>\n",
       "      <td>brak informacji</td>\n",
       "      <td>brak informacji</td>\n",
       "      <td>brak informacji</td>\n",
       "      <td>Na sprzedaż przestronne mieszkanie 2 pokojowe ...</td>\n",
       "    </tr>\n",
       "    <tr>\n",
       "      <th>2365</th>\n",
       "      <td>Kawalerka W Centrum , Kamienica 330cm wysokość!</td>\n",
       "      <td>508375</td>\n",
       "      <td>['ul. Hugona Kołłątaja', 'Przedmieście Świdnic...</td>\n",
       "      <td>29,05</td>\n",
       "      <td>17500</td>\n",
       "      <td>1</td>\n",
       "      <td>https://www.otodom.pl/pl/oferta/kawalerka-w-ce...</td>\n",
       "      <td>pełna własność</td>\n",
       "      <td>do wykończenia</td>\n",
       "      <td>3/6</td>\n",
       "      <td>Zapytaj</td>\n",
       "      <td>Zapytaj</td>\n",
       "      <td>Zapytaj</td>\n",
       "      <td>miejskie</td>\n",
       "      <td>pierwotny</td>\n",
       "      <td>biuro nieruchomości</td>\n",
       "      <td>2023</td>\n",
       "      <td>kamienica</td>\n",
       "      <td>brak informacji</td>\n",
       "      <td>tak</td>\n",
       "      <td>internet</td>\n",
       "      <td>domofon / wideofon</td>\n",
       "      <td>brak informacji</td>\n",
       "      <td>brak informacji</td>\n",
       "      <td>cegła</td>\n",
       "      <td>OGŁOSZENIE BEZPOŚREDNIO OD WŁAŚCICIELA! Bez pr...</td>\n",
       "    </tr>\n",
       "    <tr>\n",
       "      <th>3099</th>\n",
       "      <td>Nowe osiedle/2 pokoje/Dużo zieleni/Winda</td>\n",
       "      <td>540000</td>\n",
       "      <td>['ul. Księska', 'Księże', 'Krzyki', 'Wrocław',...</td>\n",
       "      <td>48,5</td>\n",
       "      <td>11134</td>\n",
       "      <td>2</td>\n",
       "      <td>https://www.otodom.pl/pl/oferta/nowe-osiedle-2...</td>\n",
       "      <td>pełna własność</td>\n",
       "      <td>Zapytaj</td>\n",
       "      <td>1/2</td>\n",
       "      <td>balkon</td>\n",
       "      <td>Zapytaj</td>\n",
       "      <td>garaż/miejsce parkingowe</td>\n",
       "      <td>miejskie</td>\n",
       "      <td>pierwotny</td>\n",
       "      <td>biuro nieruchomości</td>\n",
       "      <td>2025</td>\n",
       "      <td>brak informacji</td>\n",
       "      <td>plastikowe</td>\n",
       "      <td>tak</td>\n",
       "      <td>brak informacji</td>\n",
       "      <td>brak informacji</td>\n",
       "      <td>brak informacji</td>\n",
       "      <td>oddzielna kuchnia</td>\n",
       "      <td>silikat</td>\n",
       "      <td>2 pokoje/ Nowoczesne osiedle/ Dużo zieleni/Win...</td>\n",
       "    </tr>\n",
       "    <tr>\n",
       "      <th>2130</th>\n",
       "      <td>GOTOWE 2M na START_NA WYNAJEM|Komunikacja_zieleń</td>\n",
       "      <td>549000</td>\n",
       "      <td>['Tarnogaj', 'Krzyki', 'Wrocław', 'dolnośląskie']</td>\n",
       "      <td>36</td>\n",
       "      <td>15250</td>\n",
       "      <td>2</td>\n",
       "      <td>https://www.otodom.pl/pl/oferta/gotowe-2m-na-s...</td>\n",
       "      <td>pełna własność</td>\n",
       "      <td>do zamieszkania</td>\n",
       "      <td>parter/4</td>\n",
       "      <td>ogródek, taras</td>\n",
       "      <td>460 zł</td>\n",
       "      <td>garaż/miejsce parkingowe</td>\n",
       "      <td>miejskie</td>\n",
       "      <td>wtórny</td>\n",
       "      <td>biuro nieruchomości</td>\n",
       "      <td>2022</td>\n",
       "      <td>blok</td>\n",
       "      <td>plastikowe</td>\n",
       "      <td>tak</td>\n",
       "      <td>internet</td>\n",
       "      <td>drzwi / okna antywłamaniowe, teren zamknięty, ...</td>\n",
       "      <td>zmywarka, lodówka, meble, piekarnik, kuchenka,...</td>\n",
       "      <td>brak informacji</td>\n",
       "      <td>inne</td>\n",
       "      <td>Przedstawiam Państwu na sprzedaż klimatyczne N...</td>\n",
       "    </tr>\n",
       "    <tr>\n",
       "      <th>4209</th>\n",
       "      <td>NOWY ETAP|Tylko2 takie mieszkania|Kredyt2%|Spr...</td>\n",
       "      <td>343500</td>\n",
       "      <td>['ul. Społeczna', 'Brochów', 'Krzyki', 'Wrocła...</td>\n",
       "      <td>31</td>\n",
       "      <td>11081</td>\n",
       "      <td>2</td>\n",
       "      <td>https://www.otodom.pl/pl/oferta/nowy-etap-tylk...</td>\n",
       "      <td>pełna własność</td>\n",
       "      <td>Zapytaj</td>\n",
       "      <td>1</td>\n",
       "      <td>balkon</td>\n",
       "      <td>Zapytaj</td>\n",
       "      <td>garaż/miejsce parkingowe</td>\n",
       "      <td>miejskie</td>\n",
       "      <td>pierwotny</td>\n",
       "      <td>biuro nieruchomości</td>\n",
       "      <td>2024</td>\n",
       "      <td>apartamentowiec</td>\n",
       "      <td>plastikowe</td>\n",
       "      <td>tak</td>\n",
       "      <td>telewizja kablowa, internet, telefon</td>\n",
       "      <td>system alarmowy, drzwi / okna antywłamaniowe, ...</td>\n",
       "      <td>brak informacji</td>\n",
       "      <td>piwnica, oddzielna kuchnia, pom. użytkowe</td>\n",
       "      <td>cegła</td>\n",
       "      <td>-&gt; umów się na prezentację mieszkania na żywo ...</td>\n",
       "    </tr>\n",
       "    <tr>\n",
       "      <th>4195</th>\n",
       "      <td>2xŁazienka Duży Balkon Winda Wysoki Standard Park</td>\n",
       "      <td>867650</td>\n",
       "      <td>['Krzyki', 'Krzyki', 'Wrocław', 'dolnośląskie']</td>\n",
       "      <td>67</td>\n",
       "      <td>12950</td>\n",
       "      <td>4</td>\n",
       "      <td>https://www.otodom.pl/pl/oferta/2xlazienka-duz...</td>\n",
       "      <td>pełna własność</td>\n",
       "      <td>do wykończenia</td>\n",
       "      <td>3/4</td>\n",
       "      <td>balkon</td>\n",
       "      <td>Zapytaj</td>\n",
       "      <td>garaż/miejsce parkingowe</td>\n",
       "      <td>miejskie</td>\n",
       "      <td>pierwotny</td>\n",
       "      <td>biuro nieruchomości</td>\n",
       "      <td>2023</td>\n",
       "      <td>apartamentowiec</td>\n",
       "      <td>plastikowe</td>\n",
       "      <td>tak</td>\n",
       "      <td>telewizja kablowa, internet, telefon</td>\n",
       "      <td>drzwi / okna antywłamaniowe, domofon / wideofo...</td>\n",
       "      <td>brak informacji</td>\n",
       "      <td>piwnica, pom. użytkowe</td>\n",
       "      <td>brak informacji</td>\n",
       "      <td>◉KRZYKI OSIEDLE PREMIUM WYSOKI STANDARD◉0% PRO...</td>\n",
       "    </tr>\n",
       "  </tbody>\n",
       "</table>\n",
       "</div>"
      ],
      "text/plain": [
       "                                                 titles  prices  \\\n",
       "6822                           Nowe mieszkanie, 2.E.2.1  878900   \n",
       "7324                  Apartament przy ul. Grunwaldzkiej  850000   \n",
       "392                       Mieszkanie, 49,70 m², Wrocław  559000   \n",
       "3528          Mieszkanie 34,60, 2 pokoje, T. Kościuszki  455000   \n",
       "4373  2 Pok.| 45,35m2 | ul. Jaracza | 2 Balkony | Bk2%!  595000   \n",
       "2365    Kawalerka W Centrum , Kamienica 330cm wysokość!  508375   \n",
       "3099           Nowe osiedle/2 pokoje/Dużo zieleni/Winda  540000   \n",
       "2130   GOTOWE 2M na START_NA WYNAJEM|Komunikacja_zieleń  549000   \n",
       "4209  NOWY ETAP|Tylko2 takie mieszkania|Kredyt2%|Spr...  343500   \n",
       "4195  2xŁazienka Duży Balkon Winda Wysoki Standard Park  867650   \n",
       "\n",
       "                                               location    area  \\\n",
       "6822  ['ul. Maślicka', 'Maślice', 'Fabryczna', 'Wroc...   95,91   \n",
       "7324  ['ul. Grunwaldzka', 'Ołbin', 'Śródmieście', 'W...  100,98   \n",
       "392   ['Karłowice', 'Psie Pole', 'Wrocław', 'dolnośl...    49,7   \n",
       "3528  ['ul. Tadeusza Kościuszki', 'Przedmieście Oław...    34,6   \n",
       "4373  ['Ołbin', 'Śródmieście', 'Wrocław', 'dolnośląs...   45,35   \n",
       "2365  ['ul. Hugona Kołłątaja', 'Przedmieście Świdnic...   29,05   \n",
       "3099  ['ul. Księska', 'Księże', 'Krzyki', 'Wrocław',...    48,5   \n",
       "2130  ['Tarnogaj', 'Krzyki', 'Wrocław', 'dolnośląskie']      36   \n",
       "4209  ['ul. Społeczna', 'Brochów', 'Krzyki', 'Wrocła...      31   \n",
       "4195    ['Krzyki', 'Krzyki', 'Wrocław', 'dolnośląskie']      67   \n",
       "\n",
       "      price per square meter numbers_of_rooms  \\\n",
       "6822                    9164                4   \n",
       "7324                    8418                3   \n",
       "392                    11247                2   \n",
       "3528                   13150                2   \n",
       "4373                   13120                2   \n",
       "2365                   17500                1   \n",
       "3099                   11134                2   \n",
       "2130                   15250                2   \n",
       "4209                   11081                2   \n",
       "4195                   12950                4   \n",
       "\n",
       "                                                   urls property_ownership  \\\n",
       "6822  https://www.otodom.pl/pl/oferta/nowe-mieszkani...     pełna własność   \n",
       "7324  https://www.otodom.pl/pl/oferta/apartament-prz...            Zapytaj   \n",
       "392   https://www.otodom.pl/pl/oferta/mieszkanie-49-...     pełna własność   \n",
       "3528  https://www.otodom.pl/pl/oferta/mieszkanie-34-...     pełna własność   \n",
       "4373  https://www.otodom.pl/pl/oferta/2-pok-45-35m2-...     pełna własność   \n",
       "2365  https://www.otodom.pl/pl/oferta/kawalerka-w-ce...     pełna własność   \n",
       "3099  https://www.otodom.pl/pl/oferta/nowe-osiedle-2...     pełna własność   \n",
       "2130  https://www.otodom.pl/pl/oferta/gotowe-2m-na-s...     pełna własność   \n",
       "4209  https://www.otodom.pl/pl/oferta/nowy-etap-tylk...     pełna własność   \n",
       "4195  https://www.otodom.pl/pl/oferta/2xlazienka-duz...     pełna własność   \n",
       "\n",
       "     condition_of_property     floor balcon_garden_terrace amount_of_rent  \\\n",
       "6822        do wykończenia       2/2                balkon        Zapytaj   \n",
       "7324       do zamieszkania       4/4               Zapytaj         500 zł   \n",
       "392                Zapytaj  parter/3                 taras         600 zł   \n",
       "3528       do zamieszkania       5/6                balkon         400 zł   \n",
       "4373               Zapytaj       3/4                balkon         340 zł   \n",
       "2365        do wykończenia       3/6               Zapytaj        Zapytaj   \n",
       "3099               Zapytaj       1/2                balkon        Zapytaj   \n",
       "2130       do zamieszkania  parter/4        ogródek, taras         460 zł   \n",
       "4209               Zapytaj         1                balkon        Zapytaj   \n",
       "4195        do wykończenia       3/4                balkon        Zapytaj   \n",
       "\n",
       "                 parking_space type_of_heating primary_secondary  \\\n",
       "6822                   Zapytaj        miejskie         pierwotny   \n",
       "7324                   Zapytaj          gazowe            wtórny   \n",
       "392                    Zapytaj        miejskie            wtórny   \n",
       "3528                   Zapytaj        miejskie            wtórny   \n",
       "4373                   Zapytaj          gazowe            wtórny   \n",
       "2365                   Zapytaj        miejskie         pierwotny   \n",
       "3099  garaż/miejsce parkingowe        miejskie         pierwotny   \n",
       "2130  garaż/miejsce parkingowe        miejskie            wtórny   \n",
       "4209  garaż/miejsce parkingowe        miejskie         pierwotny   \n",
       "4195  garaż/miejsce parkingowe        miejskie         pierwotny   \n",
       "\n",
       "                    seller year_of_construction type_of_development  \\\n",
       "6822             deweloper                 2023                blok   \n",
       "7324  biuro nieruchomości                  1928           kamienica   \n",
       "392   biuro nieruchomości                  2010     apartamentowiec   \n",
       "3528  biuro nieruchomości                  2002                blok   \n",
       "4373  biuro nieruchomości                  2003     brak informacji   \n",
       "2365  biuro nieruchomości                  2023           kamienica   \n",
       "3099  biuro nieruchomości                  2025     brak informacji   \n",
       "2130  biuro nieruchomości                  2022                blok   \n",
       "4209  biuro nieruchomości                  2024     apartamentowiec   \n",
       "4195  biuro nieruchomości                  2023     apartamentowiec   \n",
       "\n",
       "               window lift                             utilities  \\\n",
       "6822       plastikowe  nie                       brak informacji   \n",
       "7324  brak informacji  nie                       brak informacji   \n",
       "392        plastikowe  tak           telewizja kablowa, internet   \n",
       "3528       plastikowe  nie                       brak informacji   \n",
       "4373       plastikowe  nie           telewizja kablowa, internet   \n",
       "2365  brak informacji  tak                              internet   \n",
       "3099       plastikowe  tak                       brak informacji   \n",
       "2130       plastikowe  tak                              internet   \n",
       "4209       plastikowe  tak  telewizja kablowa, internet, telefon   \n",
       "4195       plastikowe  tak  telewizja kablowa, internet, telefon   \n",
       "\n",
       "                                               security  \\\n",
       "6822                                    brak informacji   \n",
       "7324                                 domofon / wideofon   \n",
       "392   drzwi / okna antywłamaniowe, domofon / wideofo...   \n",
       "3528    drzwi / okna antywłamaniowe, domofon / wideofon   \n",
       "4373  drzwi / okna antywłamaniowe, monitoring / ochrona   \n",
       "2365                                 domofon / wideofon   \n",
       "3099                                    brak informacji   \n",
       "2130  drzwi / okna antywłamaniowe, teren zamknięty, ...   \n",
       "4209  system alarmowy, drzwi / okna antywłamaniowe, ...   \n",
       "4195  drzwi / okna antywłamaniowe, domofon / wideofo...   \n",
       "\n",
       "                                       home_furnishings  \\\n",
       "6822                                    brak informacji   \n",
       "7324                           meble, lodówka, zmywarka   \n",
       "392                                               meble   \n",
       "3528  zmywarka, lodówka, meble, piekarnik, kuchenka,...   \n",
       "4373                                    brak informacji   \n",
       "2365                                    brak informacji   \n",
       "3099                                    brak informacji   \n",
       "2130  zmywarka, lodówka, meble, piekarnik, kuchenka,...   \n",
       "4209                                    brak informacji   \n",
       "4195                                    brak informacji   \n",
       "\n",
       "                                additional_info bulding_material  \\\n",
       "6822                               dwupoziomowe          silikat   \n",
       "7324                            brak informacji  brak informacji   \n",
       "392                             brak informacji  brak informacji   \n",
       "3528                            brak informacji             inne   \n",
       "4373                            brak informacji  brak informacji   \n",
       "2365                            brak informacji            cegła   \n",
       "3099                          oddzielna kuchnia          silikat   \n",
       "2130                            brak informacji             inne   \n",
       "4209  piwnica, oddzielna kuchnia, pom. użytkowe            cegła   \n",
       "4195                     piwnica, pom. użytkowe  brak informacji   \n",
       "\n",
       "                                               describe  \n",
       "6822  Przedmiotem sprzedaży jest nowe mieszkanie z a...  \n",
       "7324  Do sprzedania jest przestronne, reprezentacyjn...  \n",
       "392   Mam na sprzedaż mieszkanie z ogromnym potencja...  \n",
       "3528  Informacje ogólne:    Przedstawiona nieruchomo...  \n",
       "4373  Na sprzedaż przestronne mieszkanie 2 pokojowe ...  \n",
       "2365  OGŁOSZENIE BEZPOŚREDNIO OD WŁAŚCICIELA! Bez pr...  \n",
       "3099  2 pokoje/ Nowoczesne osiedle/ Dużo zieleni/Win...  \n",
       "2130  Przedstawiam Państwu na sprzedaż klimatyczne N...  \n",
       "4209  -> umów się na prezentację mieszkania na żywo ...  \n",
       "4195  ◉KRZYKI OSIEDLE PREMIUM WYSOKI STANDARD◉0% PRO...  "
      ]
     },
     "execution_count": 6,
     "metadata": {},
     "output_type": "execute_result"
    }
   ],
   "source": [
    "#Wyświetlenie 10 losowych wierszy\n",
    "df.sample(10)"
   ]
  },
  {
   "cell_type": "code",
   "execution_count": 7,
   "id": "53b55391",
   "metadata": {},
   "outputs": [
    {
     "data": {
      "text/plain": [
       "(7845, 26)"
      ]
     },
     "execution_count": 7,
     "metadata": {},
     "output_type": "execute_result"
    }
   ],
   "source": [
    "#Rozmiar df przed usunięciem duplikatów\n",
    "df.shape"
   ]
  },
  {
   "cell_type": "code",
   "execution_count": 8,
   "id": "45066239",
   "metadata": {},
   "outputs": [],
   "source": [
    "#Usunięcie duplikatów\n",
    "df = df.drop_duplicates()"
   ]
  },
  {
   "cell_type": "code",
   "execution_count": 9,
   "id": "6303c1b7",
   "metadata": {},
   "outputs": [
    {
     "data": {
      "text/plain": [
       "(7235, 26)"
      ]
     },
     "execution_count": 9,
     "metadata": {},
     "output_type": "execute_result"
    }
   ],
   "source": [
    "#Rozmiar df po usunięciu duplikatów\n",
    "df.shape"
   ]
  },
  {
   "cell_type": "code",
   "execution_count": 10,
   "id": "27ff7625",
   "metadata": {},
   "outputs": [
    {
     "name": "stdout",
     "output_type": "stream",
     "text": [
      "<class 'pandas.core.frame.DataFrame'>\n",
      "Int64Index: 7235 entries, 0 to 7844\n",
      "Data columns (total 26 columns):\n",
      " #   Column                  Non-Null Count  Dtype \n",
      "---  ------                  --------------  ----- \n",
      " 0   titles                  7235 non-null   object\n",
      " 1   prices                  7235 non-null   object\n",
      " 2   location                7235 non-null   object\n",
      " 3   area                    7235 non-null   object\n",
      " 4   price per square meter  7235 non-null   int64 \n",
      " 5   numbers_of_rooms        7235 non-null   object\n",
      " 6   urls                    7235 non-null   object\n",
      " 7   property_ownership      7235 non-null   object\n",
      " 8   condition_of_property   7235 non-null   object\n",
      " 9   floor                   7235 non-null   object\n",
      " 10  balcon_garden_terrace   7235 non-null   object\n",
      " 11  amount_of_rent          7235 non-null   object\n",
      " 12  parking_space           7235 non-null   object\n",
      " 13  type_of_heating         7235 non-null   object\n",
      " 14  primary_secondary       7235 non-null   object\n",
      " 15  seller                  7235 non-null   object\n",
      " 16  year_of_construction    7235 non-null   object\n",
      " 17  type_of_development     7235 non-null   object\n",
      " 18  window                  7235 non-null   object\n",
      " 19  lift                    7235 non-null   object\n",
      " 20  utilities               7235 non-null   object\n",
      " 21  security                7235 non-null   object\n",
      " 22  home_furnishings        7235 non-null   object\n",
      " 23  additional_info         7235 non-null   object\n",
      " 24  bulding_material        7235 non-null   object\n",
      " 25  describe                7235 non-null   object\n",
      "dtypes: int64(1), object(25)\n",
      "memory usage: 1.5+ MB\n"
     ]
    }
   ],
   "source": [
    "#Informacje o ilości wierszy, o klumnach, ilości niezerowych wartości w każdej z kolumn oraz o typie danych w kolumnie\n",
    "df.info()"
   ]
  },
  {
   "cell_type": "code",
   "execution_count": 11,
   "id": "8641c4d7",
   "metadata": {},
   "outputs": [
    {
     "data": {
      "text/plain": [
       "0"
      ]
     },
     "execution_count": 11,
     "metadata": {},
     "output_type": "execute_result"
    }
   ],
   "source": [
    "#Wyświetlenie wierszy które nie mają ceny\n",
    "df[df[\"price per square meter\"].isnull() | df[\"prices\"].isnull()][\"titles\"].count()"
   ]
  },
  {
   "cell_type": "code",
   "execution_count": 12,
   "id": "869b7421",
   "metadata": {},
   "outputs": [
    {
     "data": {
      "text/plain": [
       "(7235, 26)"
      ]
     },
     "execution_count": 12,
     "metadata": {},
     "output_type": "execute_result"
    }
   ],
   "source": [
    "#Usunięcie wierszy bez ceny za metr kwadratowy\n",
    "df = df.drop(df[df[\"price per square meter\"].isnull() | df[\"prices\"].isnull()].index)\n",
    "df.shape"
   ]
  },
  {
   "cell_type": "code",
   "execution_count": 13,
   "id": "abd2257c",
   "metadata": {},
   "outputs": [],
   "source": [
    "df = df.reset_index(drop=True)"
   ]
  },
  {
   "cell_type": "code",
   "execution_count": 14,
   "id": "267ed3c3",
   "metadata": {
    "scrolled": true
   },
   "outputs": [
    {
     "data": {
      "text/plain": [
       "titles                    0\n",
       "prices                    0\n",
       "location                  0\n",
       "area                      0\n",
       "price per square meter    0\n",
       "numbers_of_rooms          0\n",
       "urls                      0\n",
       "property_ownership        0\n",
       "condition_of_property     0\n",
       "floor                     0\n",
       "balcon_garden_terrace     0\n",
       "amount_of_rent            0\n",
       "parking_space             0\n",
       "type_of_heating           0\n",
       "primary_secondary         0\n",
       "seller                    0\n",
       "year_of_construction      0\n",
       "type_of_development       0\n",
       "window                    0\n",
       "lift                      0\n",
       "utilities                 0\n",
       "security                  0\n",
       "home_furnishings          0\n",
       "additional_info           0\n",
       "bulding_material          0\n",
       "describe                  0\n",
       "dtype: int64"
      ]
     },
     "execution_count": 14,
     "metadata": {},
     "output_type": "execute_result"
    }
   ],
   "source": [
    "#Sprawdzenie ilości brakujących wartości w każdej z kolumn\n",
    "df.isnull().sum()"
   ]
  },
  {
   "cell_type": "code",
   "execution_count": 15,
   "id": "30fce294",
   "metadata": {
    "scrolled": true
   },
   "outputs": [
    {
     "data": {
      "text/plain": [
       "['titles',\n",
       " 'prices',\n",
       " 'location',\n",
       " 'area',\n",
       " 'price per square meter',\n",
       " 'numbers_of_rooms',\n",
       " 'urls',\n",
       " 'property_ownership',\n",
       " 'condition_of_property',\n",
       " 'floor',\n",
       " 'balcon_garden_terrace',\n",
       " 'amount_of_rent',\n",
       " 'parking_space',\n",
       " 'type_of_heating',\n",
       " 'primary_secondary',\n",
       " 'seller',\n",
       " 'year_of_construction',\n",
       " 'type_of_development',\n",
       " 'window',\n",
       " 'lift',\n",
       " 'utilities',\n",
       " 'security',\n",
       " 'home_furnishings',\n",
       " 'additional_info',\n",
       " 'bulding_material',\n",
       " 'describe']"
      ]
     },
     "execution_count": 15,
     "metadata": {},
     "output_type": "execute_result"
    }
   ],
   "source": [
    "[cname for cname in df.columns]"
   ]
  },
  {
   "cell_type": "code",
   "execution_count": 16,
   "id": "32521223",
   "metadata": {
    "scrolled": true
   },
   "outputs": [
    {
     "name": "stdout",
     "output_type": "stream",
     "text": [
      "Unikatowe wartości w kolumnie : 'parking_space'\n",
      "\n",
      "garaż/miejsce parkingowe    4179\n",
      "Zapytaj                     3056\n",
      "Name: parking_space, dtype: int64\n",
      "--------------------------------\n",
      "\n",
      "Unikatowe wartości w kolumnie : 'lift'\n",
      "\n",
      "tak                3396\n",
      "nie                2708\n",
      "brak informacji    1131\n",
      "Name: lift, dtype: int64\n",
      "--------------------------------\n",
      "\n",
      "Unikatowe wartości w kolumnie : 'seller'\n",
      "\n",
      "biuro nieruchomości     5514\n",
      "brak informacji         1131\n",
      "prywatny                 462\n",
      "deweloper                128\n",
      "Name: seller, dtype: int64\n",
      "--------------------------------\n",
      "\n",
      "Unikatowe wartości w kolumnie : 'numbers_of_rooms'\n",
      "\n",
      "3              2756\n",
      "2              2381\n",
      "4              1170\n",
      "1               705\n",
      "5               174\n",
      "6                30\n",
      "7                11\n",
      "9                 4\n",
      "więcejniż10       3\n",
      "8                 1\n",
      "Name: numbers_of_rooms, dtype: int64\n",
      "--------------------------------\n",
      "\n",
      "Unikatowe wartości w kolumnie : 'utilities'\n",
      "\n",
      "brak informacji                                                       4520\n",
      "telewizja kablowa, internet, telefon                                  1026\n",
      "telewizja kablowa, internet                                            882\n",
      "internet                                                               628\n",
      "internet, telefon                                                      116\n",
      "telewizja kablowa                                                       26\n",
      "telefon                                                                 23\n",
      "telewizja kablowa, telefon                                               9\n",
      "internet, telewizja kablowa                                              3\n",
      "telewizja kablowa, prąd, gaz, internet, telefon, kanalizacja, woda       2\n",
      "Name: utilities, dtype: int64\n",
      "--------------------------------\n",
      "\n"
     ]
    }
   ],
   "source": [
    "for cname in [\"parking_space\", \"lift\", \"seller\", \"numbers_of_rooms\", \"utilities\"]:\n",
    "    print(f\"Unikatowe wartości w kolumnie : '{cname}'\", end=\"\\n\\n\")\n",
    "    print(df[cname].value_counts())\n",
    "    print(\"--------------------------------\", end=\"\\n\\n\")"
   ]
  },
  {
   "cell_type": "code",
   "execution_count": null,
   "id": "46b5099c",
   "metadata": {},
   "outputs": [],
   "source": []
  },
  {
   "cell_type": "code",
   "execution_count": 17,
   "id": "485b1d55",
   "metadata": {
    "scrolled": true
   },
   "outputs": [
    {
     "data": {
      "text/plain": [
       "{'titles': 0,\n",
       " 'prices': 0,\n",
       " 'location': 0,\n",
       " 'area': 0,\n",
       " 'price per square meter': 0,\n",
       " 'numbers_of_rooms': 0,\n",
       " 'urls': 0,\n",
       " 'property_ownership': 0,\n",
       " 'condition_of_property': 0,\n",
       " 'floor': 0,\n",
       " 'balcon_garden_terrace': 0,\n",
       " 'amount_of_rent': 0,\n",
       " 'parking_space': 0,\n",
       " 'type_of_heating': 0,\n",
       " 'primary_secondary': 0,\n",
       " 'seller': 0,\n",
       " 'year_of_construction': 0,\n",
       " 'type_of_development': 0,\n",
       " 'window': 0,\n",
       " 'lift': 0,\n",
       " 'utilities': 0,\n",
       " 'security': 0,\n",
       " 'home_furnishings': 0,\n",
       " 'additional_info': 0,\n",
       " 'bulding_material': 0,\n",
       " 'describe': 0}"
      ]
     },
     "execution_count": 17,
     "metadata": {},
     "output_type": "execute_result"
    }
   ],
   "source": [
    "#Wyświetlenie ilosci brakujących wierszy dla każdej z kolumn\n",
    "{cname: df[cname].isnull().sum() for cname in df.columns}\n",
    "#df[\"condition_of_property\"].isnull().sum()"
   ]
  },
  {
   "cell_type": "code",
   "execution_count": 18,
   "id": "986c3cc5",
   "metadata": {},
   "outputs": [],
   "source": [
    "df_copy = df.copy()\n",
    "\n",
    "for column in df_copy.columns:\n",
    "    df_copy.loc[df_copy[column] == \"brak informacji\", column] = None\n",
    "    df_copy.loc[df_copy[column] == \"Zapytaj\", column] = None"
   ]
  },
  {
   "cell_type": "code",
   "execution_count": 19,
   "id": "20ae0ccb",
   "metadata": {},
   "outputs": [
    {
     "data": {
      "text/plain": [
       "72"
      ]
     },
     "execution_count": 19,
     "metadata": {},
     "output_type": "execute_result"
    }
   ],
   "source": [
    "#Liczba wierszy w których nie brakuje żadnego atrybutu\n",
    "df_copy[~df_copy.isnull().any(axis=1)][\"prices\"].count()"
   ]
  },
  {
   "cell_type": "code",
   "execution_count": 20,
   "id": "35aad27c",
   "metadata": {},
   "outputs": [
    {
     "data": {
      "text/html": [
       "<div>\n",
       "<style scoped>\n",
       "    .dataframe tbody tr th:only-of-type {\n",
       "        vertical-align: middle;\n",
       "    }\n",
       "\n",
       "    .dataframe tbody tr th {\n",
       "        vertical-align: top;\n",
       "    }\n",
       "\n",
       "    .dataframe thead th {\n",
       "        text-align: right;\n",
       "    }\n",
       "</style>\n",
       "<table border=\"1\" class=\"dataframe\">\n",
       "  <thead>\n",
       "    <tr style=\"text-align: right;\">\n",
       "      <th></th>\n",
       "      <th>titles</th>\n",
       "      <th>prices</th>\n",
       "      <th>location</th>\n",
       "      <th>area</th>\n",
       "      <th>price per square meter</th>\n",
       "      <th>numbers_of_rooms</th>\n",
       "      <th>urls</th>\n",
       "      <th>property_ownership</th>\n",
       "      <th>condition_of_property</th>\n",
       "      <th>floor</th>\n",
       "      <th>balcon_garden_terrace</th>\n",
       "      <th>amount_of_rent</th>\n",
       "      <th>parking_space</th>\n",
       "      <th>type_of_heating</th>\n",
       "      <th>primary_secondary</th>\n",
       "      <th>seller</th>\n",
       "      <th>year_of_construction</th>\n",
       "      <th>type_of_development</th>\n",
       "      <th>window</th>\n",
       "      <th>lift</th>\n",
       "      <th>utilities</th>\n",
       "      <th>security</th>\n",
       "      <th>home_furnishings</th>\n",
       "      <th>additional_info</th>\n",
       "      <th>bulding_material</th>\n",
       "      <th>describe</th>\n",
       "    </tr>\n",
       "  </thead>\n",
       "  <tbody>\n",
       "    <tr>\n",
       "      <th>0</th>\n",
       "      <td>0</td>\n",
       "      <td>0</td>\n",
       "      <td>0</td>\n",
       "      <td>0</td>\n",
       "      <td>0</td>\n",
       "      <td>0</td>\n",
       "      <td>0</td>\n",
       "      <td>1539</td>\n",
       "      <td>2422</td>\n",
       "      <td>122</td>\n",
       "      <td>1719</td>\n",
       "      <td>4278</td>\n",
       "      <td>3056</td>\n",
       "      <td>2390</td>\n",
       "      <td>1131</td>\n",
       "      <td>1131</td>\n",
       "      <td>2070</td>\n",
       "      <td>2423</td>\n",
       "      <td>3620</td>\n",
       "      <td>1131</td>\n",
       "      <td>4520</td>\n",
       "      <td>3407</td>\n",
       "      <td>5620</td>\n",
       "      <td>4004</td>\n",
       "      <td>4049</td>\n",
       "      <td>0</td>\n",
       "    </tr>\n",
       "  </tbody>\n",
       "</table>\n",
       "</div>"
      ],
      "text/plain": [
       "   titles  prices  location  area  price per square meter  numbers_of_rooms  \\\n",
       "0       0       0         0     0                       0                 0   \n",
       "\n",
       "   urls  property_ownership  condition_of_property  floor  \\\n",
       "0     0                1539                   2422    122   \n",
       "\n",
       "   balcon_garden_terrace  amount_of_rent  parking_space  type_of_heating  \\\n",
       "0                   1719            4278           3056             2390   \n",
       "\n",
       "   primary_secondary  seller  year_of_construction  type_of_development  \\\n",
       "0               1131    1131                  2070                 2423   \n",
       "\n",
       "   window  lift  utilities  security  home_furnishings  additional_info  \\\n",
       "0    3620  1131       4520      3407              5620             4004   \n",
       "\n",
       "   bulding_material  describe  \n",
       "0              4049         0  "
      ]
     },
     "execution_count": 20,
     "metadata": {},
     "output_type": "execute_result"
    }
   ],
   "source": [
    "#Sprawdzenie ilości brakujących wartości w każdej z kolumn\n",
    "pd.DataFrame(df_copy.isnull().sum()).T\n",
    "#pd.DataFrame(df_copy.isnull().sum()).T"
   ]
  },
  {
   "cell_type": "code",
   "execution_count": 21,
   "id": "fa5782d8",
   "metadata": {
    "scrolled": true
   },
   "outputs": [
    {
     "data": {
      "text/html": [
       "<div>\n",
       "<style scoped>\n",
       "    .dataframe tbody tr th:only-of-type {\n",
       "        vertical-align: middle;\n",
       "    }\n",
       "\n",
       "    .dataframe tbody tr th {\n",
       "        vertical-align: top;\n",
       "    }\n",
       "\n",
       "    .dataframe thead th {\n",
       "        text-align: right;\n",
       "    }\n",
       "</style>\n",
       "<table border=\"1\" class=\"dataframe\">\n",
       "  <thead>\n",
       "    <tr style=\"text-align: right;\">\n",
       "      <th></th>\n",
       "      <th>titles</th>\n",
       "      <th>prices</th>\n",
       "      <th>location</th>\n",
       "      <th>area</th>\n",
       "      <th>price per square meter</th>\n",
       "      <th>numbers_of_rooms</th>\n",
       "      <th>urls</th>\n",
       "      <th>property_ownership</th>\n",
       "      <th>condition_of_property</th>\n",
       "      <th>floor</th>\n",
       "      <th>balcon_garden_terrace</th>\n",
       "      <th>amount_of_rent</th>\n",
       "      <th>parking_space</th>\n",
       "      <th>type_of_heating</th>\n",
       "      <th>primary_secondary</th>\n",
       "      <th>seller</th>\n",
       "      <th>year_of_construction</th>\n",
       "      <th>type_of_development</th>\n",
       "      <th>window</th>\n",
       "      <th>lift</th>\n",
       "      <th>utilities</th>\n",
       "      <th>security</th>\n",
       "      <th>home_furnishings</th>\n",
       "      <th>additional_info</th>\n",
       "      <th>bulding_material</th>\n",
       "      <th>describe</th>\n",
       "    </tr>\n",
       "  </thead>\n",
       "  <tbody>\n",
       "    <tr>\n",
       "      <th>0</th>\n",
       "      <td>0.00</td>\n",
       "      <td>0.00</td>\n",
       "      <td>0.00</td>\n",
       "      <td>0.00</td>\n",
       "      <td>0.00</td>\n",
       "      <td>0.00</td>\n",
       "      <td>0.00</td>\n",
       "      <td>21.30</td>\n",
       "      <td>33.50</td>\n",
       "      <td>1.70</td>\n",
       "      <td>23.80</td>\n",
       "      <td>59.10</td>\n",
       "      <td>42.20</td>\n",
       "      <td>33.00</td>\n",
       "      <td>15.60</td>\n",
       "      <td>15.60</td>\n",
       "      <td>28.60</td>\n",
       "      <td>33.50</td>\n",
       "      <td>50.00</td>\n",
       "      <td>15.60</td>\n",
       "      <td>62.50</td>\n",
       "      <td>47.10</td>\n",
       "      <td>77.70</td>\n",
       "      <td>55.30</td>\n",
       "      <td>56.00</td>\n",
       "      <td>0.00</td>\n",
       "    </tr>\n",
       "  </tbody>\n",
       "</table>\n",
       "</div>"
      ],
      "text/plain": [
       "   titles  prices  location  area  price per square meter  numbers_of_rooms  \\\n",
       "0    0.00    0.00      0.00  0.00                    0.00              0.00   \n",
       "\n",
       "   urls  property_ownership  condition_of_property  floor  \\\n",
       "0  0.00               21.30                  33.50   1.70   \n",
       "\n",
       "   balcon_garden_terrace  amount_of_rent  parking_space  type_of_heating  \\\n",
       "0                  23.80           59.10          42.20            33.00   \n",
       "\n",
       "   primary_secondary  seller  year_of_construction  type_of_development  \\\n",
       "0              15.60   15.60                 28.60                33.50   \n",
       "\n",
       "   window  lift  utilities  security  home_furnishings  additional_info  \\\n",
       "0   50.00 15.60      62.50     47.10             77.70            55.30   \n",
       "\n",
       "   bulding_material  describe  \n",
       "0             56.00      0.00  "
      ]
     },
     "execution_count": 21,
     "metadata": {},
     "output_type": "execute_result"
    }
   ],
   "source": [
    "#Sprawdzenie jaką część stanowią braki w kazdej kolumnie\n",
    "pd.DataFrame(round(df_copy.isnull().sum() * 100 / len(df),1)).T\n",
    "#pd.DataFrame(round(df_copy.isnull().sum() * 100 / len(df),1))"
   ]
  },
  {
   "cell_type": "code",
   "execution_count": 22,
   "id": "ba1813ce",
   "metadata": {},
   "outputs": [
    {
     "data": {
      "text/plain": [
       "72"
      ]
     },
     "execution_count": 22,
     "metadata": {},
     "output_type": "execute_result"
    }
   ],
   "source": [
    "#Liczba wierszy w których nie brakuje żadnego atrybutu\n",
    "df_copy[~df_copy.isnull().any(axis=1)][\"prices\"].count()"
   ]
  },
  {
   "cell_type": "code",
   "execution_count": 23,
   "id": "84eb0dc8",
   "metadata": {},
   "outputs": [
    {
     "data": {
      "text/plain": [
       "72"
      ]
     },
     "execution_count": 23,
     "metadata": {},
     "output_type": "execute_result"
    }
   ],
   "source": [
    "#Liczba wierszy w których nie brakuje żadnego atrybutu\n",
    "df_copy[~df_copy.isnull().any(axis=1)][\"prices\"].count()"
   ]
  },
  {
   "cell_type": "code",
   "execution_count": 24,
   "id": "ce70f09d",
   "metadata": {},
   "outputs": [
    {
     "data": {
      "text/html": [
       "<div>\n",
       "<style scoped>\n",
       "    .dataframe tbody tr th:only-of-type {\n",
       "        vertical-align: middle;\n",
       "    }\n",
       "\n",
       "    .dataframe tbody tr th {\n",
       "        vertical-align: top;\n",
       "    }\n",
       "\n",
       "    .dataframe thead th {\n",
       "        text-align: right;\n",
       "    }\n",
       "</style>\n",
       "<table border=\"1\" class=\"dataframe\">\n",
       "  <thead>\n",
       "    <tr style=\"text-align: right;\">\n",
       "      <th></th>\n",
       "      <th>price per square meter</th>\n",
       "    </tr>\n",
       "  </thead>\n",
       "  <tbody>\n",
       "    <tr>\n",
       "      <th>count</th>\n",
       "      <td>7,235.00</td>\n",
       "    </tr>\n",
       "    <tr>\n",
       "      <th>mean</th>\n",
       "      <td>12,740.67</td>\n",
       "    </tr>\n",
       "    <tr>\n",
       "      <th>std</th>\n",
       "      <td>3,537.28</td>\n",
       "    </tr>\n",
       "    <tr>\n",
       "      <th>min</th>\n",
       "      <td>76.00</td>\n",
       "    </tr>\n",
       "    <tr>\n",
       "      <th>25%</th>\n",
       "      <td>10,818.00</td>\n",
       "    </tr>\n",
       "    <tr>\n",
       "      <th>50%</th>\n",
       "      <td>12,219.00</td>\n",
       "    </tr>\n",
       "    <tr>\n",
       "      <th>75%</th>\n",
       "      <td>13,800.00</td>\n",
       "    </tr>\n",
       "    <tr>\n",
       "      <th>max</th>\n",
       "      <td>123,800.00</td>\n",
       "    </tr>\n",
       "  </tbody>\n",
       "</table>\n",
       "</div>"
      ],
      "text/plain": [
       "       price per square meter\n",
       "count                7,235.00\n",
       "mean                12,740.67\n",
       "std                  3,537.28\n",
       "min                     76.00\n",
       "25%                 10,818.00\n",
       "50%                 12,219.00\n",
       "75%                 13,800.00\n",
       "max                123,800.00"
      ]
     },
     "execution_count": 24,
     "metadata": {},
     "output_type": "execute_result"
    }
   ],
   "source": [
    "df.describe()"
   ]
  },
  {
   "cell_type": "code",
   "execution_count": 25,
   "id": "5ba21993",
   "metadata": {},
   "outputs": [
    {
     "name": "stdout",
     "output_type": "stream",
     "text": [
      "<class 'pandas.core.frame.DataFrame'>\n",
      "RangeIndex: 7235 entries, 0 to 7234\n",
      "Data columns (total 26 columns):\n",
      " #   Column                  Non-Null Count  Dtype \n",
      "---  ------                  --------------  ----- \n",
      " 0   titles                  7235 non-null   object\n",
      " 1   prices                  7235 non-null   object\n",
      " 2   location                7235 non-null   object\n",
      " 3   area                    7235 non-null   object\n",
      " 4   price per square meter  7235 non-null   int64 \n",
      " 5   numbers_of_rooms        7235 non-null   object\n",
      " 6   urls                    7235 non-null   object\n",
      " 7   property_ownership      7235 non-null   object\n",
      " 8   condition_of_property   7235 non-null   object\n",
      " 9   floor                   7235 non-null   object\n",
      " 10  balcon_garden_terrace   7235 non-null   object\n",
      " 11  amount_of_rent          7235 non-null   object\n",
      " 12  parking_space           7235 non-null   object\n",
      " 13  type_of_heating         7235 non-null   object\n",
      " 14  primary_secondary       7235 non-null   object\n",
      " 15  seller                  7235 non-null   object\n",
      " 16  year_of_construction    7235 non-null   object\n",
      " 17  type_of_development     7235 non-null   object\n",
      " 18  window                  7235 non-null   object\n",
      " 19  lift                    7235 non-null   object\n",
      " 20  utilities               7235 non-null   object\n",
      " 21  security                7235 non-null   object\n",
      " 22  home_furnishings        7235 non-null   object\n",
      " 23  additional_info         7235 non-null   object\n",
      " 24  bulding_material        7235 non-null   object\n",
      " 25  describe                7235 non-null   object\n",
      "dtypes: int64(1), object(25)\n",
      "memory usage: 1.4+ MB\n"
     ]
    }
   ],
   "source": [
    "df.info()"
   ]
  },
  {
   "cell_type": "markdown",
   "id": "214a55e0",
   "metadata": {},
   "source": [
    "# 1. Zmienna celu (zmienna zależna, target) \"prices\":"
   ]
  },
  {
   "cell_type": "code",
   "execution_count": 26,
   "id": "42611fa0",
   "metadata": {
    "scrolled": true
   },
   "outputs": [
    {
     "ename": "ValueError",
     "evalue": "could not convert string to float: '120000EUR'",
     "output_type": "error",
     "traceback": [
      "\u001b[1;31m---------------------------------------------------------------------------\u001b[0m",
      "\u001b[1;31mValueError\u001b[0m                                Traceback (most recent call last)",
      "Cell \u001b[1;32mIn[26], line 2\u001b[0m\n\u001b[0;32m      1\u001b[0m \u001b[38;5;66;03m#df[\"prices\"] = df[\"prices\"].str.replace(\",\",\".\").apply(lambda x: float(x) if x != \"Zapytajocenę\" else None)\u001b[39;00m\n\u001b[1;32m----> 2\u001b[0m df[\u001b[38;5;124m\"\u001b[39m\u001b[38;5;124mprices\u001b[39m\u001b[38;5;124m\"\u001b[39m] \u001b[38;5;241m=\u001b[39m \u001b[43mdf\u001b[49m\u001b[43m[\u001b[49m\u001b[38;5;124;43m\"\u001b[39;49m\u001b[38;5;124;43mprices\u001b[39;49m\u001b[38;5;124;43m\"\u001b[39;49m\u001b[43m]\u001b[49m\u001b[38;5;241;43m.\u001b[39;49m\u001b[43mstr\u001b[49m\u001b[38;5;241;43m.\u001b[39;49m\u001b[43mreplace\u001b[49m\u001b[43m(\u001b[49m\u001b[38;5;124;43m\"\u001b[39;49m\u001b[38;5;124;43m,\u001b[39;49m\u001b[38;5;124;43m\"\u001b[39;49m\u001b[43m,\u001b[49m\u001b[38;5;124;43m\"\u001b[39;49m\u001b[38;5;124;43m.\u001b[39;49m\u001b[38;5;124;43m\"\u001b[39;49m\u001b[43m)\u001b[49m\u001b[38;5;241;43m.\u001b[39;49m\u001b[43mastype\u001b[49m\u001b[43m(\u001b[49m\u001b[38;5;28;43mfloat\u001b[39;49m\u001b[43m)\u001b[49m\n",
      "File \u001b[1;32m~\\AppData\\Local\\Programs\\Python\\Python311\\Lib\\site-packages\\pandas\\core\\generic.py:6240\u001b[0m, in \u001b[0;36mNDFrame.astype\u001b[1;34m(self, dtype, copy, errors)\u001b[0m\n\u001b[0;32m   6233\u001b[0m     results \u001b[38;5;241m=\u001b[39m [\n\u001b[0;32m   6234\u001b[0m         \u001b[38;5;28mself\u001b[39m\u001b[38;5;241m.\u001b[39miloc[:, i]\u001b[38;5;241m.\u001b[39mastype(dtype, copy\u001b[38;5;241m=\u001b[39mcopy)\n\u001b[0;32m   6235\u001b[0m         \u001b[38;5;28;01mfor\u001b[39;00m i \u001b[38;5;129;01min\u001b[39;00m \u001b[38;5;28mrange\u001b[39m(\u001b[38;5;28mlen\u001b[39m(\u001b[38;5;28mself\u001b[39m\u001b[38;5;241m.\u001b[39mcolumns))\n\u001b[0;32m   6236\u001b[0m     ]\n\u001b[0;32m   6238\u001b[0m \u001b[38;5;28;01melse\u001b[39;00m:\n\u001b[0;32m   6239\u001b[0m     \u001b[38;5;66;03m# else, only a single dtype is given\u001b[39;00m\n\u001b[1;32m-> 6240\u001b[0m     new_data \u001b[38;5;241m=\u001b[39m \u001b[38;5;28;43mself\u001b[39;49m\u001b[38;5;241;43m.\u001b[39;49m\u001b[43m_mgr\u001b[49m\u001b[38;5;241;43m.\u001b[39;49m\u001b[43mastype\u001b[49m\u001b[43m(\u001b[49m\u001b[43mdtype\u001b[49m\u001b[38;5;241;43m=\u001b[39;49m\u001b[43mdtype\u001b[49m\u001b[43m,\u001b[49m\u001b[43m \u001b[49m\u001b[43mcopy\u001b[49m\u001b[38;5;241;43m=\u001b[39;49m\u001b[43mcopy\u001b[49m\u001b[43m,\u001b[49m\u001b[43m \u001b[49m\u001b[43merrors\u001b[49m\u001b[38;5;241;43m=\u001b[39;49m\u001b[43merrors\u001b[49m\u001b[43m)\u001b[49m\n\u001b[0;32m   6241\u001b[0m     \u001b[38;5;28;01mreturn\u001b[39;00m \u001b[38;5;28mself\u001b[39m\u001b[38;5;241m.\u001b[39m_constructor(new_data)\u001b[38;5;241m.\u001b[39m__finalize__(\u001b[38;5;28mself\u001b[39m, method\u001b[38;5;241m=\u001b[39m\u001b[38;5;124m\"\u001b[39m\u001b[38;5;124mastype\u001b[39m\u001b[38;5;124m\"\u001b[39m)\n\u001b[0;32m   6243\u001b[0m \u001b[38;5;66;03m# GH 33113: handle empty frame or series\u001b[39;00m\n",
      "File \u001b[1;32m~\\AppData\\Local\\Programs\\Python\\Python311\\Lib\\site-packages\\pandas\\core\\internals\\managers.py:448\u001b[0m, in \u001b[0;36mBaseBlockManager.astype\u001b[1;34m(self, dtype, copy, errors)\u001b[0m\n\u001b[0;32m    447\u001b[0m \u001b[38;5;28;01mdef\u001b[39;00m \u001b[38;5;21mastype\u001b[39m(\u001b[38;5;28mself\u001b[39m: T, dtype, copy: \u001b[38;5;28mbool\u001b[39m \u001b[38;5;241m=\u001b[39m \u001b[38;5;28;01mFalse\u001b[39;00m, errors: \u001b[38;5;28mstr\u001b[39m \u001b[38;5;241m=\u001b[39m \u001b[38;5;124m\"\u001b[39m\u001b[38;5;124mraise\u001b[39m\u001b[38;5;124m\"\u001b[39m) \u001b[38;5;241m-\u001b[39m\u001b[38;5;241m>\u001b[39m T:\n\u001b[1;32m--> 448\u001b[0m     \u001b[38;5;28;01mreturn\u001b[39;00m \u001b[38;5;28;43mself\u001b[39;49m\u001b[38;5;241;43m.\u001b[39;49m\u001b[43mapply\u001b[49m\u001b[43m(\u001b[49m\u001b[38;5;124;43m\"\u001b[39;49m\u001b[38;5;124;43mastype\u001b[39;49m\u001b[38;5;124;43m\"\u001b[39;49m\u001b[43m,\u001b[49m\u001b[43m \u001b[49m\u001b[43mdtype\u001b[49m\u001b[38;5;241;43m=\u001b[39;49m\u001b[43mdtype\u001b[49m\u001b[43m,\u001b[49m\u001b[43m \u001b[49m\u001b[43mcopy\u001b[49m\u001b[38;5;241;43m=\u001b[39;49m\u001b[43mcopy\u001b[49m\u001b[43m,\u001b[49m\u001b[43m \u001b[49m\u001b[43merrors\u001b[49m\u001b[38;5;241;43m=\u001b[39;49m\u001b[43merrors\u001b[49m\u001b[43m)\u001b[49m\n",
      "File \u001b[1;32m~\\AppData\\Local\\Programs\\Python\\Python311\\Lib\\site-packages\\pandas\\core\\internals\\managers.py:352\u001b[0m, in \u001b[0;36mBaseBlockManager.apply\u001b[1;34m(self, f, align_keys, ignore_failures, **kwargs)\u001b[0m\n\u001b[0;32m    350\u001b[0m         applied \u001b[38;5;241m=\u001b[39m b\u001b[38;5;241m.\u001b[39mapply(f, \u001b[38;5;241m*\u001b[39m\u001b[38;5;241m*\u001b[39mkwargs)\n\u001b[0;32m    351\u001b[0m     \u001b[38;5;28;01melse\u001b[39;00m:\n\u001b[1;32m--> 352\u001b[0m         applied \u001b[38;5;241m=\u001b[39m \u001b[38;5;28;43mgetattr\u001b[39;49m\u001b[43m(\u001b[49m\u001b[43mb\u001b[49m\u001b[43m,\u001b[49m\u001b[43m \u001b[49m\u001b[43mf\u001b[49m\u001b[43m)\u001b[49m\u001b[43m(\u001b[49m\u001b[38;5;241;43m*\u001b[39;49m\u001b[38;5;241;43m*\u001b[39;49m\u001b[43mkwargs\u001b[49m\u001b[43m)\u001b[49m\n\u001b[0;32m    353\u001b[0m \u001b[38;5;28;01mexcept\u001b[39;00m (\u001b[38;5;167;01mTypeError\u001b[39;00m, \u001b[38;5;167;01mNotImplementedError\u001b[39;00m):\n\u001b[0;32m    354\u001b[0m     \u001b[38;5;28;01mif\u001b[39;00m \u001b[38;5;129;01mnot\u001b[39;00m ignore_failures:\n",
      "File \u001b[1;32m~\\AppData\\Local\\Programs\\Python\\Python311\\Lib\\site-packages\\pandas\\core\\internals\\blocks.py:526\u001b[0m, in \u001b[0;36mBlock.astype\u001b[1;34m(self, dtype, copy, errors)\u001b[0m\n\u001b[0;32m    508\u001b[0m \u001b[38;5;250m\u001b[39m\u001b[38;5;124;03m\"\"\"\u001b[39;00m\n\u001b[0;32m    509\u001b[0m \u001b[38;5;124;03mCoerce to the new dtype.\u001b[39;00m\n\u001b[0;32m    510\u001b[0m \n\u001b[1;32m   (...)\u001b[0m\n\u001b[0;32m    522\u001b[0m \u001b[38;5;124;03mBlock\u001b[39;00m\n\u001b[0;32m    523\u001b[0m \u001b[38;5;124;03m\"\"\"\u001b[39;00m\n\u001b[0;32m    524\u001b[0m values \u001b[38;5;241m=\u001b[39m \u001b[38;5;28mself\u001b[39m\u001b[38;5;241m.\u001b[39mvalues\n\u001b[1;32m--> 526\u001b[0m new_values \u001b[38;5;241m=\u001b[39m \u001b[43mastype_array_safe\u001b[49m\u001b[43m(\u001b[49m\u001b[43mvalues\u001b[49m\u001b[43m,\u001b[49m\u001b[43m \u001b[49m\u001b[43mdtype\u001b[49m\u001b[43m,\u001b[49m\u001b[43m \u001b[49m\u001b[43mcopy\u001b[49m\u001b[38;5;241;43m=\u001b[39;49m\u001b[43mcopy\u001b[49m\u001b[43m,\u001b[49m\u001b[43m \u001b[49m\u001b[43merrors\u001b[49m\u001b[38;5;241;43m=\u001b[39;49m\u001b[43merrors\u001b[49m\u001b[43m)\u001b[49m\n\u001b[0;32m    528\u001b[0m new_values \u001b[38;5;241m=\u001b[39m maybe_coerce_values(new_values)\n\u001b[0;32m    529\u001b[0m newb \u001b[38;5;241m=\u001b[39m \u001b[38;5;28mself\u001b[39m\u001b[38;5;241m.\u001b[39mmake_block(new_values)\n",
      "File \u001b[1;32m~\\AppData\\Local\\Programs\\Python\\Python311\\Lib\\site-packages\\pandas\\core\\dtypes\\astype.py:299\u001b[0m, in \u001b[0;36mastype_array_safe\u001b[1;34m(values, dtype, copy, errors)\u001b[0m\n\u001b[0;32m    296\u001b[0m     \u001b[38;5;28;01mreturn\u001b[39;00m values\u001b[38;5;241m.\u001b[39mcopy()\n\u001b[0;32m    298\u001b[0m \u001b[38;5;28;01mtry\u001b[39;00m:\n\u001b[1;32m--> 299\u001b[0m     new_values \u001b[38;5;241m=\u001b[39m \u001b[43mastype_array\u001b[49m\u001b[43m(\u001b[49m\u001b[43mvalues\u001b[49m\u001b[43m,\u001b[49m\u001b[43m \u001b[49m\u001b[43mdtype\u001b[49m\u001b[43m,\u001b[49m\u001b[43m \u001b[49m\u001b[43mcopy\u001b[49m\u001b[38;5;241;43m=\u001b[39;49m\u001b[43mcopy\u001b[49m\u001b[43m)\u001b[49m\n\u001b[0;32m    300\u001b[0m \u001b[38;5;28;01mexcept\u001b[39;00m (\u001b[38;5;167;01mValueError\u001b[39;00m, \u001b[38;5;167;01mTypeError\u001b[39;00m):\n\u001b[0;32m    301\u001b[0m     \u001b[38;5;66;03m# e.g. astype_nansafe can fail on object-dtype of strings\u001b[39;00m\n\u001b[0;32m    302\u001b[0m     \u001b[38;5;66;03m#  trying to convert to float\u001b[39;00m\n\u001b[0;32m    303\u001b[0m     \u001b[38;5;28;01mif\u001b[39;00m errors \u001b[38;5;241m==\u001b[39m \u001b[38;5;124m\"\u001b[39m\u001b[38;5;124mignore\u001b[39m\u001b[38;5;124m\"\u001b[39m:\n",
      "File \u001b[1;32m~\\AppData\\Local\\Programs\\Python\\Python311\\Lib\\site-packages\\pandas\\core\\dtypes\\astype.py:230\u001b[0m, in \u001b[0;36mastype_array\u001b[1;34m(values, dtype, copy)\u001b[0m\n\u001b[0;32m    227\u001b[0m     values \u001b[38;5;241m=\u001b[39m values\u001b[38;5;241m.\u001b[39mastype(dtype, copy\u001b[38;5;241m=\u001b[39mcopy)\n\u001b[0;32m    229\u001b[0m \u001b[38;5;28;01melse\u001b[39;00m:\n\u001b[1;32m--> 230\u001b[0m     values \u001b[38;5;241m=\u001b[39m \u001b[43mastype_nansafe\u001b[49m\u001b[43m(\u001b[49m\u001b[43mvalues\u001b[49m\u001b[43m,\u001b[49m\u001b[43m \u001b[49m\u001b[43mdtype\u001b[49m\u001b[43m,\u001b[49m\u001b[43m \u001b[49m\u001b[43mcopy\u001b[49m\u001b[38;5;241;43m=\u001b[39;49m\u001b[43mcopy\u001b[49m\u001b[43m)\u001b[49m\n\u001b[0;32m    232\u001b[0m \u001b[38;5;66;03m# in pandas we don't store numpy str dtypes, so convert to object\u001b[39;00m\n\u001b[0;32m    233\u001b[0m \u001b[38;5;28;01mif\u001b[39;00m \u001b[38;5;28misinstance\u001b[39m(dtype, np\u001b[38;5;241m.\u001b[39mdtype) \u001b[38;5;129;01mand\u001b[39;00m \u001b[38;5;28missubclass\u001b[39m(values\u001b[38;5;241m.\u001b[39mdtype\u001b[38;5;241m.\u001b[39mtype, \u001b[38;5;28mstr\u001b[39m):\n",
      "File \u001b[1;32m~\\AppData\\Local\\Programs\\Python\\Python311\\Lib\\site-packages\\pandas\\core\\dtypes\\astype.py:170\u001b[0m, in \u001b[0;36mastype_nansafe\u001b[1;34m(arr, dtype, copy, skipna)\u001b[0m\n\u001b[0;32m    166\u001b[0m     \u001b[38;5;28;01mraise\u001b[39;00m \u001b[38;5;167;01mValueError\u001b[39;00m(msg)\n\u001b[0;32m    168\u001b[0m \u001b[38;5;28;01mif\u001b[39;00m copy \u001b[38;5;129;01mor\u001b[39;00m is_object_dtype(arr\u001b[38;5;241m.\u001b[39mdtype) \u001b[38;5;129;01mor\u001b[39;00m is_object_dtype(dtype):\n\u001b[0;32m    169\u001b[0m     \u001b[38;5;66;03m# Explicit copy, or required since NumPy can't view from / to object.\u001b[39;00m\n\u001b[1;32m--> 170\u001b[0m     \u001b[38;5;28;01mreturn\u001b[39;00m \u001b[43marr\u001b[49m\u001b[38;5;241;43m.\u001b[39;49m\u001b[43mastype\u001b[49m\u001b[43m(\u001b[49m\u001b[43mdtype\u001b[49m\u001b[43m,\u001b[49m\u001b[43m \u001b[49m\u001b[43mcopy\u001b[49m\u001b[38;5;241;43m=\u001b[39;49m\u001b[38;5;28;43;01mTrue\u001b[39;49;00m\u001b[43m)\u001b[49m\n\u001b[0;32m    172\u001b[0m \u001b[38;5;28;01mreturn\u001b[39;00m arr\u001b[38;5;241m.\u001b[39mastype(dtype, copy\u001b[38;5;241m=\u001b[39mcopy)\n",
      "\u001b[1;31mValueError\u001b[0m: could not convert string to float: '120000EUR'"
     ]
    }
   ],
   "source": [
    "#df[\"prices\"] = df[\"prices\"].str.replace(\",\",\".\").apply(lambda x: float(x) if x != \"Zapytajocenę\" else None)\n",
    "df[\"prices\"] = df[\"prices\"].str.replace(\",\",\".\").astype(float)"
   ]
  },
  {
   "cell_type": "code",
   "execution_count": 27,
   "id": "875b0a0b",
   "metadata": {},
   "outputs": [
    {
     "data": {
      "text/plain": [
       "2"
      ]
     },
     "execution_count": 27,
     "metadata": {},
     "output_type": "execute_result"
    }
   ],
   "source": [
    "mask = df[\"prices\"].str.contains(r'EUR', na=True)\n",
    "mask.sum()  # Sprawdzenie ile wierszy zawiera cene w euro"
   ]
  },
  {
   "cell_type": "code",
   "execution_count": 28,
   "id": "ac046358",
   "metadata": {},
   "outputs": [],
   "source": [
    "#Skoro tylko 2 to usuwamy\n",
    "index_to_remove = df.loc[mask].index\n",
    "df = df.drop(labels= index_to_remove, axis=0 )\n",
    "df = df.reset_index(drop=True)"
   ]
  },
  {
   "cell_type": "code",
   "execution_count": 29,
   "id": "1a99085d",
   "metadata": {},
   "outputs": [],
   "source": [
    "df[\"prices\"] = df[\"prices\"].str.replace(\",\",\".\").astype(float)"
   ]
  },
  {
   "cell_type": "code",
   "execution_count": 30,
   "id": "38bd5902",
   "metadata": {},
   "outputs": [
    {
     "data": {
      "text/html": [
       "<div>\n",
       "<style scoped>\n",
       "    .dataframe tbody tr th:only-of-type {\n",
       "        vertical-align: middle;\n",
       "    }\n",
       "\n",
       "    .dataframe tbody tr th {\n",
       "        vertical-align: top;\n",
       "    }\n",
       "\n",
       "    .dataframe thead th {\n",
       "        text-align: right;\n",
       "    }\n",
       "</style>\n",
       "<table border=\"1\" class=\"dataframe\">\n",
       "  <thead>\n",
       "    <tr style=\"text-align: right;\">\n",
       "      <th></th>\n",
       "      <th>prices</th>\n",
       "    </tr>\n",
       "  </thead>\n",
       "  <tbody>\n",
       "    <tr>\n",
       "      <th>count</th>\n",
       "      <td>7,233.00</td>\n",
       "    </tr>\n",
       "    <tr>\n",
       "      <th>mean</th>\n",
       "      <td>745,401.44</td>\n",
       "    </tr>\n",
       "    <tr>\n",
       "      <th>std</th>\n",
       "      <td>389,716.63</td>\n",
       "    </tr>\n",
       "    <tr>\n",
       "      <th>min</th>\n",
       "      <td>228,900.00</td>\n",
       "    </tr>\n",
       "    <tr>\n",
       "      <th>25%</th>\n",
       "      <td>553,536.00</td>\n",
       "    </tr>\n",
       "    <tr>\n",
       "      <th>50%</th>\n",
       "      <td>678,706.00</td>\n",
       "    </tr>\n",
       "    <tr>\n",
       "      <th>75%</th>\n",
       "      <td>829,000.00</td>\n",
       "    </tr>\n",
       "    <tr>\n",
       "      <th>max</th>\n",
       "      <td>9,500,000.00</td>\n",
       "    </tr>\n",
       "  </tbody>\n",
       "</table>\n",
       "</div>"
      ],
      "text/plain": [
       "            prices\n",
       "count     7,233.00\n",
       "mean    745,401.44\n",
       "std     389,716.63\n",
       "min     228,900.00\n",
       "25%     553,536.00\n",
       "50%     678,706.00\n",
       "75%     829,000.00\n",
       "max   9,500,000.00"
      ]
     },
     "execution_count": 30,
     "metadata": {},
     "output_type": "execute_result"
    }
   ],
   "source": [
    "df[[\"prices\"]].describe()"
   ]
  },
  {
   "cell_type": "markdown",
   "id": "f736388c",
   "metadata": {},
   "source": [
    "## 2. Area"
   ]
  },
  {
   "cell_type": "code",
   "execution_count": 31,
   "id": "23a96e9a",
   "metadata": {},
   "outputs": [],
   "source": [
    "#Zmiana typu zmiennej niezależnej \"area\" w celu tworzenia wykresów\n",
    "df[\"area\"] = df[\"area\"].str.replace(\",\",\".\").str.replace(\"\\xa0\",\"\").astype(float)"
   ]
  },
  {
   "cell_type": "code",
   "execution_count": 32,
   "id": "1722885b",
   "metadata": {},
   "outputs": [
    {
     "data": {
      "text/plain": [
       "<seaborn.axisgrid.FacetGrid at 0x1958b1eb390>"
      ]
     },
     "execution_count": 32,
     "metadata": {},
     "output_type": "execute_result"
    },
    {
     "data": {
      "image/png": "[encoded data removed]",
      "text/plain": [
       "<Figure size 500x500 with 1 Axes>"
      ]
     },
     "metadata": {},
     "output_type": "display_data"
    }
   ],
   "source": [
    "sns.relplot(\n",
    "    data=df,\n",
    "    x=\"area\", y=\"prices\",\n",
    ")"
   ]
  },
  {
   "cell_type": "code",
   "execution_count": 33,
   "id": "e117257a",
   "metadata": {},
   "outputs": [
    {
     "data": {
      "text/plain": [
       "<seaborn.axisgrid.FacetGrid at 0x1958b37d410>"
      ]
     },
     "execution_count": 33,
     "metadata": {},
     "output_type": "execute_result"
    },
    {
     "data": {
      "image/png": "[encoded data removed]",
      "text/plain": [
       "<Figure size 500x500 with 1 Axes>"
      ]
     },
     "metadata": {},
     "output_type": "display_data"
    }
   ],
   "source": [
    "sns.displot(data=df, x=\"prices\",  kde=True)"
   ]
  },
  {
   "cell_type": "code",
   "execution_count": 34,
   "id": "c57bf69f",
   "metadata": {},
   "outputs": [
    {
     "data": {
      "text/plain": [
       "<seaborn.axisgrid.FacetGrid at 0x1958b1f6310>"
      ]
     },
     "execution_count": 34,
     "metadata": {},
     "output_type": "execute_result"
    },
    {
     "data": {
      "image/png": "[encoded data removed]",
      "text/plain": [
       "<Figure size 500x500 with 1 Axes>"
      ]
     },
     "metadata": {},
     "output_type": "display_data"
    }
   ],
   "source": [
    "sns.relplot(\n",
    "    data=df,\n",
    "    x=\"area\", y=\"price per square meter\",\n",
    ")"
   ]
  },
  {
   "cell_type": "code",
   "execution_count": 35,
   "id": "38f1fd70",
   "metadata": {},
   "outputs": [],
   "source": [
    "# Powyższe wykresy wskazują na występowanie wartości odstających wiec odfiltrujemy dane"
   ]
  },
  {
   "cell_type": "code",
   "execution_count": 36,
   "id": "3f6548fb",
   "metadata": {},
   "outputs": [],
   "source": [
    "def filter_IQR_rule(df_to_filter, column_name: str=None):\n",
    "    Q1 = df_to_filter[column_name].quantile(0.25)\n",
    "    Q3 = df_to_filter[column_name].quantile(0.75)\n",
    "    IQR = Q3 - Q1\n",
    "    lower_bound = round(Q1 - 1.5 * IQR)\n",
    "    upper_bound = round(Q3 + 1.5 * IQR)\n",
    "    outliers = ((df_to_filter[column_name] < lower_bound) | (df_to_filter[column_name] > upper_bound))    \n",
    "    perc_of_removed = round((100*outliers.sum())/df_to_filter.shape[0], 2)\n",
    "    print(f\"Usunięto: {outliers.sum()} wierszy stanowiących {perc_of_removed}% danych, zawierajacych odstające wartości w kolumnie '{column_name}' poniżej {lower_bound} oraz powyżej {upper_bound} \")\n",
    "    df_result = df_to_filter.loc[~outliers]\n",
    "    return df_result"
   ]
  },
  {
   "cell_type": "code",
   "execution_count": 37,
   "id": "ce4484ca",
   "metadata": {},
   "outputs": [
    {
     "name": "stdout",
     "output_type": "stream",
     "text": [
      "Usunięto: 287 wierszy stanowiących 3.97% danych, zawierajacych odstające wartości w kolumnie 'area' poniżej 8 oraz powyżej 107 \n",
      "Usunięto: 429 wierszy stanowiących 6.18% danych, zawierajacych odstające wartości w kolumnie 'price per square meter' poniżej 6574 oraz powyżej 18098 \n",
      "Usunięto: 170 wierszy stanowiących 2.61% danych, zawierajacych odstające wartości w kolumnie 'prices' poniżej 178960 oraz powyżej 1165732 \n"
     ]
    }
   ],
   "source": [
    "df_filtered = filter_IQR_rule(df, column_name = \"area\")\n",
    "df_filtered = filter_IQR_rule(df_filtered, column_name = \"price per square meter\")\n",
    "df_filtered = filter_IQR_rule(df_filtered, column_name = \"prices\")"
   ]
  },
  {
   "cell_type": "code",
   "execution_count": 38,
   "id": "fd7743ed",
   "metadata": {},
   "outputs": [
    {
     "name": "stdout",
     "output_type": "stream",
     "text": [
      "Usunięto: 287 wierszy stanowiących 3.97% danych, zawierajacych odstające wartości w kolumnie 'area' poniżej 8 oraz powyżej 107 \n"
     ]
    }
   ],
   "source": [
    "df_filtered = filter_IQR_rule(df, column_name = \"area\")"
   ]
  },
  {
   "cell_type": "code",
   "execution_count": 39,
   "id": "46e3efba",
   "metadata": {},
   "outputs": [
    {
     "data": {
      "text/plain": [
       "<seaborn.axisgrid.FacetGrid at 0x1958b56e250>"
      ]
     },
     "execution_count": 39,
     "metadata": {},
     "output_type": "execute_result"
    },
    {
     "data": {
      "image/png": "[encoded data removed]",
      "text/plain": [
       "<Figure size 500x500 with 1 Axes>"
      ]
     },
     "metadata": {},
     "output_type": "display_data"
    }
   ],
   "source": [
    "sns.relplot(\n",
    "    data=df_filtered ,\n",
    "    x=\"area\", y=\"prices\",\n",
    ")"
   ]
  },
  {
   "cell_type": "code",
   "execution_count": 40,
   "id": "942a110a",
   "metadata": {},
   "outputs": [
    {
     "name": "stdout",
     "output_type": "stream",
     "text": [
      "Usunięto: 280 wierszy stanowiących 4.03% danych, zawierajacych odstające wartości w kolumnie 'prices' poniżej 174266 oraz powyżej 1175823 \n"
     ]
    }
   ],
   "source": [
    "df_filtered = filter_IQR_rule(df_filtered, column_name = \"prices\")"
   ]
  },
  {
   "cell_type": "code",
   "execution_count": 41,
   "id": "77a592bb",
   "metadata": {},
   "outputs": [
    {
     "data": {
      "text/plain": [
       "<seaborn.axisgrid.FacetGrid at 0x19584517390>"
      ]
     },
     "execution_count": 41,
     "metadata": {},
     "output_type": "execute_result"
    },
    {
     "data": {
      "image/png": "[encoded data removed]",
      "text/plain": [
       "<Figure size 500x500 with 1 Axes>"
      ]
     },
     "metadata": {},
     "output_type": "display_data"
    }
   ],
   "source": [
    "sns.relplot(\n",
    "    data=df_filtered ,\n",
    "    x=\"area\", y=\"prices\",\n",
    ")"
   ]
  },
  {
   "cell_type": "code",
   "execution_count": 42,
   "id": "4c09bac5",
   "metadata": {},
   "outputs": [
    {
     "name": "stdout",
     "output_type": "stream",
     "text": [
      "Usunięto: 384 wierszy stanowiących 5.76% danych, zawierajacych odstające wartości w kolumnie 'price per square meter' poniżej 6730 oraz powyżej 17642 \n"
     ]
    }
   ],
   "source": [
    "df_filtered = filter_IQR_rule(df_filtered, column_name = \"price per square meter\")"
   ]
  },
  {
   "cell_type": "code",
   "execution_count": 43,
   "id": "828d2cda",
   "metadata": {},
   "outputs": [
    {
     "data": {
      "text/plain": [
       "<seaborn.axisgrid.FacetGrid at 0x1958fea2950>"
      ]
     },
     "execution_count": 43,
     "metadata": {},
     "output_type": "execute_result"
    },
    {
     "data": {
      "image/png": "[encoded data removed]",
      "text/plain": [
       "<Figure size 500x500 with 1 Axes>"
      ]
     },
     "metadata": {},
     "output_type": "display_data"
    }
   ],
   "source": [
    "sns.relplot(\n",
    "    data=df_filtered ,\n",
    "    x=\"area\", y=\"prices\",\n",
    ")"
   ]
  },
  {
   "cell_type": "markdown",
   "id": "099200a4",
   "metadata": {},
   "source": [
    "# Patrząc na powyższe wykresy zastanawiam się czy nie przesadziłem odfiltrowując dane ( chyba wystarczy odfiltrowanie ze wzgędu na powierzchnie i cene)"
   ]
  },
  {
   "cell_type": "code",
   "execution_count": 44,
   "id": "95c1f1ef",
   "metadata": {},
   "outputs": [],
   "source": [
    "# df_filtered = filter_IQR_rule(df, column_name = \"area\")\n",
    "# df_filtered = filter_IQR_rule(df_filtered, column_name = \"prices\")"
   ]
  },
  {
   "cell_type": "code",
   "execution_count": 45,
   "id": "91786201",
   "metadata": {},
   "outputs": [
    {
     "data": {
      "text/plain": [
       "<seaborn.axisgrid.FacetGrid at 0x1958ff2e010>"
      ]
     },
     "execution_count": 45,
     "metadata": {},
     "output_type": "execute_result"
    },
    {
     "data": {
      "image/png": "[encoded data removed]",
      "text/plain": [
       "<Figure size 500x500 with 1 Axes>"
      ]
     },
     "metadata": {},
     "output_type": "display_data"
    }
   ],
   "source": [
    "sns.relplot(\n",
    "    data=df_filtered ,\n",
    "    x=\"area\", y=\"prices\",\n",
    ")"
   ]
  },
  {
   "cell_type": "code",
   "execution_count": 46,
   "id": "7ce79611",
   "metadata": {},
   "outputs": [
    {
     "data": {
      "text/plain": [
       "<seaborn.axisgrid.FacetGrid at 0x1958ff90950>"
      ]
     },
     "execution_count": 46,
     "metadata": {},
     "output_type": "execute_result"
    },
    {
     "data": {
      "image/png": "[encoded data removed]",
      "text/plain": [
       "<Figure size 500x500 with 1 Axes>"
      ]
     },
     "metadata": {},
     "output_type": "display_data"
    }
   ],
   "source": [
    "sns.displot(data=df_filtered, x=\"prices\",  kde=True)"
   ]
  },
  {
   "cell_type": "code",
   "execution_count": 47,
   "id": "17c61f16",
   "metadata": {},
   "outputs": [
    {
     "data": {
      "text/plain": [
       "<seaborn.axisgrid.FacetGrid at 0x195903f1510>"
      ]
     },
     "execution_count": 47,
     "metadata": {},
     "output_type": "execute_result"
    },
    {
     "data": {
      "image/png": "[encoded data removed]",
      "text/plain": [
       "<Figure size 500x500 with 1 Axes>"
      ]
     },
     "metadata": {},
     "output_type": "display_data"
    }
   ],
   "source": [
    "sns.displot(data=df_filtered, x=\"price per square meter\",  kde=True)"
   ]
  },
  {
   "cell_type": "code",
   "execution_count": null,
   "id": "f480b66f",
   "metadata": {},
   "outputs": [],
   "source": []
  },
  {
   "cell_type": "markdown",
   "id": "d669bf83",
   "metadata": {},
   "source": [
    "# Dalsze oczyszczanie danych"
   ]
  },
  {
   "cell_type": "markdown",
   "id": "680e0476",
   "metadata": {},
   "source": [
    "### Numbers_of_rooms"
   ]
  },
  {
   "cell_type": "code",
   "execution_count": 48,
   "id": "e338c3ff",
   "metadata": {},
   "outputs": [
    {
     "data": {
      "text/plain": [
       "3    2586\n",
       "2    2129\n",
       "4     913\n",
       "1     552\n",
       "5      88\n",
       "6      12\n",
       "7       2\n",
       "Name: numbers_of_rooms, dtype: int64"
      ]
     },
     "execution_count": 48,
     "metadata": {},
     "output_type": "execute_result"
    }
   ],
   "source": [
    "df_filtered[\"numbers_of_rooms\"].value_counts()"
   ]
  },
  {
   "cell_type": "code",
   "execution_count": 49,
   "id": "de89ba9d",
   "metadata": {},
   "outputs": [],
   "source": [
    "df_filtered[\"numbers_of_rooms\"] = df_filtered[\"numbers_of_rooms\"].astype(int)\n",
    "#df_filtered[\"numbers_of_rooms\"] = pd.to_numeric(df_filtered[\"numbers_of_rooms\"], errors='coerce', downcast='signed')"
   ]
  },
  {
   "cell_type": "markdown",
   "id": "96c9abbe",
   "metadata": {},
   "source": [
    "### Floor"
   ]
  },
  {
   "cell_type": "code",
   "execution_count": 50,
   "id": "9c103974",
   "metadata": {},
   "outputs": [
    {
     "data": {
      "text/plain": [
       "1/4         360\n",
       "1/2         347\n",
       "2/4         338\n",
       "3/4         334\n",
       "parter/4    323\n",
       "           ... \n",
       "> 10/10       1\n",
       "4/12          1\n",
       "2/12          1\n",
       "suterena      1\n",
       "7/17          1\n",
       "Name: floor, Length: 125, dtype: int64"
      ]
     },
     "execution_count": 50,
     "metadata": {},
     "output_type": "execute_result"
    }
   ],
   "source": [
    "df_filtered[\"floor\"].value_counts()"
   ]
  },
  {
   "cell_type": "code",
   "execution_count": 51,
   "id": "e77f2cff",
   "metadata": {},
   "outputs": [],
   "source": [
    "#Oczyszczenie kolumny\n",
    "#df_filtered[\"floor\"] = df_filtered[\"floor\"].str.replace(\"> \",\"\").str.replace(\"parter\", \"0\").str.replace(\"suterena\", \"-4\").str.replace(\"poddasze\", \"-2\").astype(str)\n",
    "# Na razie jednak nie oczyszczam  w ten sposób bo chce zachować informacje takie jakie one są"
   ]
  },
  {
   "cell_type": "code",
   "execution_count": 52,
   "id": "0464fe71",
   "metadata": {},
   "outputs": [],
   "source": [
    "def get_floor_number(floor_describe):\n",
    "    if floor_describe != \"None\":\n",
    "        floor_info_list = floor_describe.split(\"/\")\n",
    "        #print(len(floor_info_list))\n",
    "        if len(floor_info_list) >= 2:\n",
    "            floor = floor_info_list[0]\n",
    "            number_of_floors = floor_info_list[1]\n",
    "        else:\n",
    "            floor = floor_info_list[0]\n",
    "            number_of_floors = None\n",
    "    else:\n",
    "        floor = None\n",
    "        number_of_floors = None\n",
    "    \n",
    "    #print(floor, number_of_floors)\n",
    "    return floor, number_of_floors"
   ]
  },
  {
   "cell_type": "code",
   "execution_count": 53,
   "id": "8f3822e5",
   "metadata": {},
   "outputs": [],
   "source": [
    "#Podział infomracji w kolumnie na dwie kolumny \n",
    "df_filtered[[\"floor\", \"number_of_floors\"]] = df_filtered[\"floor\"].apply(lambda x: pd.Series(get_floor_number(x)))"
   ]
  },
  {
   "cell_type": "code",
   "execution_count": 54,
   "id": "8763dd4d",
   "metadata": {},
   "outputs": [
    {
     "data": {
      "text/plain": [
       "1           1459\n",
       "2           1207\n",
       "parter      1168\n",
       "3            926\n",
       "4            679\n",
       "5            297\n",
       "6            202\n",
       "Zapytaj       94\n",
       "7             94\n",
       "8             60\n",
       "> 10          40\n",
       "10            30\n",
       "9             22\n",
       "suterena       3\n",
       "poddasze       1\n",
       "Name: floor, dtype: int64"
      ]
     },
     "execution_count": 54,
     "metadata": {},
     "output_type": "execute_result"
    }
   ],
   "source": [
    "df_filtered[\"floor\"].value_counts()"
   ]
  },
  {
   "cell_type": "markdown",
   "id": "c4e8e19c",
   "metadata": {},
   "source": [
    "### Ćwiczyłem zamiane tej kolumny na numeryczną teraz spróbuje potraktować ją jako etykiety i wykonam na niej OHE"
   ]
  },
  {
   "cell_type": "markdown",
   "id": "2545b627",
   "metadata": {},
   "source": [
    "### Amount of rent"
   ]
  },
  {
   "cell_type": "code",
   "execution_count": 55,
   "id": "1231c1f7",
   "metadata": {},
   "outputs": [
    {
     "data": {
      "text/plain": [
       "Zapytaj      3753\n",
       "500 zł        235\n",
       "600 zł        193\n",
       "400 zł        181\n",
       "700 zł        142\n",
       "             ... \n",
       "1 114 zł        1\n",
       "492 zł          1\n",
       "436,70 zł       1\n",
       "922 zł          1\n",
       "495 zł          1\n",
       "Name: amount_of_rent, Length: 301, dtype: int64"
      ]
     },
     "execution_count": 55,
     "metadata": {},
     "output_type": "execute_result"
    }
   ],
   "source": [
    "df_filtered[\"amount_of_rent\"].value_counts()"
   ]
  },
  {
   "cell_type": "code",
   "execution_count": 56,
   "id": "29836de8",
   "metadata": {
    "scrolled": true
   },
   "outputs": [
    {
     "ename": "ValueError",
     "evalue": "could not convert string to float: 'Zapytaj'",
     "output_type": "error",
     "traceback": [
      "\u001b[1;31m---------------------------------------------------------------------------\u001b[0m",
      "\u001b[1;31mValueError\u001b[0m                                Traceback (most recent call last)",
      "Cell \u001b[1;32mIn[56], line 1\u001b[0m\n\u001b[1;32m----> 1\u001b[0m df_filtered[\u001b[38;5;124m\"\u001b[39m\u001b[38;5;124mamount_of_rent\u001b[39m\u001b[38;5;124m\"\u001b[39m] \u001b[38;5;241m=\u001b[39m \u001b[43mdf_filtered\u001b[49m\u001b[43m[\u001b[49m\u001b[38;5;124;43m\"\u001b[39;49m\u001b[38;5;124;43mamount_of_rent\u001b[39;49m\u001b[38;5;124;43m\"\u001b[39;49m\u001b[43m]\u001b[49m\u001b[38;5;241;43m.\u001b[39;49m\u001b[43mstr\u001b[49m\u001b[38;5;241;43m.\u001b[39;49m\u001b[43mreplace\u001b[49m\u001b[43m(\u001b[49m\u001b[38;5;124;43m\"\u001b[39;49m\u001b[38;5;124;43m zł\u001b[39;49m\u001b[38;5;124;43m\"\u001b[39;49m\u001b[43m,\u001b[49m\u001b[38;5;124;43m\"\u001b[39;49m\u001b[38;5;124;43m\"\u001b[39;49m\u001b[43m)\u001b[49m\u001b[38;5;241;43m.\u001b[39;49m\u001b[43mstr\u001b[49m\u001b[38;5;241;43m.\u001b[39;49m\u001b[43mreplace\u001b[49m\u001b[43m(\u001b[49m\u001b[38;5;124;43m\"\u001b[39;49m\u001b[38;5;124;43m \u001b[39;49m\u001b[38;5;124;43m\"\u001b[39;49m\u001b[43m,\u001b[49m\u001b[43m \u001b[49m\u001b[38;5;124;43m\"\u001b[39;49m\u001b[38;5;124;43m\"\u001b[39;49m\u001b[43m)\u001b[49m\u001b[38;5;241;43m.\u001b[39;49m\u001b[43mstr\u001b[49m\u001b[38;5;241;43m.\u001b[39;49m\u001b[43mreplace\u001b[49m\u001b[43m(\u001b[49m\u001b[38;5;124;43m\"\u001b[39;49m\u001b[38;5;124;43m,\u001b[39;49m\u001b[38;5;124;43m\"\u001b[39;49m\u001b[43m,\u001b[49m\u001b[43m \u001b[49m\u001b[38;5;124;43m\"\u001b[39;49m\u001b[38;5;124;43m.\u001b[39;49m\u001b[38;5;124;43m\"\u001b[39;49m\u001b[43m)\u001b[49m\u001b[38;5;241;43m.\u001b[39;49m\u001b[43mastype\u001b[49m\u001b[43m(\u001b[49m\u001b[38;5;28;43mfloat\u001b[39;49m\u001b[43m)\u001b[49m\n",
      "File \u001b[1;32m~\\AppData\\Local\\Programs\\Python\\Python311\\Lib\\site-packages\\pandas\\core\\generic.py:6240\u001b[0m, in \u001b[0;36mNDFrame.astype\u001b[1;34m(self, dtype, copy, errors)\u001b[0m\n\u001b[0;32m   6233\u001b[0m     results \u001b[38;5;241m=\u001b[39m [\n\u001b[0;32m   6234\u001b[0m         \u001b[38;5;28mself\u001b[39m\u001b[38;5;241m.\u001b[39miloc[:, i]\u001b[38;5;241m.\u001b[39mastype(dtype, copy\u001b[38;5;241m=\u001b[39mcopy)\n\u001b[0;32m   6235\u001b[0m         \u001b[38;5;28;01mfor\u001b[39;00m i \u001b[38;5;129;01min\u001b[39;00m \u001b[38;5;28mrange\u001b[39m(\u001b[38;5;28mlen\u001b[39m(\u001b[38;5;28mself\u001b[39m\u001b[38;5;241m.\u001b[39mcolumns))\n\u001b[0;32m   6236\u001b[0m     ]\n\u001b[0;32m   6238\u001b[0m \u001b[38;5;28;01melse\u001b[39;00m:\n\u001b[0;32m   6239\u001b[0m     \u001b[38;5;66;03m# else, only a single dtype is given\u001b[39;00m\n\u001b[1;32m-> 6240\u001b[0m     new_data \u001b[38;5;241m=\u001b[39m \u001b[38;5;28;43mself\u001b[39;49m\u001b[38;5;241;43m.\u001b[39;49m\u001b[43m_mgr\u001b[49m\u001b[38;5;241;43m.\u001b[39;49m\u001b[43mastype\u001b[49m\u001b[43m(\u001b[49m\u001b[43mdtype\u001b[49m\u001b[38;5;241;43m=\u001b[39;49m\u001b[43mdtype\u001b[49m\u001b[43m,\u001b[49m\u001b[43m \u001b[49m\u001b[43mcopy\u001b[49m\u001b[38;5;241;43m=\u001b[39;49m\u001b[43mcopy\u001b[49m\u001b[43m,\u001b[49m\u001b[43m \u001b[49m\u001b[43merrors\u001b[49m\u001b[38;5;241;43m=\u001b[39;49m\u001b[43merrors\u001b[49m\u001b[43m)\u001b[49m\n\u001b[0;32m   6241\u001b[0m     \u001b[38;5;28;01mreturn\u001b[39;00m \u001b[38;5;28mself\u001b[39m\u001b[38;5;241m.\u001b[39m_constructor(new_data)\u001b[38;5;241m.\u001b[39m__finalize__(\u001b[38;5;28mself\u001b[39m, method\u001b[38;5;241m=\u001b[39m\u001b[38;5;124m\"\u001b[39m\u001b[38;5;124mastype\u001b[39m\u001b[38;5;124m\"\u001b[39m)\n\u001b[0;32m   6243\u001b[0m \u001b[38;5;66;03m# GH 33113: handle empty frame or series\u001b[39;00m\n",
      "File \u001b[1;32m~\\AppData\\Local\\Programs\\Python\\Python311\\Lib\\site-packages\\pandas\\core\\internals\\managers.py:448\u001b[0m, in \u001b[0;36mBaseBlockManager.astype\u001b[1;34m(self, dtype, copy, errors)\u001b[0m\n\u001b[0;32m    447\u001b[0m \u001b[38;5;28;01mdef\u001b[39;00m \u001b[38;5;21mastype\u001b[39m(\u001b[38;5;28mself\u001b[39m: T, dtype, copy: \u001b[38;5;28mbool\u001b[39m \u001b[38;5;241m=\u001b[39m \u001b[38;5;28;01mFalse\u001b[39;00m, errors: \u001b[38;5;28mstr\u001b[39m \u001b[38;5;241m=\u001b[39m \u001b[38;5;124m\"\u001b[39m\u001b[38;5;124mraise\u001b[39m\u001b[38;5;124m\"\u001b[39m) \u001b[38;5;241m-\u001b[39m\u001b[38;5;241m>\u001b[39m T:\n\u001b[1;32m--> 448\u001b[0m     \u001b[38;5;28;01mreturn\u001b[39;00m \u001b[38;5;28;43mself\u001b[39;49m\u001b[38;5;241;43m.\u001b[39;49m\u001b[43mapply\u001b[49m\u001b[43m(\u001b[49m\u001b[38;5;124;43m\"\u001b[39;49m\u001b[38;5;124;43mastype\u001b[39;49m\u001b[38;5;124;43m\"\u001b[39;49m\u001b[43m,\u001b[49m\u001b[43m \u001b[49m\u001b[43mdtype\u001b[49m\u001b[38;5;241;43m=\u001b[39;49m\u001b[43mdtype\u001b[49m\u001b[43m,\u001b[49m\u001b[43m \u001b[49m\u001b[43mcopy\u001b[49m\u001b[38;5;241;43m=\u001b[39;49m\u001b[43mcopy\u001b[49m\u001b[43m,\u001b[49m\u001b[43m \u001b[49m\u001b[43merrors\u001b[49m\u001b[38;5;241;43m=\u001b[39;49m\u001b[43merrors\u001b[49m\u001b[43m)\u001b[49m\n",
      "File \u001b[1;32m~\\AppData\\Local\\Programs\\Python\\Python311\\Lib\\site-packages\\pandas\\core\\internals\\managers.py:352\u001b[0m, in \u001b[0;36mBaseBlockManager.apply\u001b[1;34m(self, f, align_keys, ignore_failures, **kwargs)\u001b[0m\n\u001b[0;32m    350\u001b[0m         applied \u001b[38;5;241m=\u001b[39m b\u001b[38;5;241m.\u001b[39mapply(f, \u001b[38;5;241m*\u001b[39m\u001b[38;5;241m*\u001b[39mkwargs)\n\u001b[0;32m    351\u001b[0m     \u001b[38;5;28;01melse\u001b[39;00m:\n\u001b[1;32m--> 352\u001b[0m         applied \u001b[38;5;241m=\u001b[39m \u001b[38;5;28;43mgetattr\u001b[39;49m\u001b[43m(\u001b[49m\u001b[43mb\u001b[49m\u001b[43m,\u001b[49m\u001b[43m \u001b[49m\u001b[43mf\u001b[49m\u001b[43m)\u001b[49m\u001b[43m(\u001b[49m\u001b[38;5;241;43m*\u001b[39;49m\u001b[38;5;241;43m*\u001b[39;49m\u001b[43mkwargs\u001b[49m\u001b[43m)\u001b[49m\n\u001b[0;32m    353\u001b[0m \u001b[38;5;28;01mexcept\u001b[39;00m (\u001b[38;5;167;01mTypeError\u001b[39;00m, \u001b[38;5;167;01mNotImplementedError\u001b[39;00m):\n\u001b[0;32m    354\u001b[0m     \u001b[38;5;28;01mif\u001b[39;00m \u001b[38;5;129;01mnot\u001b[39;00m ignore_failures:\n",
      "File \u001b[1;32m~\\AppData\\Local\\Programs\\Python\\Python311\\Lib\\site-packages\\pandas\\core\\internals\\blocks.py:526\u001b[0m, in \u001b[0;36mBlock.astype\u001b[1;34m(self, dtype, copy, errors)\u001b[0m\n\u001b[0;32m    508\u001b[0m \u001b[38;5;250m\u001b[39m\u001b[38;5;124;03m\"\"\"\u001b[39;00m\n\u001b[0;32m    509\u001b[0m \u001b[38;5;124;03mCoerce to the new dtype.\u001b[39;00m\n\u001b[0;32m    510\u001b[0m \n\u001b[1;32m   (...)\u001b[0m\n\u001b[0;32m    522\u001b[0m \u001b[38;5;124;03mBlock\u001b[39;00m\n\u001b[0;32m    523\u001b[0m \u001b[38;5;124;03m\"\"\"\u001b[39;00m\n\u001b[0;32m    524\u001b[0m values \u001b[38;5;241m=\u001b[39m \u001b[38;5;28mself\u001b[39m\u001b[38;5;241m.\u001b[39mvalues\n\u001b[1;32m--> 526\u001b[0m new_values \u001b[38;5;241m=\u001b[39m \u001b[43mastype_array_safe\u001b[49m\u001b[43m(\u001b[49m\u001b[43mvalues\u001b[49m\u001b[43m,\u001b[49m\u001b[43m \u001b[49m\u001b[43mdtype\u001b[49m\u001b[43m,\u001b[49m\u001b[43m \u001b[49m\u001b[43mcopy\u001b[49m\u001b[38;5;241;43m=\u001b[39;49m\u001b[43mcopy\u001b[49m\u001b[43m,\u001b[49m\u001b[43m \u001b[49m\u001b[43merrors\u001b[49m\u001b[38;5;241;43m=\u001b[39;49m\u001b[43merrors\u001b[49m\u001b[43m)\u001b[49m\n\u001b[0;32m    528\u001b[0m new_values \u001b[38;5;241m=\u001b[39m maybe_coerce_values(new_values)\n\u001b[0;32m    529\u001b[0m newb \u001b[38;5;241m=\u001b[39m \u001b[38;5;28mself\u001b[39m\u001b[38;5;241m.\u001b[39mmake_block(new_values)\n",
      "File \u001b[1;32m~\\AppData\\Local\\Programs\\Python\\Python311\\Lib\\site-packages\\pandas\\core\\dtypes\\astype.py:299\u001b[0m, in \u001b[0;36mastype_array_safe\u001b[1;34m(values, dtype, copy, errors)\u001b[0m\n\u001b[0;32m    296\u001b[0m     \u001b[38;5;28;01mreturn\u001b[39;00m values\u001b[38;5;241m.\u001b[39mcopy()\n\u001b[0;32m    298\u001b[0m \u001b[38;5;28;01mtry\u001b[39;00m:\n\u001b[1;32m--> 299\u001b[0m     new_values \u001b[38;5;241m=\u001b[39m \u001b[43mastype_array\u001b[49m\u001b[43m(\u001b[49m\u001b[43mvalues\u001b[49m\u001b[43m,\u001b[49m\u001b[43m \u001b[49m\u001b[43mdtype\u001b[49m\u001b[43m,\u001b[49m\u001b[43m \u001b[49m\u001b[43mcopy\u001b[49m\u001b[38;5;241;43m=\u001b[39;49m\u001b[43mcopy\u001b[49m\u001b[43m)\u001b[49m\n\u001b[0;32m    300\u001b[0m \u001b[38;5;28;01mexcept\u001b[39;00m (\u001b[38;5;167;01mValueError\u001b[39;00m, \u001b[38;5;167;01mTypeError\u001b[39;00m):\n\u001b[0;32m    301\u001b[0m     \u001b[38;5;66;03m# e.g. astype_nansafe can fail on object-dtype of strings\u001b[39;00m\n\u001b[0;32m    302\u001b[0m     \u001b[38;5;66;03m#  trying to convert to float\u001b[39;00m\n\u001b[0;32m    303\u001b[0m     \u001b[38;5;28;01mif\u001b[39;00m errors \u001b[38;5;241m==\u001b[39m \u001b[38;5;124m\"\u001b[39m\u001b[38;5;124mignore\u001b[39m\u001b[38;5;124m\"\u001b[39m:\n",
      "File \u001b[1;32m~\\AppData\\Local\\Programs\\Python\\Python311\\Lib\\site-packages\\pandas\\core\\dtypes\\astype.py:230\u001b[0m, in \u001b[0;36mastype_array\u001b[1;34m(values, dtype, copy)\u001b[0m\n\u001b[0;32m    227\u001b[0m     values \u001b[38;5;241m=\u001b[39m values\u001b[38;5;241m.\u001b[39mastype(dtype, copy\u001b[38;5;241m=\u001b[39mcopy)\n\u001b[0;32m    229\u001b[0m \u001b[38;5;28;01melse\u001b[39;00m:\n\u001b[1;32m--> 230\u001b[0m     values \u001b[38;5;241m=\u001b[39m \u001b[43mastype_nansafe\u001b[49m\u001b[43m(\u001b[49m\u001b[43mvalues\u001b[49m\u001b[43m,\u001b[49m\u001b[43m \u001b[49m\u001b[43mdtype\u001b[49m\u001b[43m,\u001b[49m\u001b[43m \u001b[49m\u001b[43mcopy\u001b[49m\u001b[38;5;241;43m=\u001b[39;49m\u001b[43mcopy\u001b[49m\u001b[43m)\u001b[49m\n\u001b[0;32m    232\u001b[0m \u001b[38;5;66;03m# in pandas we don't store numpy str dtypes, so convert to object\u001b[39;00m\n\u001b[0;32m    233\u001b[0m \u001b[38;5;28;01mif\u001b[39;00m \u001b[38;5;28misinstance\u001b[39m(dtype, np\u001b[38;5;241m.\u001b[39mdtype) \u001b[38;5;129;01mand\u001b[39;00m \u001b[38;5;28missubclass\u001b[39m(values\u001b[38;5;241m.\u001b[39mdtype\u001b[38;5;241m.\u001b[39mtype, \u001b[38;5;28mstr\u001b[39m):\n",
      "File \u001b[1;32m~\\AppData\\Local\\Programs\\Python\\Python311\\Lib\\site-packages\\pandas\\core\\dtypes\\astype.py:170\u001b[0m, in \u001b[0;36mastype_nansafe\u001b[1;34m(arr, dtype, copy, skipna)\u001b[0m\n\u001b[0;32m    166\u001b[0m     \u001b[38;5;28;01mraise\u001b[39;00m \u001b[38;5;167;01mValueError\u001b[39;00m(msg)\n\u001b[0;32m    168\u001b[0m \u001b[38;5;28;01mif\u001b[39;00m copy \u001b[38;5;129;01mor\u001b[39;00m is_object_dtype(arr\u001b[38;5;241m.\u001b[39mdtype) \u001b[38;5;129;01mor\u001b[39;00m is_object_dtype(dtype):\n\u001b[0;32m    169\u001b[0m     \u001b[38;5;66;03m# Explicit copy, or required since NumPy can't view from / to object.\u001b[39;00m\n\u001b[1;32m--> 170\u001b[0m     \u001b[38;5;28;01mreturn\u001b[39;00m \u001b[43marr\u001b[49m\u001b[38;5;241;43m.\u001b[39;49m\u001b[43mastype\u001b[49m\u001b[43m(\u001b[49m\u001b[43mdtype\u001b[49m\u001b[43m,\u001b[49m\u001b[43m \u001b[49m\u001b[43mcopy\u001b[49m\u001b[38;5;241;43m=\u001b[39;49m\u001b[38;5;28;43;01mTrue\u001b[39;49;00m\u001b[43m)\u001b[49m\n\u001b[0;32m    172\u001b[0m \u001b[38;5;28;01mreturn\u001b[39;00m arr\u001b[38;5;241m.\u001b[39mastype(dtype, copy\u001b[38;5;241m=\u001b[39mcopy)\n",
      "\u001b[1;31mValueError\u001b[0m: could not convert string to float: 'Zapytaj'"
     ]
    }
   ],
   "source": [
    "df_filtered[\"amount_of_rent\"] = df_filtered[\"amount_of_rent\"].str.replace(\" zł\",\"\").str.replace(\" \", \"\").str.replace(\",\", \".\").astype(float)"
   ]
  },
  {
   "cell_type": "code",
   "execution_count": 57,
   "id": "017345f0",
   "metadata": {},
   "outputs": [],
   "source": [
    "df_filtered[\"amount_of_rent\"] = df_filtered[\"amount_of_rent\"].str.replace(\" zł\",\"\").str.replace(\" \", \"\").str.replace(\",\", \".\")"
   ]
  },
  {
   "cell_type": "code",
   "execution_count": 58,
   "id": "ebc3f4e8",
   "metadata": {},
   "outputs": [],
   "source": [
    " df_filtered[\"amount_of_rent\"] = pd.to_numeric(df_filtered[\"amount_of_rent\"], errors=\"coerce\")"
   ]
  },
  {
   "cell_type": "code",
   "execution_count": 59,
   "id": "1f2d01cf",
   "metadata": {},
   "outputs": [
    {
     "data": {
      "text/plain": [
       "1681   600.00\n",
       "5263      NaN\n",
       "4699      NaN\n",
       "6568   250.00\n",
       "2963      NaN\n",
       "7093      NaN\n",
       "4411      NaN\n",
       "1232      NaN\n",
       "2820   380.00\n",
       "2847   430.00\n",
       "Name: amount_of_rent, dtype: float64"
      ]
     },
     "execution_count": 59,
     "metadata": {},
     "output_type": "execute_result"
    }
   ],
   "source": [
    "df_filtered[\"amount_of_rent\"].sample(10)"
   ]
  },
  {
   "cell_type": "markdown",
   "id": "40582599",
   "metadata": {},
   "source": [
    "###  W tej kolumnie brakuje ok 60% danych zastanowić sie czy jej sobie nie odpuścić "
   ]
  },
  {
   "cell_type": "code",
   "execution_count": 60,
   "id": "1091f913",
   "metadata": {},
   "outputs": [
    {
     "data": {
      "text/plain": [
       "brak informacji    1828\n",
       "2023               1184\n",
       "2024                602\n",
       "2022                268\n",
       "2025                263\n",
       "                   ... \n",
       "1870                  1\n",
       "1952                  1\n",
       "1962                  1\n",
       "1903                  1\n",
       "1964                  1\n",
       "Name: year_of_construction, Length: 125, dtype: int64"
      ]
     },
     "execution_count": 60,
     "metadata": {},
     "output_type": "execute_result"
    }
   ],
   "source": [
    "df_filtered[\"year_of_construction\"].value_counts()"
   ]
  },
  {
   "cell_type": "code",
   "execution_count": 61,
   "id": "10e2df87",
   "metadata": {},
   "outputs": [
    {
     "data": {
      "text/plain": [
       "367"
      ]
     },
     "execution_count": 61,
     "metadata": {},
     "output_type": "execute_result"
    }
   ],
   "source": [
    "((df_filtered[\"primary_secondary\"] == \"pierwotny\") & (df_filtered[\"year_of_construction\"] == \"brak informacji\")).sum()"
   ]
  },
  {
   "cell_type": "code",
   "execution_count": 62,
   "id": "0feeee9d",
   "metadata": {},
   "outputs": [],
   "source": [
    "#Dla rynku pierwotnego uzupełnienie roku na 2023\n",
    "df_filtered.loc[((df_filtered[\"primary_secondary\"] == \"pierwotny\") & (df_filtered[\"year_of_construction\"] == \"brak informacji\")), \"year_of_construction\"] = \"2023\""
   ]
  },
  {
   "cell_type": "code",
   "execution_count": 63,
   "id": "c418625d",
   "metadata": {
    "scrolled": true
   },
   "outputs": [
    {
     "ename": "ValueError",
     "evalue": "Unable to parse string \"brak informacji\" at position 1",
     "output_type": "error",
     "traceback": [
      "\u001b[1;31m---------------------------------------------------------------------------\u001b[0m",
      "\u001b[1;31mValueError\u001b[0m                                Traceback (most recent call last)",
      "File \u001b[1;32m~\\AppData\\Local\\Programs\\Python\\Python311\\Lib\\site-packages\\pandas\\_libs\\lib.pyx:2369\u001b[0m, in \u001b[0;36mpandas._libs.lib.maybe_convert_numeric\u001b[1;34m()\u001b[0m\n",
      "\u001b[1;31mValueError\u001b[0m: Unable to parse string \"brak informacji\"",
      "\nDuring handling of the above exception, another exception occurred:\n",
      "\u001b[1;31mValueError\u001b[0m                                Traceback (most recent call last)",
      "Cell \u001b[1;32mIn[63], line 1\u001b[0m\n\u001b[1;32m----> 1\u001b[0m df_filtered[\u001b[38;5;124m\"\u001b[39m\u001b[38;5;124myear_of_construction\u001b[39m\u001b[38;5;124m\"\u001b[39m] \u001b[38;5;241m=\u001b[39m \u001b[43mpd\u001b[49m\u001b[38;5;241;43m.\u001b[39;49m\u001b[43mto_numeric\u001b[49m\u001b[43m(\u001b[49m\u001b[43mdf_filtered\u001b[49m\u001b[43m[\u001b[49m\u001b[38;5;124;43m\"\u001b[39;49m\u001b[38;5;124;43myear_of_construction\u001b[39;49m\u001b[38;5;124;43m\"\u001b[39;49m\u001b[43m]\u001b[49m\u001b[43m,\u001b[49m\u001b[43m \u001b[49m\u001b[43merrors\u001b[49m\u001b[38;5;241;43m=\u001b[39;49m\u001b[38;5;124;43m'\u001b[39;49m\u001b[38;5;124;43mraise\u001b[39;49m\u001b[38;5;124;43m'\u001b[39;49m\u001b[43m)\u001b[49m\n",
      "File \u001b[1;32m~\\AppData\\Local\\Programs\\Python\\Python311\\Lib\\site-packages\\pandas\\core\\tools\\numeric.py:185\u001b[0m, in \u001b[0;36mto_numeric\u001b[1;34m(arg, errors, downcast)\u001b[0m\n\u001b[0;32m    183\u001b[0m coerce_numeric \u001b[38;5;241m=\u001b[39m errors \u001b[38;5;129;01mnot\u001b[39;00m \u001b[38;5;129;01min\u001b[39;00m (\u001b[38;5;124m\"\u001b[39m\u001b[38;5;124mignore\u001b[39m\u001b[38;5;124m\"\u001b[39m, \u001b[38;5;124m\"\u001b[39m\u001b[38;5;124mraise\u001b[39m\u001b[38;5;124m\"\u001b[39m)\n\u001b[0;32m    184\u001b[0m \u001b[38;5;28;01mtry\u001b[39;00m:\n\u001b[1;32m--> 185\u001b[0m     values, _ \u001b[38;5;241m=\u001b[39m \u001b[43mlib\u001b[49m\u001b[38;5;241;43m.\u001b[39;49m\u001b[43mmaybe_convert_numeric\u001b[49m\u001b[43m(\u001b[49m\n\u001b[0;32m    186\u001b[0m \u001b[43m        \u001b[49m\u001b[43mvalues\u001b[49m\u001b[43m,\u001b[49m\u001b[43m \u001b[49m\u001b[38;5;28;43mset\u001b[39;49m\u001b[43m(\u001b[49m\u001b[43m)\u001b[49m\u001b[43m,\u001b[49m\u001b[43m \u001b[49m\u001b[43mcoerce_numeric\u001b[49m\u001b[38;5;241;43m=\u001b[39;49m\u001b[43mcoerce_numeric\u001b[49m\n\u001b[0;32m    187\u001b[0m \u001b[43m    \u001b[49m\u001b[43m)\u001b[49m\n\u001b[0;32m    188\u001b[0m \u001b[38;5;28;01mexcept\u001b[39;00m (\u001b[38;5;167;01mValueError\u001b[39;00m, \u001b[38;5;167;01mTypeError\u001b[39;00m):\n\u001b[0;32m    189\u001b[0m     \u001b[38;5;28;01mif\u001b[39;00m errors \u001b[38;5;241m==\u001b[39m \u001b[38;5;124m\"\u001b[39m\u001b[38;5;124mraise\u001b[39m\u001b[38;5;124m\"\u001b[39m:\n",
      "File \u001b[1;32m~\\AppData\\Local\\Programs\\Python\\Python311\\Lib\\site-packages\\pandas\\_libs\\lib.pyx:2411\u001b[0m, in \u001b[0;36mpandas._libs.lib.maybe_convert_numeric\u001b[1;34m()\u001b[0m\n",
      "\u001b[1;31mValueError\u001b[0m: Unable to parse string \"brak informacji\" at position 1"
     ]
    }
   ],
   "source": [
    "df_filtered[\"year_of_construction\"] = pd.to_numeric(df_filtered[\"year_of_construction\"], errors='raise')"
   ]
  },
  {
   "cell_type": "code",
   "execution_count": 64,
   "id": "8a05e35b",
   "metadata": {},
   "outputs": [
    {
     "data": {
      "text/plain": [
       "2,023.00    1551\n",
       "2,024.00     602\n",
       "2,022.00     268\n",
       "2,025.00     263\n",
       "1,980.00     169\n",
       "            ... \n",
       "1,903.00       1\n",
       "1,953.00       1\n",
       "1,870.00       1\n",
       "1,962.00       1\n",
       "1,964.00       1\n",
       "Name: year_of_construction, Length: 124, dtype: int64"
      ]
     },
     "execution_count": 64,
     "metadata": {},
     "output_type": "execute_result"
    }
   ],
   "source": [
    "pd.to_numeric(df_filtered[\"year_of_construction\"], errors=\"coerce\").value_counts()"
   ]
  },
  {
   "cell_type": "code",
   "execution_count": 65,
   "id": "eee11215",
   "metadata": {},
   "outputs": [
    {
     "data": {
      "text/plain": [
       "2986    20223\n",
       "3625    20223\n",
       "Name: year_of_construction, dtype: object"
      ]
     },
     "execution_count": 65,
     "metadata": {},
     "output_type": "execute_result"
    }
   ],
   "source": [
    "df_filtered.loc[pd.to_numeric(df_filtered[\"year_of_construction\"], errors=\"coerce\") > 2030][\"year_of_construction\"]"
   ]
  },
  {
   "cell_type": "code",
   "execution_count": 66,
   "id": "e7b0f258",
   "metadata": {},
   "outputs": [],
   "source": [
    "df_filtered.loc[pd.to_numeric(df_filtered[\"year_of_construction\"], errors=\"coerce\") > 2030, \"year_of_construction\"] = 2023"
   ]
  },
  {
   "cell_type": "code",
   "execution_count": 67,
   "id": "29cc8398",
   "metadata": {},
   "outputs": [],
   "source": [
    "df_filtered.loc[pd.to_numeric(df_filtered[\"year_of_construction\"], errors=\"coerce\") < 1900 , \"year_of_construction\"] = \"x<1900\""
   ]
  },
  {
   "cell_type": "code",
   "execution_count": 68,
   "id": "40d71ac9",
   "metadata": {},
   "outputs": [],
   "source": [
    "df_filtered.loc[pd.to_numeric(df_filtered[\"year_of_construction\"], errors=\"coerce\") < 1990, \"year_of_construction\"] = \"1900<x<1990\""
   ]
  },
  {
   "cell_type": "code",
   "execution_count": 69,
   "id": "12f29841",
   "metadata": {},
   "outputs": [],
   "source": [
    "df_filtered.loc[pd.to_numeric(df_filtered[\"year_of_construction\"], errors=\"coerce\") < 2010, \"year_of_construction\"] = \"1990<x<2010\""
   ]
  },
  {
   "cell_type": "code",
   "execution_count": 70,
   "id": "7c4de698",
   "metadata": {},
   "outputs": [],
   "source": [
    "df_filtered.loc[pd.to_numeric(df_filtered[\"year_of_construction\"], errors=\"coerce\") < 2018, \"year_of_construction\"] = \"2010<x<2018\""
   ]
  },
  {
   "cell_type": "code",
   "execution_count": 71,
   "id": "e6eb931e",
   "metadata": {},
   "outputs": [],
   "source": [
    "df_filtered.loc[pd.to_numeric(df_filtered[\"year_of_construction\"], errors=\"coerce\") >= 2018, \"year_of_construction\"] = \"2018<=x\""
   ]
  },
  {
   "cell_type": "code",
   "execution_count": 72,
   "id": "b40edf0b",
   "metadata": {},
   "outputs": [
    {
     "data": {
      "text/plain": [
       "2018<=x            2892\n",
       "brak informacji    1461\n",
       "1900<x<1990        1063\n",
       "1990<x<2010         422\n",
       "2010<x<2018         421\n",
       "x<1900               23\n",
       "Name: year_of_construction, dtype: int64"
      ]
     },
     "execution_count": 72,
     "metadata": {},
     "output_type": "execute_result"
    }
   ],
   "source": [
    "df_filtered[\"year_of_construction\"].value_counts()"
   ]
  },
  {
   "cell_type": "code",
   "execution_count": 73,
   "id": "0557bc73",
   "metadata": {},
   "outputs": [
    {
     "data": {
      "text/html": [
       "<div>\n",
       "<style scoped>\n",
       "    .dataframe tbody tr th:only-of-type {\n",
       "        vertical-align: middle;\n",
       "    }\n",
       "\n",
       "    .dataframe tbody tr th {\n",
       "        vertical-align: top;\n",
       "    }\n",
       "\n",
       "    .dataframe thead th {\n",
       "        text-align: right;\n",
       "    }\n",
       "</style>\n",
       "<table border=\"1\" class=\"dataframe\">\n",
       "  <thead>\n",
       "    <tr style=\"text-align: right;\">\n",
       "      <th></th>\n",
       "      <th>prices</th>\n",
       "      <th>area</th>\n",
       "      <th>price per square meter</th>\n",
       "      <th>numbers_of_rooms</th>\n",
       "      <th>amount_of_rent</th>\n",
       "    </tr>\n",
       "  </thead>\n",
       "  <tbody>\n",
       "    <tr>\n",
       "      <th>count</th>\n",
       "      <td>6,282.00</td>\n",
       "      <td>6,282.00</td>\n",
       "      <td>6,282.00</td>\n",
       "      <td>6,282.00</td>\n",
       "      <td>2,529.00</td>\n",
       "    </tr>\n",
       "    <tr>\n",
       "      <th>mean</th>\n",
       "      <td>670,954.86</td>\n",
       "      <td>56.81</td>\n",
       "      <td>12,098.71</td>\n",
       "      <td>2.67</td>\n",
       "      <td>558.19</td>\n",
       "    </tr>\n",
       "    <tr>\n",
       "      <th>std</th>\n",
       "      <td>171,711.22</td>\n",
       "      <td>16.33</td>\n",
       "      <td>2,027.57</td>\n",
       "      <td>0.90</td>\n",
       "      <td>328.50</td>\n",
       "    </tr>\n",
       "    <tr>\n",
       "      <th>min</th>\n",
       "      <td>228,900.00</td>\n",
       "      <td>17.50</td>\n",
       "      <td>6,766.00</td>\n",
       "      <td>1.00</td>\n",
       "      <td>1.00</td>\n",
       "    </tr>\n",
       "    <tr>\n",
       "      <th>25%</th>\n",
       "      <td>544,125.00</td>\n",
       "      <td>45.53</td>\n",
       "      <td>10,790.00</td>\n",
       "      <td>2.00</td>\n",
       "      <td>400.00</td>\n",
       "    </tr>\n",
       "    <tr>\n",
       "      <th>50%</th>\n",
       "      <td>659,000.00</td>\n",
       "      <td>56.00</td>\n",
       "      <td>12,002.50</td>\n",
       "      <td>3.00</td>\n",
       "      <td>550.00</td>\n",
       "    </tr>\n",
       "    <tr>\n",
       "      <th>75%</th>\n",
       "      <td>782,145.50</td>\n",
       "      <td>66.61</td>\n",
       "      <td>13,217.25</td>\n",
       "      <td>3.00</td>\n",
       "      <td>700.00</td>\n",
       "    </tr>\n",
       "    <tr>\n",
       "      <th>max</th>\n",
       "      <td>1,175,000.00</td>\n",
       "      <td>106.68</td>\n",
       "      <td>17,641.00</td>\n",
       "      <td>7.00</td>\n",
       "      <td>13,000.00</td>\n",
       "    </tr>\n",
       "  </tbody>\n",
       "</table>\n",
       "</div>"
      ],
      "text/plain": [
       "            prices     area  price per square meter  numbers_of_rooms  \\\n",
       "count     6,282.00 6,282.00                6,282.00          6,282.00   \n",
       "mean    670,954.86    56.81               12,098.71              2.67   \n",
       "std     171,711.22    16.33                2,027.57              0.90   \n",
       "min     228,900.00    17.50                6,766.00              1.00   \n",
       "25%     544,125.00    45.53               10,790.00              2.00   \n",
       "50%     659,000.00    56.00               12,002.50              3.00   \n",
       "75%     782,145.50    66.61               13,217.25              3.00   \n",
       "max   1,175,000.00   106.68               17,641.00              7.00   \n",
       "\n",
       "       amount_of_rent  \n",
       "count        2,529.00  \n",
       "mean           558.19  \n",
       "std            328.50  \n",
       "min              1.00  \n",
       "25%            400.00  \n",
       "50%            550.00  \n",
       "75%            700.00  \n",
       "max         13,000.00  "
      ]
     },
     "execution_count": 73,
     "metadata": {},
     "output_type": "execute_result"
    }
   ],
   "source": [
    "df_filtered.describe()"
   ]
  },
  {
   "cell_type": "code",
   "execution_count": 74,
   "id": "aa736785",
   "metadata": {},
   "outputs": [
    {
     "name": "stdout",
     "output_type": "stream",
     "text": [
      "<class 'pandas.core.frame.DataFrame'>\n",
      "Int64Index: 6282 entries, 0 to 7232\n",
      "Data columns (total 27 columns):\n",
      " #   Column                  Non-Null Count  Dtype  \n",
      "---  ------                  --------------  -----  \n",
      " 0   titles                  6282 non-null   object \n",
      " 1   prices                  6282 non-null   float64\n",
      " 2   location                6282 non-null   object \n",
      " 3   area                    6282 non-null   float64\n",
      " 4   price per square meter  6282 non-null   int64  \n",
      " 5   numbers_of_rooms        6282 non-null   int32  \n",
      " 6   urls                    6282 non-null   object \n",
      " 7   property_ownership      6282 non-null   object \n",
      " 8   condition_of_property   6282 non-null   object \n",
      " 9   floor                   6282 non-null   object \n",
      " 10  balcon_garden_terrace   6282 non-null   object \n",
      " 11  amount_of_rent          2529 non-null   float64\n",
      " 12  parking_space           6282 non-null   object \n",
      " 13  type_of_heating         6282 non-null   object \n",
      " 14  primary_secondary       6282 non-null   object \n",
      " 15  seller                  6282 non-null   object \n",
      " 16  year_of_construction    6282 non-null   object \n",
      " 17  type_of_development     6282 non-null   object \n",
      " 18  window                  6282 non-null   object \n",
      " 19  lift                    6282 non-null   object \n",
      " 20  utilities               6282 non-null   object \n",
      " 21  security                6282 non-null   object \n",
      " 22  home_furnishings        6282 non-null   object \n",
      " 23  additional_info         6282 non-null   object \n",
      " 24  bulding_material        6282 non-null   object \n",
      " 25  describe                6282 non-null   object \n",
      " 26  number_of_floors        5995 non-null   object \n",
      "dtypes: float64(3), int32(1), int64(1), object(22)\n",
      "memory usage: 1.4+ MB\n"
     ]
    }
   ],
   "source": [
    "df_filtered.info()"
   ]
  },
  {
   "cell_type": "markdown",
   "id": "55edebe6",
   "metadata": {},
   "source": [
    "### location"
   ]
  },
  {
   "cell_type": "code",
   "execution_count": 75,
   "id": "7a563bf8",
   "metadata": {},
   "outputs": [],
   "source": [
    "#Zamiana listy na str i oczyszczenie z niepotrzebnych znaków\n",
    "df_filtered[\"location\"] = df_filtered[\"location\"].str.replace(\"[\",\"\", regex=True).str.replace(\"]\",\"\", regex=True).str.replace(\"'\",\"\", regex=True)\n",
    "#Wydzielenie ulic\n",
    "df_filtered[[\"location_remain\", \"district\", \"city\", \"province\"]] = df_filtered[\"location\"].str.rsplit(\", \",n=3, expand=True)"
   ]
  },
  {
   "cell_type": "markdown",
   "id": "31908fe9",
   "metadata": {},
   "source": [
    "### balcon_garden_terrace"
   ]
  },
  {
   "cell_type": "code",
   "execution_count": 76,
   "id": "b1f26bcc",
   "metadata": {},
   "outputs": [],
   "source": [
    "def get_dummy_for(df, column_name):\n",
    "    df[column_name] = df[column_name].str.replace(\", \",\",\").str.strip()\n",
    "    df[column_name] = df[column_name].apply(lambda x: unidecode(x) if x is not None else None)\n",
    "    df[column_name] = df[column_name].str.replace(\" \", \"_\")\n",
    "    df.loc[df[column_name] == \"None\", column_name] = np.nan\n",
    "    df.loc[df[column_name] == \"nan\", column_name] = np.nan\n",
    "    df_encoded = df[column_name].str.get_dummies(sep=',').add_prefix(f\"{column_name}_dummy_\")\n",
    "    df = pd.concat([df, df_encoded], axis=1)\n",
    "    return df"
   ]
  },
  {
   "cell_type": "code",
   "execution_count": 77,
   "id": "cace5ea3",
   "metadata": {},
   "outputs": [],
   "source": [
    "df_filtered = get_dummy_for(df_filtered, \"balcon_garden_terrace\")"
   ]
  },
  {
   "cell_type": "markdown",
   "id": "e7f11dfd",
   "metadata": {},
   "source": [
    "### utilites"
   ]
  },
  {
   "cell_type": "code",
   "execution_count": 78,
   "id": "d5d93836",
   "metadata": {},
   "outputs": [],
   "source": [
    "df_filtered = get_dummy_for(df_filtered, \"utilities\")"
   ]
  },
  {
   "cell_type": "markdown",
   "id": "250d36bb",
   "metadata": {},
   "source": [
    "### security"
   ]
  },
  {
   "cell_type": "code",
   "execution_count": 79,
   "id": "2070dde4",
   "metadata": {},
   "outputs": [],
   "source": [
    "df_filtered = get_dummy_for(df_filtered, \"security\")"
   ]
  },
  {
   "cell_type": "code",
   "execution_count": 80,
   "id": "9982b45e",
   "metadata": {},
   "outputs": [
    {
     "name": "stdout",
     "output_type": "stream",
     "text": [
      "<class 'pandas.core.frame.DataFrame'>\n",
      "Int64Index: 6282 entries, 0 to 7232\n",
      "Data columns (total 50 columns):\n",
      " #   Column                                      Non-Null Count  Dtype  \n",
      "---  ------                                      --------------  -----  \n",
      " 0   titles                                      6282 non-null   object \n",
      " 1   prices                                      6282 non-null   float64\n",
      " 2   location                                    6282 non-null   object \n",
      " 3   area                                        6282 non-null   float64\n",
      " 4   price per square meter                      6282 non-null   int64  \n",
      " 5   numbers_of_rooms                            6282 non-null   int32  \n",
      " 6   urls                                        6282 non-null   object \n",
      " 7   property_ownership                          6282 non-null   object \n",
      " 8   condition_of_property                       6282 non-null   object \n",
      " 9   floor                                       6282 non-null   object \n",
      " 10  balcon_garden_terrace                       6282 non-null   object \n",
      " 11  amount_of_rent                              2529 non-null   float64\n",
      " 12  parking_space                               6282 non-null   object \n",
      " 13  type_of_heating                             6282 non-null   object \n",
      " 14  primary_secondary                           6282 non-null   object \n",
      " 15  seller                                      6282 non-null   object \n",
      " 16  year_of_construction                        6282 non-null   object \n",
      " 17  type_of_development                         6282 non-null   object \n",
      " 18  window                                      6282 non-null   object \n",
      " 19  lift                                        6282 non-null   object \n",
      " 20  utilities                                   6282 non-null   object \n",
      " 21  security                                    6282 non-null   object \n",
      " 22  home_furnishings                            6282 non-null   object \n",
      " 23  additional_info                             6282 non-null   object \n",
      " 24  bulding_material                            6282 non-null   object \n",
      " 25  describe                                    6282 non-null   object \n",
      " 26  number_of_floors                            5995 non-null   object \n",
      " 27  location_remain                             6282 non-null   object \n",
      " 28  district                                    6282 non-null   object \n",
      " 29  city                                        6282 non-null   object \n",
      " 30  province                                    6282 non-null   object \n",
      " 31  balcon_garden_terrace_dummy_Zapytaj         6282 non-null   int64  \n",
      " 32  balcon_garden_terrace_dummy_balkon          6282 non-null   int64  \n",
      " 33  balcon_garden_terrace_dummy_ogrodek         6282 non-null   int64  \n",
      " 34  balcon_garden_terrace_dummy_taras           6282 non-null   int64  \n",
      " 35  utilities_dummy_brak_informacji             6282 non-null   int64  \n",
      " 36  utilities_dummy_gaz                         6282 non-null   int64  \n",
      " 37  utilities_dummy_internet                    6282 non-null   int64  \n",
      " 38  utilities_dummy_kanalizacja                 6282 non-null   int64  \n",
      " 39  utilities_dummy_prad                        6282 non-null   int64  \n",
      " 40  utilities_dummy_telefon                     6282 non-null   int64  \n",
      " 41  utilities_dummy_telewizja_kablowa           6282 non-null   int64  \n",
      " 42  utilities_dummy_woda                        6282 non-null   int64  \n",
      " 43  security_dummy_brak_informacji              6282 non-null   int64  \n",
      " 44  security_dummy_domofon_/_wideofon           6282 non-null   int64  \n",
      " 45  security_dummy_drzwi_/_okna_antywlamaniowe  6282 non-null   int64  \n",
      " 46  security_dummy_monitoring_/_ochrona         6282 non-null   int64  \n",
      " 47  security_dummy_rolety_antywlamaniowe        6282 non-null   int64  \n",
      " 48  security_dummy_system_alarmowy              6282 non-null   int64  \n",
      " 49  security_dummy_teren_zamkniety              6282 non-null   int64  \n",
      "dtypes: float64(3), int32(1), int64(20), object(26)\n",
      "memory usage: 2.5+ MB\n"
     ]
    }
   ],
   "source": [
    "df_filtered.info()"
   ]
  },
  {
   "cell_type": "markdown",
   "id": "edfbb7b4",
   "metadata": {},
   "source": [
    "## Zapisanie przefiltrowanych danych"
   ]
  },
  {
   "cell_type": "code",
   "execution_count": null,
   "id": "e0f23785",
   "metadata": {},
   "outputs": [],
   "source": []
  },
  {
   "cell_type": "code",
   "execution_count": 81,
   "id": "bd0363be",
   "metadata": {},
   "outputs": [],
   "source": [
    "df_filtered.to_csv(f\"{URL}_cleaned_up\", index=False, sep=\",\", encoding=\"utf-8\")"
   ]
  },
  {
   "cell_type": "code",
   "execution_count": null,
   "id": "8886b6c2",
   "metadata": {},
   "outputs": [],
   "source": []
  },
  {
   "cell_type": "code",
   "execution_count": null,
   "id": "dc6631b4",
   "metadata": {},
   "outputs": [],
   "source": []
  },
  {
   "cell_type": "markdown",
   "id": "571ec7e6",
   "metadata": {},
   "source": [
    "# Budowa prostego modelu będącego punktem odniesienia"
   ]
  },
  {
   "cell_type": "code",
   "execution_count": 82,
   "id": "3ba09781",
   "metadata": {},
   "outputs": [],
   "source": [
    "from sklearn.model_selection import train_test_split\n",
    "from sklearn.compose import ColumnTransformer\n",
    "from sklearn.pipeline import Pipeline\n",
    "from sklearn.impute import SimpleImputer\n",
    "from sklearn.preprocessing import OneHotEncoder, KBinsDiscretizer\n",
    "from sklearn.preprocessing import StandardScaler\n",
    "from sklearn.ensemble import RandomForestRegressor\n",
    "from sklearn.metrics import mean_absolute_error, r2_score\n",
    "from sklearn.tree import DecisionTreeRegressor\n",
    "from sklearn import ensemble\n",
    "from sklearn import linear_model"
   ]
  },
  {
   "cell_type": "code",
   "execution_count": 83,
   "id": "5f2abc3b",
   "metadata": {},
   "outputs": [],
   "source": [
    "y = df_filtered[\"prices\"]"
   ]
  },
  {
   "cell_type": "code",
   "execution_count": 84,
   "id": "bfcd2aa5",
   "metadata": {},
   "outputs": [],
   "source": [
    "X = df_filtered[[\"area\", \"numbers_of_rooms\", \"floor\", \"district\"]]\n",
    "#X = df_filtered[[\"area\"]]\n",
    "X = df_filtered.drop([\"prices\", \"price per square meter\"], axis=1)\n",
    "X = X.drop([\"titles\", \"urls\", \"describe\", \"location\", \"location_remain\", \"city\", \"province\",\"utilities\", \"balcon_garden_terrace\", \"security\"], axis=1)"
   ]
  },
  {
   "cell_type": "code",
   "execution_count": 85,
   "id": "b38ace26",
   "metadata": {},
   "outputs": [],
   "source": [
    "# Podział danych na zbiór treningowy i walidacyjny\n",
    "X_train_full, X_valid_full, y_train, y_valid = train_test_split(X, y, train_size=0.8, test_size=0.2, random_state=0)"
   ]
  },
  {
   "cell_type": "code",
   "execution_count": 86,
   "id": "e3984b65",
   "metadata": {},
   "outputs": [
    {
     "data": {
      "text/plain": [
       "['property_ownership',\n",
       " 'condition_of_property',\n",
       " 'floor',\n",
       " 'parking_space',\n",
       " 'type_of_heating',\n",
       " 'primary_secondary',\n",
       " 'seller',\n",
       " 'year_of_construction',\n",
       " 'type_of_development',\n",
       " 'window',\n",
       " 'lift',\n",
       " 'home_furnishings',\n",
       " 'additional_info',\n",
       " 'bulding_material',\n",
       " 'number_of_floors',\n",
       " 'district']"
      ]
     },
     "execution_count": 86,
     "metadata": {},
     "output_type": "execute_result"
    }
   ],
   "source": [
    "# Wybór kolumna z niską ilością kategorii  \n",
    "#categorical_cols = [cname for cname in X_train_full.columns if X_train_full[cname].nunique() < 10 and X_train_full[cname].dtype == \"object\"]\n",
    "categorical_cols = [cname for cname in X_train_full.columns if  X_train_full[cname].dtype == \"object\"]\n",
    "categorical_cols "
   ]
  },
  {
   "cell_type": "code",
   "execution_count": 87,
   "id": "04717275",
   "metadata": {},
   "outputs": [
    {
     "data": {
      "text/plain": [
       "['area',\n",
       " 'numbers_of_rooms',\n",
       " 'amount_of_rent',\n",
       " 'balcon_garden_terrace_dummy_Zapytaj',\n",
       " 'balcon_garden_terrace_dummy_balkon',\n",
       " 'balcon_garden_terrace_dummy_ogrodek',\n",
       " 'balcon_garden_terrace_dummy_taras',\n",
       " 'utilities_dummy_brak_informacji',\n",
       " 'utilities_dummy_gaz',\n",
       " 'utilities_dummy_internet',\n",
       " 'utilities_dummy_kanalizacja',\n",
       " 'utilities_dummy_prad',\n",
       " 'utilities_dummy_telefon',\n",
       " 'utilities_dummy_telewizja_kablowa',\n",
       " 'utilities_dummy_woda',\n",
       " 'security_dummy_brak_informacji',\n",
       " 'security_dummy_domofon_/_wideofon',\n",
       " 'security_dummy_drzwi_/_okna_antywlamaniowe',\n",
       " 'security_dummy_monitoring_/_ochrona',\n",
       " 'security_dummy_rolety_antywlamaniowe',\n",
       " 'security_dummy_system_alarmowy',\n",
       " 'security_dummy_teren_zamkniety']"
      ]
     },
     "execution_count": 87,
     "metadata": {},
     "output_type": "execute_result"
    }
   ],
   "source": [
    "# Select numerical columns\n",
    "numerical_cols = [cname for cname in X_train_full.columns if X_train_full[cname].dtype in ['int8', 'int32', 'int64', 'float64']]\n",
    "\n",
    "numerical_cols"
   ]
  },
  {
   "cell_type": "code",
   "execution_count": 88,
   "id": "6754eccd",
   "metadata": {
    "scrolled": true
   },
   "outputs": [
    {
     "data": {
      "text/plain": [
       "Index(['area', 'numbers_of_rooms', 'property_ownership',\n",
       "       'condition_of_property', 'floor', 'amount_of_rent', 'parking_space',\n",
       "       'type_of_heating', 'primary_secondary', 'seller',\n",
       "       'year_of_construction', 'type_of_development', 'window', 'lift',\n",
       "       'home_furnishings', 'additional_info', 'bulding_material',\n",
       "       'number_of_floors', 'district', 'balcon_garden_terrace_dummy_Zapytaj',\n",
       "       'balcon_garden_terrace_dummy_balkon',\n",
       "       'balcon_garden_terrace_dummy_ogrodek',\n",
       "       'balcon_garden_terrace_dummy_taras', 'utilities_dummy_brak_informacji',\n",
       "       'utilities_dummy_gaz', 'utilities_dummy_internet',\n",
       "       'utilities_dummy_kanalizacja', 'utilities_dummy_prad',\n",
       "       'utilities_dummy_telefon', 'utilities_dummy_telewizja_kablowa',\n",
       "       'utilities_dummy_woda', 'security_dummy_brak_informacji',\n",
       "       'security_dummy_domofon_/_wideofon',\n",
       "       'security_dummy_drzwi_/_okna_antywlamaniowe',\n",
       "       'security_dummy_monitoring_/_ochrona',\n",
       "       'security_dummy_rolety_antywlamaniowe',\n",
       "       'security_dummy_system_alarmowy', 'security_dummy_teren_zamkniety'],\n",
       "      dtype='object')"
      ]
     },
     "execution_count": 88,
     "metadata": {},
     "output_type": "execute_result"
    }
   ],
   "source": [
    "X.columns"
   ]
  },
  {
   "cell_type": "code",
   "execution_count": 89,
   "id": "e8563ce6",
   "metadata": {
    "scrolled": false
   },
   "outputs": [
    {
     "data": {
      "text/html": [
       "<div>\n",
       "<style scoped>\n",
       "    .dataframe tbody tr th:only-of-type {\n",
       "        vertical-align: middle;\n",
       "    }\n",
       "\n",
       "    .dataframe tbody tr th {\n",
       "        vertical-align: top;\n",
       "    }\n",
       "\n",
       "    .dataframe thead th {\n",
       "        text-align: right;\n",
       "    }\n",
       "</style>\n",
       "<table border=\"1\" class=\"dataframe\">\n",
       "  <thead>\n",
       "    <tr style=\"text-align: right;\">\n",
       "      <th></th>\n",
       "      <th>property_ownership</th>\n",
       "      <th>condition_of_property</th>\n",
       "      <th>floor</th>\n",
       "      <th>parking_space</th>\n",
       "      <th>type_of_heating</th>\n",
       "      <th>primary_secondary</th>\n",
       "      <th>seller</th>\n",
       "      <th>year_of_construction</th>\n",
       "      <th>type_of_development</th>\n",
       "      <th>window</th>\n",
       "      <th>lift</th>\n",
       "      <th>home_furnishings</th>\n",
       "      <th>additional_info</th>\n",
       "      <th>bulding_material</th>\n",
       "      <th>number_of_floors</th>\n",
       "      <th>district</th>\n",
       "      <th>area</th>\n",
       "      <th>numbers_of_rooms</th>\n",
       "      <th>amount_of_rent</th>\n",
       "      <th>balcon_garden_terrace_dummy_Zapytaj</th>\n",
       "      <th>balcon_garden_terrace_dummy_balkon</th>\n",
       "      <th>balcon_garden_terrace_dummy_ogrodek</th>\n",
       "      <th>balcon_garden_terrace_dummy_taras</th>\n",
       "      <th>utilities_dummy_brak_informacji</th>\n",
       "      <th>utilities_dummy_gaz</th>\n",
       "      <th>utilities_dummy_internet</th>\n",
       "      <th>utilities_dummy_kanalizacja</th>\n",
       "      <th>utilities_dummy_prad</th>\n",
       "      <th>utilities_dummy_telefon</th>\n",
       "      <th>utilities_dummy_telewizja_kablowa</th>\n",
       "      <th>utilities_dummy_woda</th>\n",
       "      <th>security_dummy_brak_informacji</th>\n",
       "      <th>security_dummy_domofon_/_wideofon</th>\n",
       "      <th>security_dummy_drzwi_/_okna_antywlamaniowe</th>\n",
       "      <th>security_dummy_monitoring_/_ochrona</th>\n",
       "      <th>security_dummy_rolety_antywlamaniowe</th>\n",
       "      <th>security_dummy_system_alarmowy</th>\n",
       "      <th>security_dummy_teren_zamkniety</th>\n",
       "    </tr>\n",
       "  </thead>\n",
       "  <tbody>\n",
       "    <tr>\n",
       "      <th>6364</th>\n",
       "      <td>pełna własność</td>\n",
       "      <td>do wykończenia</td>\n",
       "      <td>6</td>\n",
       "      <td>garaż/miejsce parkingowe</td>\n",
       "      <td>miejskie</td>\n",
       "      <td>pierwotny</td>\n",
       "      <td>biuro nieruchomości</td>\n",
       "      <td>2018&lt;=x</td>\n",
       "      <td>blok</td>\n",
       "      <td>plastikowe</td>\n",
       "      <td>tak</td>\n",
       "      <td>brak informacji</td>\n",
       "      <td>brak informacji</td>\n",
       "      <td>brak informacji</td>\n",
       "      <td>9</td>\n",
       "      <td>Stare Miasto</td>\n",
       "      <td>38.14</td>\n",
       "      <td>2</td>\n",
       "      <td>300.00</td>\n",
       "      <td>0</td>\n",
       "      <td>1</td>\n",
       "      <td>0</td>\n",
       "      <td>0</td>\n",
       "      <td>0</td>\n",
       "      <td>0</td>\n",
       "      <td>1</td>\n",
       "      <td>0</td>\n",
       "      <td>0</td>\n",
       "      <td>0</td>\n",
       "      <td>1</td>\n",
       "      <td>0</td>\n",
       "      <td>0</td>\n",
       "      <td>1</td>\n",
       "      <td>1</td>\n",
       "      <td>0</td>\n",
       "      <td>0</td>\n",
       "      <td>0</td>\n",
       "      <td>1</td>\n",
       "    </tr>\n",
       "    <tr>\n",
       "      <th>6930</th>\n",
       "      <td>pełna własność</td>\n",
       "      <td>do wykończenia</td>\n",
       "      <td>1</td>\n",
       "      <td>garaż/miejsce parkingowe</td>\n",
       "      <td>miejskie</td>\n",
       "      <td>pierwotny</td>\n",
       "      <td>biuro nieruchomości</td>\n",
       "      <td>2018&lt;=x</td>\n",
       "      <td>blok</td>\n",
       "      <td>aluminiowe</td>\n",
       "      <td>tak</td>\n",
       "      <td>brak informacji</td>\n",
       "      <td>brak informacji</td>\n",
       "      <td>inne</td>\n",
       "      <td>7</td>\n",
       "      <td>Śródmieście</td>\n",
       "      <td>74.30</td>\n",
       "      <td>4</td>\n",
       "      <td>700.00</td>\n",
       "      <td>0</td>\n",
       "      <td>1</td>\n",
       "      <td>0</td>\n",
       "      <td>0</td>\n",
       "      <td>0</td>\n",
       "      <td>0</td>\n",
       "      <td>1</td>\n",
       "      <td>0</td>\n",
       "      <td>0</td>\n",
       "      <td>0</td>\n",
       "      <td>0</td>\n",
       "      <td>0</td>\n",
       "      <td>0</td>\n",
       "      <td>1</td>\n",
       "      <td>1</td>\n",
       "      <td>0</td>\n",
       "      <td>1</td>\n",
       "      <td>0</td>\n",
       "      <td>1</td>\n",
       "    </tr>\n",
       "    <tr>\n",
       "      <th>2525</th>\n",
       "      <td>Zapytaj</td>\n",
       "      <td>Zapytaj</td>\n",
       "      <td>2</td>\n",
       "      <td>Zapytaj</td>\n",
       "      <td>Zapytaj</td>\n",
       "      <td>pierwotny</td>\n",
       "      <td>biuro nieruchomości</td>\n",
       "      <td>2018&lt;=x</td>\n",
       "      <td>brak informacji</td>\n",
       "      <td>brak informacji</td>\n",
       "      <td>nie</td>\n",
       "      <td>brak informacji</td>\n",
       "      <td>brak informacji</td>\n",
       "      <td>brak informacji</td>\n",
       "      <td>4</td>\n",
       "      <td>Fabryczna</td>\n",
       "      <td>71.22</td>\n",
       "      <td>4</td>\n",
       "      <td>NaN</td>\n",
       "      <td>1</td>\n",
       "      <td>0</td>\n",
       "      <td>0</td>\n",
       "      <td>0</td>\n",
       "      <td>1</td>\n",
       "      <td>0</td>\n",
       "      <td>0</td>\n",
       "      <td>0</td>\n",
       "      <td>0</td>\n",
       "      <td>0</td>\n",
       "      <td>0</td>\n",
       "      <td>0</td>\n",
       "      <td>1</td>\n",
       "      <td>0</td>\n",
       "      <td>0</td>\n",
       "      <td>0</td>\n",
       "      <td>0</td>\n",
       "      <td>0</td>\n",
       "      <td>0</td>\n",
       "    </tr>\n",
       "    <tr>\n",
       "      <th>5079</th>\n",
       "      <td>pełna własność</td>\n",
       "      <td>do wykończenia</td>\n",
       "      <td>parter</td>\n",
       "      <td>garaż/miejsce parkingowe</td>\n",
       "      <td>miejskie</td>\n",
       "      <td>pierwotny</td>\n",
       "      <td>biuro nieruchomości</td>\n",
       "      <td>2018&lt;=x</td>\n",
       "      <td>brak informacji</td>\n",
       "      <td>brak informacji</td>\n",
       "      <td>nie</td>\n",
       "      <td>brak informacji</td>\n",
       "      <td>brak informacji</td>\n",
       "      <td>brak informacji</td>\n",
       "      <td>4</td>\n",
       "      <td>Psie Pole</td>\n",
       "      <td>38.40</td>\n",
       "      <td>2</td>\n",
       "      <td>NaN</td>\n",
       "      <td>1</td>\n",
       "      <td>0</td>\n",
       "      <td>0</td>\n",
       "      <td>0</td>\n",
       "      <td>1</td>\n",
       "      <td>0</td>\n",
       "      <td>0</td>\n",
       "      <td>0</td>\n",
       "      <td>0</td>\n",
       "      <td>0</td>\n",
       "      <td>0</td>\n",
       "      <td>0</td>\n",
       "      <td>0</td>\n",
       "      <td>0</td>\n",
       "      <td>0</td>\n",
       "      <td>1</td>\n",
       "      <td>0</td>\n",
       "      <td>1</td>\n",
       "      <td>0</td>\n",
       "    </tr>\n",
       "    <tr>\n",
       "      <th>44</th>\n",
       "      <td>pełna własność</td>\n",
       "      <td>Zapytaj</td>\n",
       "      <td>1</td>\n",
       "      <td>Zapytaj</td>\n",
       "      <td>miejskie</td>\n",
       "      <td>wtórny</td>\n",
       "      <td>biuro nieruchomości</td>\n",
       "      <td>brak informacji</td>\n",
       "      <td>blok</td>\n",
       "      <td>plastikowe</td>\n",
       "      <td>nie</td>\n",
       "      <td>kuchenka, pralka</td>\n",
       "      <td>piwnica, oddzielna kuchnia</td>\n",
       "      <td>cegła</td>\n",
       "      <td>4</td>\n",
       "      <td>Krzyki</td>\n",
       "      <td>35.61</td>\n",
       "      <td>1</td>\n",
       "      <td>350.00</td>\n",
       "      <td>1</td>\n",
       "      <td>0</td>\n",
       "      <td>0</td>\n",
       "      <td>0</td>\n",
       "      <td>1</td>\n",
       "      <td>0</td>\n",
       "      <td>0</td>\n",
       "      <td>0</td>\n",
       "      <td>0</td>\n",
       "      <td>0</td>\n",
       "      <td>0</td>\n",
       "      <td>0</td>\n",
       "      <td>0</td>\n",
       "      <td>1</td>\n",
       "      <td>0</td>\n",
       "      <td>0</td>\n",
       "      <td>0</td>\n",
       "      <td>0</td>\n",
       "      <td>1</td>\n",
       "    </tr>\n",
       "    <tr>\n",
       "      <th>2379</th>\n",
       "      <td>pełna własność</td>\n",
       "      <td>do wykończenia</td>\n",
       "      <td>4</td>\n",
       "      <td>garaż/miejsce parkingowe</td>\n",
       "      <td>Zapytaj</td>\n",
       "      <td>brak informacji</td>\n",
       "      <td>brak informacji</td>\n",
       "      <td>brak informacji</td>\n",
       "      <td>brak informacji</td>\n",
       "      <td>brak informacji</td>\n",
       "      <td>brak informacji</td>\n",
       "      <td>brak informacji</td>\n",
       "      <td>brak informacji</td>\n",
       "      <td>brak informacji</td>\n",
       "      <td>4</td>\n",
       "      <td>Psie Pole</td>\n",
       "      <td>54.53</td>\n",
       "      <td>3</td>\n",
       "      <td>NaN</td>\n",
       "      <td>1</td>\n",
       "      <td>0</td>\n",
       "      <td>0</td>\n",
       "      <td>0</td>\n",
       "      <td>1</td>\n",
       "      <td>0</td>\n",
       "      <td>0</td>\n",
       "      <td>0</td>\n",
       "      <td>0</td>\n",
       "      <td>0</td>\n",
       "      <td>0</td>\n",
       "      <td>0</td>\n",
       "      <td>1</td>\n",
       "      <td>0</td>\n",
       "      <td>0</td>\n",
       "      <td>0</td>\n",
       "      <td>0</td>\n",
       "      <td>0</td>\n",
       "      <td>0</td>\n",
       "    </tr>\n",
       "    <tr>\n",
       "      <th>104</th>\n",
       "      <td>pełna własność</td>\n",
       "      <td>do zamieszkania</td>\n",
       "      <td>5</td>\n",
       "      <td>Zapytaj</td>\n",
       "      <td>miejskie</td>\n",
       "      <td>wtórny</td>\n",
       "      <td>prywatny</td>\n",
       "      <td>x&lt;1900</td>\n",
       "      <td>blok</td>\n",
       "      <td>plastikowe</td>\n",
       "      <td>tak</td>\n",
       "      <td>zmywarka, lodówka, meble, piekarnik, kuchenka,...</td>\n",
       "      <td>piwnica</td>\n",
       "      <td>wielka płyta</td>\n",
       "      <td>10</td>\n",
       "      <td>Fabryczna</td>\n",
       "      <td>36.00</td>\n",
       "      <td>2</td>\n",
       "      <td>674.49</td>\n",
       "      <td>0</td>\n",
       "      <td>1</td>\n",
       "      <td>0</td>\n",
       "      <td>0</td>\n",
       "      <td>0</td>\n",
       "      <td>0</td>\n",
       "      <td>1</td>\n",
       "      <td>0</td>\n",
       "      <td>0</td>\n",
       "      <td>0</td>\n",
       "      <td>0</td>\n",
       "      <td>0</td>\n",
       "      <td>1</td>\n",
       "      <td>0</td>\n",
       "      <td>0</td>\n",
       "      <td>0</td>\n",
       "      <td>0</td>\n",
       "      <td>0</td>\n",
       "      <td>0</td>\n",
       "    </tr>\n",
       "    <tr>\n",
       "      <th>2937</th>\n",
       "      <td>Zapytaj</td>\n",
       "      <td>Zapytaj</td>\n",
       "      <td>5</td>\n",
       "      <td>Zapytaj</td>\n",
       "      <td>miejskie</td>\n",
       "      <td>wtórny</td>\n",
       "      <td>biuro nieruchomości</td>\n",
       "      <td>1900&lt;x&lt;1990</td>\n",
       "      <td>blok</td>\n",
       "      <td>plastikowe</td>\n",
       "      <td>tak</td>\n",
       "      <td>brak informacji</td>\n",
       "      <td>piwnica</td>\n",
       "      <td>brak informacji</td>\n",
       "      <td>8</td>\n",
       "      <td>Śródmieście</td>\n",
       "      <td>38.30</td>\n",
       "      <td>2</td>\n",
       "      <td>NaN</td>\n",
       "      <td>1</td>\n",
       "      <td>0</td>\n",
       "      <td>0</td>\n",
       "      <td>0</td>\n",
       "      <td>1</td>\n",
       "      <td>0</td>\n",
       "      <td>0</td>\n",
       "      <td>0</td>\n",
       "      <td>0</td>\n",
       "      <td>0</td>\n",
       "      <td>0</td>\n",
       "      <td>0</td>\n",
       "      <td>1</td>\n",
       "      <td>0</td>\n",
       "      <td>0</td>\n",
       "      <td>0</td>\n",
       "      <td>0</td>\n",
       "      <td>0</td>\n",
       "      <td>0</td>\n",
       "    </tr>\n",
       "    <tr>\n",
       "      <th>5324</th>\n",
       "      <td>pełna własność</td>\n",
       "      <td>do wykończenia</td>\n",
       "      <td>2</td>\n",
       "      <td>garaż/miejsce parkingowe</td>\n",
       "      <td>Zapytaj</td>\n",
       "      <td>brak informacji</td>\n",
       "      <td>brak informacji</td>\n",
       "      <td>brak informacji</td>\n",
       "      <td>brak informacji</td>\n",
       "      <td>brak informacji</td>\n",
       "      <td>brak informacji</td>\n",
       "      <td>brak informacji</td>\n",
       "      <td>brak informacji</td>\n",
       "      <td>brak informacji</td>\n",
       "      <td>4</td>\n",
       "      <td>Psie Pole</td>\n",
       "      <td>66.46</td>\n",
       "      <td>3</td>\n",
       "      <td>NaN</td>\n",
       "      <td>0</td>\n",
       "      <td>1</td>\n",
       "      <td>0</td>\n",
       "      <td>0</td>\n",
       "      <td>1</td>\n",
       "      <td>0</td>\n",
       "      <td>0</td>\n",
       "      <td>0</td>\n",
       "      <td>0</td>\n",
       "      <td>0</td>\n",
       "      <td>0</td>\n",
       "      <td>0</td>\n",
       "      <td>1</td>\n",
       "      <td>0</td>\n",
       "      <td>0</td>\n",
       "      <td>0</td>\n",
       "      <td>0</td>\n",
       "      <td>0</td>\n",
       "      <td>0</td>\n",
       "    </tr>\n",
       "    <tr>\n",
       "      <th>2921</th>\n",
       "      <td>pełna własność</td>\n",
       "      <td>do zamieszkania</td>\n",
       "      <td>6</td>\n",
       "      <td>Zapytaj</td>\n",
       "      <td>miejskie</td>\n",
       "      <td>wtórny</td>\n",
       "      <td>biuro nieruchomości</td>\n",
       "      <td>1990&lt;x&lt;2010</td>\n",
       "      <td>plomba</td>\n",
       "      <td>brak informacji</td>\n",
       "      <td>tak</td>\n",
       "      <td>brak informacji</td>\n",
       "      <td>oddzielna kuchnia</td>\n",
       "      <td>brak informacji</td>\n",
       "      <td>6</td>\n",
       "      <td>Śródmieście</td>\n",
       "      <td>56.00</td>\n",
       "      <td>2</td>\n",
       "      <td>600.00</td>\n",
       "      <td>1</td>\n",
       "      <td>0</td>\n",
       "      <td>0</td>\n",
       "      <td>0</td>\n",
       "      <td>1</td>\n",
       "      <td>0</td>\n",
       "      <td>0</td>\n",
       "      <td>0</td>\n",
       "      <td>0</td>\n",
       "      <td>0</td>\n",
       "      <td>0</td>\n",
       "      <td>0</td>\n",
       "      <td>0</td>\n",
       "      <td>1</td>\n",
       "      <td>0</td>\n",
       "      <td>0</td>\n",
       "      <td>0</td>\n",
       "      <td>0</td>\n",
       "      <td>0</td>\n",
       "    </tr>\n",
       "  </tbody>\n",
       "</table>\n",
       "</div>"
      ],
      "text/plain": [
       "     property_ownership condition_of_property   floor  \\\n",
       "6364     pełna własność        do wykończenia       6   \n",
       "6930     pełna własność        do wykończenia       1   \n",
       "2525            Zapytaj               Zapytaj       2   \n",
       "5079     pełna własność        do wykończenia  parter   \n",
       "44       pełna własność               Zapytaj       1   \n",
       "2379     pełna własność        do wykończenia       4   \n",
       "104      pełna własność       do zamieszkania       5   \n",
       "2937            Zapytaj               Zapytaj       5   \n",
       "5324     pełna własność        do wykończenia       2   \n",
       "2921     pełna własność       do zamieszkania       6   \n",
       "\n",
       "                 parking_space type_of_heating primary_secondary  \\\n",
       "6364  garaż/miejsce parkingowe        miejskie         pierwotny   \n",
       "6930  garaż/miejsce parkingowe        miejskie         pierwotny   \n",
       "2525                   Zapytaj         Zapytaj         pierwotny   \n",
       "5079  garaż/miejsce parkingowe        miejskie         pierwotny   \n",
       "44                     Zapytaj        miejskie            wtórny   \n",
       "2379  garaż/miejsce parkingowe         Zapytaj   brak informacji   \n",
       "104                    Zapytaj        miejskie            wtórny   \n",
       "2937                   Zapytaj        miejskie            wtórny   \n",
       "5324  garaż/miejsce parkingowe         Zapytaj   brak informacji   \n",
       "2921                   Zapytaj        miejskie            wtórny   \n",
       "\n",
       "                    seller year_of_construction type_of_development  \\\n",
       "6364  biuro nieruchomości               2018<=x                blok   \n",
       "6930  biuro nieruchomości               2018<=x                blok   \n",
       "2525  biuro nieruchomości               2018<=x     brak informacji   \n",
       "5079  biuro nieruchomości               2018<=x     brak informacji   \n",
       "44    biuro nieruchomości       brak informacji                blok   \n",
       "2379       brak informacji      brak informacji     brak informacji   \n",
       "104               prywatny               x<1900                blok   \n",
       "2937  biuro nieruchomości           1900<x<1990                blok   \n",
       "5324       brak informacji      brak informacji     brak informacji   \n",
       "2921  biuro nieruchomości           1990<x<2010              plomba   \n",
       "\n",
       "               window             lift  \\\n",
       "6364       plastikowe              tak   \n",
       "6930       aluminiowe              tak   \n",
       "2525  brak informacji              nie   \n",
       "5079  brak informacji              nie   \n",
       "44         plastikowe              nie   \n",
       "2379  brak informacji  brak informacji   \n",
       "104        plastikowe              tak   \n",
       "2937       plastikowe              tak   \n",
       "5324  brak informacji  brak informacji   \n",
       "2921  brak informacji              tak   \n",
       "\n",
       "                                       home_furnishings  \\\n",
       "6364                                    brak informacji   \n",
       "6930                                    brak informacji   \n",
       "2525                                    brak informacji   \n",
       "5079                                    brak informacji   \n",
       "44                                     kuchenka, pralka   \n",
       "2379                                    brak informacji   \n",
       "104   zmywarka, lodówka, meble, piekarnik, kuchenka,...   \n",
       "2937                                    brak informacji   \n",
       "5324                                    brak informacji   \n",
       "2921                                    brak informacji   \n",
       "\n",
       "                 additional_info bulding_material number_of_floors  \\\n",
       "6364             brak informacji  brak informacji                9   \n",
       "6930             brak informacji             inne                7   \n",
       "2525             brak informacji  brak informacji                4   \n",
       "5079             brak informacji  brak informacji                4   \n",
       "44    piwnica, oddzielna kuchnia            cegła                4   \n",
       "2379             brak informacji  brak informacji                4   \n",
       "104                      piwnica     wielka płyta               10   \n",
       "2937                     piwnica  brak informacji                8   \n",
       "5324             brak informacji  brak informacji                4   \n",
       "2921           oddzielna kuchnia  brak informacji                6   \n",
       "\n",
       "          district  area  numbers_of_rooms  amount_of_rent  \\\n",
       "6364  Stare Miasto 38.14                 2          300.00   \n",
       "6930   Śródmieście 74.30                 4          700.00   \n",
       "2525     Fabryczna 71.22                 4             NaN   \n",
       "5079     Psie Pole 38.40                 2             NaN   \n",
       "44          Krzyki 35.61                 1          350.00   \n",
       "2379     Psie Pole 54.53                 3             NaN   \n",
       "104      Fabryczna 36.00                 2          674.49   \n",
       "2937   Śródmieście 38.30                 2             NaN   \n",
       "5324     Psie Pole 66.46                 3             NaN   \n",
       "2921   Śródmieście 56.00                 2          600.00   \n",
       "\n",
       "      balcon_garden_terrace_dummy_Zapytaj  balcon_garden_terrace_dummy_balkon  \\\n",
       "6364                                    0                                   1   \n",
       "6930                                    0                                   1   \n",
       "2525                                    1                                   0   \n",
       "5079                                    1                                   0   \n",
       "44                                      1                                   0   \n",
       "2379                                    1                                   0   \n",
       "104                                     0                                   1   \n",
       "2937                                    1                                   0   \n",
       "5324                                    0                                   1   \n",
       "2921                                    1                                   0   \n",
       "\n",
       "      balcon_garden_terrace_dummy_ogrodek  balcon_garden_terrace_dummy_taras  \\\n",
       "6364                                    0                                  0   \n",
       "6930                                    0                                  0   \n",
       "2525                                    0                                  0   \n",
       "5079                                    0                                  0   \n",
       "44                                      0                                  0   \n",
       "2379                                    0                                  0   \n",
       "104                                     0                                  0   \n",
       "2937                                    0                                  0   \n",
       "5324                                    0                                  0   \n",
       "2921                                    0                                  0   \n",
       "\n",
       "      utilities_dummy_brak_informacji  utilities_dummy_gaz  \\\n",
       "6364                                0                    0   \n",
       "6930                                0                    0   \n",
       "2525                                1                    0   \n",
       "5079                                1                    0   \n",
       "44                                  1                    0   \n",
       "2379                                1                    0   \n",
       "104                                 0                    0   \n",
       "2937                                1                    0   \n",
       "5324                                1                    0   \n",
       "2921                                1                    0   \n",
       "\n",
       "      utilities_dummy_internet  utilities_dummy_kanalizacja  \\\n",
       "6364                         1                            0   \n",
       "6930                         1                            0   \n",
       "2525                         0                            0   \n",
       "5079                         0                            0   \n",
       "44                           0                            0   \n",
       "2379                         0                            0   \n",
       "104                          1                            0   \n",
       "2937                         0                            0   \n",
       "5324                         0                            0   \n",
       "2921                         0                            0   \n",
       "\n",
       "      utilities_dummy_prad  utilities_dummy_telefon  \\\n",
       "6364                     0                        0   \n",
       "6930                     0                        0   \n",
       "2525                     0                        0   \n",
       "5079                     0                        0   \n",
       "44                       0                        0   \n",
       "2379                     0                        0   \n",
       "104                      0                        0   \n",
       "2937                     0                        0   \n",
       "5324                     0                        0   \n",
       "2921                     0                        0   \n",
       "\n",
       "      utilities_dummy_telewizja_kablowa  utilities_dummy_woda  \\\n",
       "6364                                  1                     0   \n",
       "6930                                  0                     0   \n",
       "2525                                  0                     0   \n",
       "5079                                  0                     0   \n",
       "44                                    0                     0   \n",
       "2379                                  0                     0   \n",
       "104                                   0                     0   \n",
       "2937                                  0                     0   \n",
       "5324                                  0                     0   \n",
       "2921                                  0                     0   \n",
       "\n",
       "      security_dummy_brak_informacji  security_dummy_domofon_/_wideofon  \\\n",
       "6364                               0                                  1   \n",
       "6930                               0                                  1   \n",
       "2525                               1                                  0   \n",
       "5079                               0                                  0   \n",
       "44                                 0                                  1   \n",
       "2379                               1                                  0   \n",
       "104                                1                                  0   \n",
       "2937                               1                                  0   \n",
       "5324                               1                                  0   \n",
       "2921                               0                                  1   \n",
       "\n",
       "      security_dummy_drzwi_/_okna_antywlamaniowe  \\\n",
       "6364                                           1   \n",
       "6930                                           1   \n",
       "2525                                           0   \n",
       "5079                                           0   \n",
       "44                                             0   \n",
       "2379                                           0   \n",
       "104                                            0   \n",
       "2937                                           0   \n",
       "5324                                           0   \n",
       "2921                                           0   \n",
       "\n",
       "      security_dummy_monitoring_/_ochrona  \\\n",
       "6364                                    0   \n",
       "6930                                    0   \n",
       "2525                                    0   \n",
       "5079                                    1   \n",
       "44                                      0   \n",
       "2379                                    0   \n",
       "104                                     0   \n",
       "2937                                    0   \n",
       "5324                                    0   \n",
       "2921                                    0   \n",
       "\n",
       "      security_dummy_rolety_antywlamaniowe  security_dummy_system_alarmowy  \\\n",
       "6364                                     0                               0   \n",
       "6930                                     1                               0   \n",
       "2525                                     0                               0   \n",
       "5079                                     0                               1   \n",
       "44                                       0                               0   \n",
       "2379                                     0                               0   \n",
       "104                                      0                               0   \n",
       "2937                                     0                               0   \n",
       "5324                                     0                               0   \n",
       "2921                                     0                               0   \n",
       "\n",
       "      security_dummy_teren_zamkniety  \n",
       "6364                               1  \n",
       "6930                               1  \n",
       "2525                               0  \n",
       "5079                               0  \n",
       "44                                 1  \n",
       "2379                               0  \n",
       "104                                0  \n",
       "2937                               0  \n",
       "5324                               0  \n",
       "2921                               0  "
      ]
     },
     "execution_count": 89,
     "metadata": {},
     "output_type": "execute_result"
    }
   ],
   "source": [
    "my_cols = categorical_cols + numerical_cols\n",
    "X_train = X_train_full[my_cols].copy()\n",
    "X_valid = X_valid_full[my_cols].copy()\n",
    "\n",
    "X_train.sample(10)"
   ]
  },
  {
   "cell_type": "code",
   "execution_count": 90,
   "id": "f88f026f",
   "metadata": {
    "scrolled": true
   },
   "outputs": [
    {
     "name": "stdout",
     "output_type": "stream",
     "text": [
      "<class 'pandas.core.frame.DataFrame'>\n",
      "Int64Index: 5025 entries, 3921 to 3063\n",
      "Data columns (total 38 columns):\n",
      " #   Column                                      Non-Null Count  Dtype  \n",
      "---  ------                                      --------------  -----  \n",
      " 0   property_ownership                          5025 non-null   object \n",
      " 1   condition_of_property                       5025 non-null   object \n",
      " 2   floor                                       5025 non-null   object \n",
      " 3   parking_space                               5025 non-null   object \n",
      " 4   type_of_heating                             5025 non-null   object \n",
      " 5   primary_secondary                           5025 non-null   object \n",
      " 6   seller                                      5025 non-null   object \n",
      " 7   year_of_construction                        5025 non-null   object \n",
      " 8   type_of_development                         5025 non-null   object \n",
      " 9   window                                      5025 non-null   object \n",
      " 10  lift                                        5025 non-null   object \n",
      " 11  home_furnishings                            5025 non-null   object \n",
      " 12  additional_info                             5025 non-null   object \n",
      " 13  bulding_material                            5025 non-null   object \n",
      " 14  number_of_floors                            4804 non-null   object \n",
      " 15  district                                    5025 non-null   object \n",
      " 16  area                                        5025 non-null   float64\n",
      " 17  numbers_of_rooms                            5025 non-null   int32  \n",
      " 18  amount_of_rent                              2044 non-null   float64\n",
      " 19  balcon_garden_terrace_dummy_Zapytaj         5025 non-null   int64  \n",
      " 20  balcon_garden_terrace_dummy_balkon          5025 non-null   int64  \n",
      " 21  balcon_garden_terrace_dummy_ogrodek         5025 non-null   int64  \n",
      " 22  balcon_garden_terrace_dummy_taras           5025 non-null   int64  \n",
      " 23  utilities_dummy_brak_informacji             5025 non-null   int64  \n",
      " 24  utilities_dummy_gaz                         5025 non-null   int64  \n",
      " 25  utilities_dummy_internet                    5025 non-null   int64  \n",
      " 26  utilities_dummy_kanalizacja                 5025 non-null   int64  \n",
      " 27  utilities_dummy_prad                        5025 non-null   int64  \n",
      " 28  utilities_dummy_telefon                     5025 non-null   int64  \n",
      " 29  utilities_dummy_telewizja_kablowa           5025 non-null   int64  \n",
      " 30  utilities_dummy_woda                        5025 non-null   int64  \n",
      " 31  security_dummy_brak_informacji              5025 non-null   int64  \n",
      " 32  security_dummy_domofon_/_wideofon           5025 non-null   int64  \n",
      " 33  security_dummy_drzwi_/_okna_antywlamaniowe  5025 non-null   int64  \n",
      " 34  security_dummy_monitoring_/_ochrona         5025 non-null   int64  \n",
      " 35  security_dummy_rolety_antywlamaniowe        5025 non-null   int64  \n",
      " 36  security_dummy_system_alarmowy              5025 non-null   int64  \n",
      " 37  security_dummy_teren_zamkniety              5025 non-null   int64  \n",
      "dtypes: float64(2), int32(1), int64(19), object(16)\n",
      "memory usage: 1.5+ MB\n"
     ]
    }
   ],
   "source": [
    "X_train.info()"
   ]
  },
  {
   "cell_type": "code",
   "execution_count": 91,
   "id": "8ec38a2e",
   "metadata": {},
   "outputs": [],
   "source": [
    "# Preprocessing for numerical data\n",
    "numerical_transformer = Pipeline(steps=[\n",
    "    ('imputer_num', SimpleImputer(strategy = 'constant')),\n",
    "    ('std_scaler', StandardScaler())\n",
    "])"
   ]
  },
  {
   "cell_type": "code",
   "execution_count": 92,
   "id": "9ec82f62",
   "metadata": {},
   "outputs": [],
   "source": [
    "# Preprocessing for categorical data\n",
    "categorical_transformer = Pipeline(steps=[\n",
    "    ('imputer', SimpleImputer(strategy='most_frequent')),\n",
    "    ('onehot', OneHotEncoder(handle_unknown='ignore'))\n",
    "])"
   ]
  },
  {
   "cell_type": "code",
   "execution_count": 93,
   "id": "d2f9191e",
   "metadata": {},
   "outputs": [],
   "source": [
    "# Bundle preprocessing for numerical and categorical data\n",
    "preprocessor = ColumnTransformer(\n",
    "    transformers=[\n",
    "        ('num', numerical_transformer, numerical_cols),\n",
    "        ('cat', categorical_transformer, categorical_cols)\n",
    "    ])"
   ]
  },
  {
   "cell_type": "code",
   "execution_count": 94,
   "id": "889d25c6",
   "metadata": {},
   "outputs": [],
   "source": [
    "model =  linear_model.LinearRegression()"
   ]
  },
  {
   "cell_type": "code",
   "execution_count": 95,
   "id": "d70738d5",
   "metadata": {},
   "outputs": [],
   "source": [
    "# Bundle preprocessing and modeling code in a pipeline\n",
    "my_pipeline = Pipeline(steps=[('preprocessor', preprocessor),\n",
    "                              ('model', model)])"
   ]
  },
  {
   "cell_type": "code",
   "execution_count": 96,
   "id": "bd96eb77",
   "metadata": {},
   "outputs": [
    {
     "data": {
      "text/html": [
       "<style>#sk-container-id-1 {color: black;background-color: white;}#sk-container-id-1 pre{padding: 0;}#sk-container-id-1 div.sk-toggleable {background-color: white;}#sk-container-id-1 label.sk-toggleable__label {cursor: pointer;display: block;width: 100%;margin-bottom: 0;padding: 0.3em;box-sizing: border-box;text-align: center;}#sk-container-id-1 label.sk-toggleable__label-arrow:before {content: \"▸\";float: left;margin-right: 0.25em;color: #696969;}#sk-container-id-1 label.sk-toggleable__label-arrow:hover:before {color: black;}#sk-container-id-1 div.sk-estimator:hover label.sk-toggleable__label-arrow:before {color: black;}#sk-container-id-1 div.sk-toggleable__content {max-height: 0;max-width: 0;overflow: hidden;text-align: left;background-color: #f0f8ff;}#sk-container-id-1 div.sk-toggleable__content pre {margin: 0.2em;color: black;border-radius: 0.25em;background-color: #f0f8ff;}#sk-container-id-1 input.sk-toggleable__control:checked~div.sk-toggleable__content {max-height: 200px;max-width: 100%;overflow: auto;}#sk-container-id-1 input.sk-toggleable__control:checked~label.sk-toggleable__label-arrow:before {content: \"▾\";}#sk-container-id-1 div.sk-estimator input.sk-toggleable__control:checked~label.sk-toggleable__label {background-color: #d4ebff;}#sk-container-id-1 div.sk-label input.sk-toggleable__control:checked~label.sk-toggleable__label {background-color: #d4ebff;}#sk-container-id-1 input.sk-hidden--visually {border: 0;clip: rect(1px 1px 1px 1px);clip: rect(1px, 1px, 1px, 1px);height: 1px;margin: -1px;overflow: hidden;padding: 0;position: absolute;width: 1px;}#sk-container-id-1 div.sk-estimator {font-family: monospace;background-color: #f0f8ff;border: 1px dotted black;border-radius: 0.25em;box-sizing: border-box;margin-bottom: 0.5em;}#sk-container-id-1 div.sk-estimator:hover {background-color: #d4ebff;}#sk-container-id-1 div.sk-parallel-item::after {content: \"\";width: 100%;border-bottom: 1px solid gray;flex-grow: 1;}#sk-container-id-1 div.sk-label:hover label.sk-toggleable__label {background-color: #d4ebff;}#sk-container-id-1 div.sk-serial::before {content: \"\";position: absolute;border-left: 1px solid gray;box-sizing: border-box;top: 0;bottom: 0;left: 50%;z-index: 0;}#sk-container-id-1 div.sk-serial {display: flex;flex-direction: column;align-items: center;background-color: white;padding-right: 0.2em;padding-left: 0.2em;position: relative;}#sk-container-id-1 div.sk-item {position: relative;z-index: 1;}#sk-container-id-1 div.sk-parallel {display: flex;align-items: stretch;justify-content: center;background-color: white;position: relative;}#sk-container-id-1 div.sk-item::before, #sk-container-id-1 div.sk-parallel-item::before {content: \"\";position: absolute;border-left: 1px solid gray;box-sizing: border-box;top: 0;bottom: 0;left: 50%;z-index: -1;}#sk-container-id-1 div.sk-parallel-item {display: flex;flex-direction: column;z-index: 1;position: relative;background-color: white;}#sk-container-id-1 div.sk-parallel-item:first-child::after {align-self: flex-end;width: 50%;}#sk-container-id-1 div.sk-parallel-item:last-child::after {align-self: flex-start;width: 50%;}#sk-container-id-1 div.sk-parallel-item:only-child::after {width: 0;}#sk-container-id-1 div.sk-dashed-wrapped {border: 1px dashed gray;margin: 0 0.4em 0.5em 0.4em;box-sizing: border-box;padding-bottom: 0.4em;background-color: white;}#sk-container-id-1 div.sk-label label {font-family: monospace;font-weight: bold;display: inline-block;line-height: 1.2em;}#sk-container-id-1 div.sk-label-container {text-align: center;}#sk-container-id-1 div.sk-container {/* jupyter's `normalize.less` sets `[hidden] { display: none; }` but bootstrap.min.css set `[hidden] { display: none !important; }` so we also need the `!important` here to be able to override the default hidden behavior on the sphinx rendered scikit-learn.org. See: https://github.com/scikit-learn/scikit-learn/issues/21755 */display: inline-block !important;position: relative;}#sk-container-id-1 div.sk-text-repr-fallback {display: none;}</style><div id=\"sk-container-id-1\" class=\"sk-top-container\"><div class=\"sk-text-repr-fallback\"><pre>Pipeline(steps=[(&#x27;preprocessor&#x27;,\n",
       "                 ColumnTransformer(transformers=[(&#x27;num&#x27;,\n",
       "                                                  Pipeline(steps=[(&#x27;imputer_num&#x27;,\n",
       "                                                                   SimpleImputer(strategy=&#x27;constant&#x27;)),\n",
       "                                                                  (&#x27;std_scaler&#x27;,\n",
       "                                                                   StandardScaler())]),\n",
       "                                                  [&#x27;area&#x27;, &#x27;numbers_of_rooms&#x27;,\n",
       "                                                   &#x27;amount_of_rent&#x27;,\n",
       "                                                   &#x27;balcon_garden_terrace_dummy_Zapytaj&#x27;,\n",
       "                                                   &#x27;balcon_garden_terrace_dummy_balkon&#x27;,\n",
       "                                                   &#x27;balcon_garden_terrace_dummy_ogrodek&#x27;,\n",
       "                                                   &#x27;balcon_garden_terrac...\n",
       "                                                                  (&#x27;onehot&#x27;,\n",
       "                                                                   OneHotEncoder(handle_unknown=&#x27;ignore&#x27;))]),\n",
       "                                                  [&#x27;property_ownership&#x27;,\n",
       "                                                   &#x27;condition_of_property&#x27;,\n",
       "                                                   &#x27;floor&#x27;, &#x27;parking_space&#x27;,\n",
       "                                                   &#x27;type_of_heating&#x27;,\n",
       "                                                   &#x27;primary_secondary&#x27;,\n",
       "                                                   &#x27;seller&#x27;,\n",
       "                                                   &#x27;year_of_construction&#x27;,\n",
       "                                                   &#x27;type_of_development&#x27;,\n",
       "                                                   &#x27;window&#x27;, &#x27;lift&#x27;,\n",
       "                                                   &#x27;home_furnishings&#x27;,\n",
       "                                                   &#x27;additional_info&#x27;,\n",
       "                                                   &#x27;bulding_material&#x27;,\n",
       "                                                   &#x27;number_of_floors&#x27;,\n",
       "                                                   &#x27;district&#x27;])])),\n",
       "                (&#x27;model&#x27;, LinearRegression())])</pre><b>In a Jupyter environment, please rerun this cell to show the HTML representation or trust the notebook. <br />On GitHub, the HTML representation is unable to render, please try loading this page with nbviewer.org.</b></div><div class=\"sk-container\" hidden><div class=\"sk-item sk-dashed-wrapped\"><div class=\"sk-label-container\"><div class=\"sk-label sk-toggleable\"><input class=\"sk-toggleable__control sk-hidden--visually\" id=\"sk-estimator-id-1\" type=\"checkbox\" ><label for=\"sk-estimator-id-1\" class=\"sk-toggleable__label sk-toggleable__label-arrow\">Pipeline</label><div class=\"sk-toggleable__content\"><pre>Pipeline(steps=[(&#x27;preprocessor&#x27;,\n",
       "                 ColumnTransformer(transformers=[(&#x27;num&#x27;,\n",
       "                                                  Pipeline(steps=[(&#x27;imputer_num&#x27;,\n",
       "                                                                   SimpleImputer(strategy=&#x27;constant&#x27;)),\n",
       "                                                                  (&#x27;std_scaler&#x27;,\n",
       "                                                                   StandardScaler())]),\n",
       "                                                  [&#x27;area&#x27;, &#x27;numbers_of_rooms&#x27;,\n",
       "                                                   &#x27;amount_of_rent&#x27;,\n",
       "                                                   &#x27;balcon_garden_terrace_dummy_Zapytaj&#x27;,\n",
       "                                                   &#x27;balcon_garden_terrace_dummy_balkon&#x27;,\n",
       "                                                   &#x27;balcon_garden_terrace_dummy_ogrodek&#x27;,\n",
       "                                                   &#x27;balcon_garden_terrac...\n",
       "                                                                  (&#x27;onehot&#x27;,\n",
       "                                                                   OneHotEncoder(handle_unknown=&#x27;ignore&#x27;))]),\n",
       "                                                  [&#x27;property_ownership&#x27;,\n",
       "                                                   &#x27;condition_of_property&#x27;,\n",
       "                                                   &#x27;floor&#x27;, &#x27;parking_space&#x27;,\n",
       "                                                   &#x27;type_of_heating&#x27;,\n",
       "                                                   &#x27;primary_secondary&#x27;,\n",
       "                                                   &#x27;seller&#x27;,\n",
       "                                                   &#x27;year_of_construction&#x27;,\n",
       "                                                   &#x27;type_of_development&#x27;,\n",
       "                                                   &#x27;window&#x27;, &#x27;lift&#x27;,\n",
       "                                                   &#x27;home_furnishings&#x27;,\n",
       "                                                   &#x27;additional_info&#x27;,\n",
       "                                                   &#x27;bulding_material&#x27;,\n",
       "                                                   &#x27;number_of_floors&#x27;,\n",
       "                                                   &#x27;district&#x27;])])),\n",
       "                (&#x27;model&#x27;, LinearRegression())])</pre></div></div></div><div class=\"sk-serial\"><div class=\"sk-item sk-dashed-wrapped\"><div class=\"sk-label-container\"><div class=\"sk-label sk-toggleable\"><input class=\"sk-toggleable__control sk-hidden--visually\" id=\"sk-estimator-id-2\" type=\"checkbox\" ><label for=\"sk-estimator-id-2\" class=\"sk-toggleable__label sk-toggleable__label-arrow\">preprocessor: ColumnTransformer</label><div class=\"sk-toggleable__content\"><pre>ColumnTransformer(transformers=[(&#x27;num&#x27;,\n",
       "                                 Pipeline(steps=[(&#x27;imputer_num&#x27;,\n",
       "                                                  SimpleImputer(strategy=&#x27;constant&#x27;)),\n",
       "                                                 (&#x27;std_scaler&#x27;,\n",
       "                                                  StandardScaler())]),\n",
       "                                 [&#x27;area&#x27;, &#x27;numbers_of_rooms&#x27;, &#x27;amount_of_rent&#x27;,\n",
       "                                  &#x27;balcon_garden_terrace_dummy_Zapytaj&#x27;,\n",
       "                                  &#x27;balcon_garden_terrace_dummy_balkon&#x27;,\n",
       "                                  &#x27;balcon_garden_terrace_dummy_ogrodek&#x27;,\n",
       "                                  &#x27;balcon_garden_terrace_dummy_taras&#x27;,\n",
       "                                  &#x27;utilities_dummy_...\n",
       "                                                  SimpleImputer(strategy=&#x27;most_frequent&#x27;)),\n",
       "                                                 (&#x27;onehot&#x27;,\n",
       "                                                  OneHotEncoder(handle_unknown=&#x27;ignore&#x27;))]),\n",
       "                                 [&#x27;property_ownership&#x27;, &#x27;condition_of_property&#x27;,\n",
       "                                  &#x27;floor&#x27;, &#x27;parking_space&#x27;, &#x27;type_of_heating&#x27;,\n",
       "                                  &#x27;primary_secondary&#x27;, &#x27;seller&#x27;,\n",
       "                                  &#x27;year_of_construction&#x27;, &#x27;type_of_development&#x27;,\n",
       "                                  &#x27;window&#x27;, &#x27;lift&#x27;, &#x27;home_furnishings&#x27;,\n",
       "                                  &#x27;additional_info&#x27;, &#x27;bulding_material&#x27;,\n",
       "                                  &#x27;number_of_floors&#x27;, &#x27;district&#x27;])])</pre></div></div></div><div class=\"sk-parallel\"><div class=\"sk-parallel-item\"><div class=\"sk-item\"><div class=\"sk-label-container\"><div class=\"sk-label sk-toggleable\"><input class=\"sk-toggleable__control sk-hidden--visually\" id=\"sk-estimator-id-3\" type=\"checkbox\" ><label for=\"sk-estimator-id-3\" class=\"sk-toggleable__label sk-toggleable__label-arrow\">num</label><div class=\"sk-toggleable__content\"><pre>[&#x27;area&#x27;, &#x27;numbers_of_rooms&#x27;, &#x27;amount_of_rent&#x27;, &#x27;balcon_garden_terrace_dummy_Zapytaj&#x27;, &#x27;balcon_garden_terrace_dummy_balkon&#x27;, &#x27;balcon_garden_terrace_dummy_ogrodek&#x27;, &#x27;balcon_garden_terrace_dummy_taras&#x27;, &#x27;utilities_dummy_brak_informacji&#x27;, &#x27;utilities_dummy_gaz&#x27;, &#x27;utilities_dummy_internet&#x27;, &#x27;utilities_dummy_kanalizacja&#x27;, &#x27;utilities_dummy_prad&#x27;, &#x27;utilities_dummy_telefon&#x27;, &#x27;utilities_dummy_telewizja_kablowa&#x27;, &#x27;utilities_dummy_woda&#x27;, &#x27;security_dummy_brak_informacji&#x27;, &#x27;security_dummy_domofon_/_wideofon&#x27;, &#x27;security_dummy_drzwi_/_okna_antywlamaniowe&#x27;, &#x27;security_dummy_monitoring_/_ochrona&#x27;, &#x27;security_dummy_rolety_antywlamaniowe&#x27;, &#x27;security_dummy_system_alarmowy&#x27;, &#x27;security_dummy_teren_zamkniety&#x27;]</pre></div></div></div><div class=\"sk-serial\"><div class=\"sk-item\"><div class=\"sk-serial\"><div class=\"sk-item\"><div class=\"sk-estimator sk-toggleable\"><input class=\"sk-toggleable__control sk-hidden--visually\" id=\"sk-estimator-id-4\" type=\"checkbox\" ><label for=\"sk-estimator-id-4\" class=\"sk-toggleable__label sk-toggleable__label-arrow\">SimpleImputer</label><div class=\"sk-toggleable__content\"><pre>SimpleImputer(strategy=&#x27;constant&#x27;)</pre></div></div></div><div class=\"sk-item\"><div class=\"sk-estimator sk-toggleable\"><input class=\"sk-toggleable__control sk-hidden--visually\" id=\"sk-estimator-id-5\" type=\"checkbox\" ><label for=\"sk-estimator-id-5\" class=\"sk-toggleable__label sk-toggleable__label-arrow\">StandardScaler</label><div class=\"sk-toggleable__content\"><pre>StandardScaler()</pre></div></div></div></div></div></div></div></div><div class=\"sk-parallel-item\"><div class=\"sk-item\"><div class=\"sk-label-container\"><div class=\"sk-label sk-toggleable\"><input class=\"sk-toggleable__control sk-hidden--visually\" id=\"sk-estimator-id-6\" type=\"checkbox\" ><label for=\"sk-estimator-id-6\" class=\"sk-toggleable__label sk-toggleable__label-arrow\">cat</label><div class=\"sk-toggleable__content\"><pre>[&#x27;property_ownership&#x27;, &#x27;condition_of_property&#x27;, &#x27;floor&#x27;, &#x27;parking_space&#x27;, &#x27;type_of_heating&#x27;, &#x27;primary_secondary&#x27;, &#x27;seller&#x27;, &#x27;year_of_construction&#x27;, &#x27;type_of_development&#x27;, &#x27;window&#x27;, &#x27;lift&#x27;, &#x27;home_furnishings&#x27;, &#x27;additional_info&#x27;, &#x27;bulding_material&#x27;, &#x27;number_of_floors&#x27;, &#x27;district&#x27;]</pre></div></div></div><div class=\"sk-serial\"><div class=\"sk-item\"><div class=\"sk-serial\"><div class=\"sk-item\"><div class=\"sk-estimator sk-toggleable\"><input class=\"sk-toggleable__control sk-hidden--visually\" id=\"sk-estimator-id-7\" type=\"checkbox\" ><label for=\"sk-estimator-id-7\" class=\"sk-toggleable__label sk-toggleable__label-arrow\">SimpleImputer</label><div class=\"sk-toggleable__content\"><pre>SimpleImputer(strategy=&#x27;most_frequent&#x27;)</pre></div></div></div><div class=\"sk-item\"><div class=\"sk-estimator sk-toggleable\"><input class=\"sk-toggleable__control sk-hidden--visually\" id=\"sk-estimator-id-8\" type=\"checkbox\" ><label for=\"sk-estimator-id-8\" class=\"sk-toggleable__label sk-toggleable__label-arrow\">OneHotEncoder</label><div class=\"sk-toggleable__content\"><pre>OneHotEncoder(handle_unknown=&#x27;ignore&#x27;)</pre></div></div></div></div></div></div></div></div></div></div><div class=\"sk-item\"><div class=\"sk-estimator sk-toggleable\"><input class=\"sk-toggleable__control sk-hidden--visually\" id=\"sk-estimator-id-9\" type=\"checkbox\" ><label for=\"sk-estimator-id-9\" class=\"sk-toggleable__label sk-toggleable__label-arrow\">LinearRegression</label><div class=\"sk-toggleable__content\"><pre>LinearRegression()</pre></div></div></div></div></div></div></div>"
      ],
      "text/plain": [
       "Pipeline(steps=[('preprocessor',\n",
       "                 ColumnTransformer(transformers=[('num',\n",
       "                                                  Pipeline(steps=[('imputer_num',\n",
       "                                                                   SimpleImputer(strategy='constant')),\n",
       "                                                                  ('std_scaler',\n",
       "                                                                   StandardScaler())]),\n",
       "                                                  ['area', 'numbers_of_rooms',\n",
       "                                                   'amount_of_rent',\n",
       "                                                   'balcon_garden_terrace_dummy_Zapytaj',\n",
       "                                                   'balcon_garden_terrace_dummy_balkon',\n",
       "                                                   'balcon_garden_terrace_dummy_ogrodek',\n",
       "                                                   'balcon_garden_terrac...\n",
       "                                                                  ('onehot',\n",
       "                                                                   OneHotEncoder(handle_unknown='ignore'))]),\n",
       "                                                  ['property_ownership',\n",
       "                                                   'condition_of_property',\n",
       "                                                   'floor', 'parking_space',\n",
       "                                                   'type_of_heating',\n",
       "                                                   'primary_secondary',\n",
       "                                                   'seller',\n",
       "                                                   'year_of_construction',\n",
       "                                                   'type_of_development',\n",
       "                                                   'window', 'lift',\n",
       "                                                   'home_furnishings',\n",
       "                                                   'additional_info',\n",
       "                                                   'bulding_material',\n",
       "                                                   'number_of_floors',\n",
       "                                                   'district'])])),\n",
       "                ('model', LinearRegression())])"
      ]
     },
     "execution_count": 96,
     "metadata": {},
     "output_type": "execute_result"
    }
   ],
   "source": [
    "# Preprocessing of training data, fit model \n",
    "my_pipeline.fit(X_train, y_train)"
   ]
  },
  {
   "cell_type": "code",
   "execution_count": 97,
   "id": "115c640c",
   "metadata": {},
   "outputs": [
    {
     "data": {
      "image/png": "[encoded data removed]",
      "text/plain": [
       "<Figure size 800x550 with 1 Axes>"
      ]
     },
     "metadata": {},
     "output_type": "display_data"
    }
   ],
   "source": [
    "#Visualising the pollynomial regression model results\n",
    "X_grid=np.arange(min(X_valid[\"area\"]),max(X_valid[\"area\"]),0.1)\n",
    "X_grid=X_grid.reshape((len(X_grid),1))\n",
    "plt.scatter(X_valid[\"area\"], y_valid, color='red')\n",
    "plt.scatter(X_valid[\"area\"], my_pipeline.predict(X_valid),color='blue')\n",
    "\n",
    "plt.show()"
   ]
  },
  {
   "cell_type": "code",
   "execution_count": 98,
   "id": "feef4876",
   "metadata": {},
   "outputs": [
    {
     "name": "stdout",
     "output_type": "stream",
     "text": [
      "MAE: 56515.43533726011\n",
      "Coefficient of determination: 0.81\n"
     ]
    }
   ],
   "source": [
    "# The coefficient of determination: 1 is perfect prediction\n",
    "print('MAE: '+ str(mean_absolute_error(y_train, my_pipeline.predict(X_train))))\n",
    "print(\"Coefficient of determination: %.2f\" % r2_score(y_train, my_pipeline.predict(X_train)))\n"
   ]
  },
  {
   "cell_type": "code",
   "execution_count": 99,
   "id": "f3113ca9",
   "metadata": {},
   "outputs": [
    {
     "name": "stdout",
     "output_type": "stream",
     "text": [
      "MAE: 60128.262785902814\n",
      "Coefficient of determination: 0.78\n"
     ]
    }
   ],
   "source": [
    "# The coefficient of determination: 1 is perfect prediction\n",
    "print('MAE: '+ str(mean_absolute_error(y_valid, my_pipeline.predict(X_valid))))\n",
    "print(\"Coefficient of determination: %.2f\" % r2_score(y_valid, my_pipeline.predict(X_valid)))"
   ]
  },
  {
   "cell_type": "code",
   "execution_count": null,
   "id": "d8cd0175",
   "metadata": {},
   "outputs": [],
   "source": [
    "Ten wynik będzie punktem odniesienia"
   ]
  },
  {
   "cell_type": "code",
   "execution_count": null,
   "id": "72a6a865",
   "metadata": {},
   "outputs": [],
   "source": [
    "# #Przy wzięciu wszystkich kolumn do regresji wynik:\n",
    "\n",
    "# 1) zbiór testowy:\n",
    "#     MAE: 62106.07249492351\n",
    "#     Coefficient of determination: 0.76\n",
    "\n",
    "# 2) zbiór walidacyjny:\n",
    "#     MAE: 62291.17999380009\n",
    "#     Coefficient of determination: 0.76"
   ]
  },
  {
   "cell_type": "code",
   "execution_count": null,
   "id": "7c673d2b",
   "metadata": {},
   "outputs": [],
   "source": []
  },
  {
   "cell_type": "code",
   "execution_count": null,
   "id": "5e12fa4c",
   "metadata": {},
   "outputs": [],
   "source": []
  }
 ],
 "metadata": {
  "kernelspec": {
   "display_name": "Python 3 (ipykernel)",
   "language": "python",
   "name": "python3"
  },
  "language_info": {
   "codemirror_mode": {
    "name": "ipython",
    "version": 3
   },
   "file_extension": ".py",
   "mimetype": "text/x-python",
   "name": "python",
   "nbconvert_exporter": "python",
   "pygments_lexer": "ipython3",
   "version": "3.11.1"
  }
 },
 "nbformat": 4,
 "nbformat_minor": 5
}
